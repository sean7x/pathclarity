{
 "cells": [
  {
   "cell_type": "code",
   "execution_count": 1,
   "metadata": {},
   "outputs": [],
   "source": [
    "import os\n",
    "import pandas as pd\n",
    "from itertools import islice\n",
    "import re"
   ]
  },
  {
   "cell_type": "markdown",
   "metadata": {},
   "source": [
    "### 1 - Load and parse raw OPD data files"
   ]
  },
  {
   "cell_type": "code",
   "execution_count": 2,
   "metadata": {},
   "outputs": [
    {
     "name": "stdout",
     "output_type": "stream",
     "text": [
      "Helper files to be loaded: \n",
      "['../data/raw/opd2006.sps', '../data/raw/opd2007.sps', '../data/raw/opd2008.sps', '../data/raw/opd2009.sps', '../data/raw/opd2010.sps', '../data/raw/opd2011.sps']\n",
      "\n",
      "Parsing and converting `../data/raw/OPD2006`\n",
      "...\n",
      "`../data/interim/opd2006.parquet` exported\n",
      "\n",
      "Parsing and converting `../data/raw/OPD2007`\n",
      "...\n",
      "`../data/interim/opd2007.parquet` exported\n",
      "\n",
      "Parsing and converting `../data/raw/OPD2008`\n",
      "...\n",
      "`../data/interim/opd2008.parquet` exported\n",
      "\n",
      "Parsing and converting `../data/raw/OPD2009`\n",
      "...\n",
      "`../data/interim/opd2009.parquet` exported\n",
      "\n",
      "Parsing and converting `../data/raw/OPD2010`\n",
      "...\n",
      "`../data/interim/opd2010.parquet` exported\n",
      "\n",
      "Parsing and converting `../data/raw/OPD2011`\n",
      "...\n",
      "`../data/interim/opd2011.parquet` exported\n",
      "\n"
     ]
    }
   ],
   "source": [
    "input_dir = os.path.join('..', 'data', 'raw')\n",
    "output_dir = os.path.join('..', 'data', 'interim')\n",
    "\n",
    "# Get all .sps files in the input directory as helper files for parsing the raw OPD data files\n",
    "helper_files = [os.path.join(input_dir, f) for f in sorted(os.listdir(input_dir)) if f.endswith('.sps')]\n",
    "print(f'Helper files to be loaded: \\n{helper_files}\\n')\n",
    "\n",
    "for f in helper_files:\n",
    "    year = re.search(r'\\d{4}', f).group()\n",
    "    \n",
    "    ## Load the helper file into a pandas DataFrame\n",
    "\n",
    "    with open(f, 'r', encoding='windows-1252') as file:\n",
    "        # Keep the trunk after 'DATA LIST...' and before the first '.'\n",
    "        for i, line in enumerate(file):\n",
    "            if line.startswith('DATA LIST'):\n",
    "                start = i + 1\n",
    "            if line.startswith('.'):\n",
    "                end = i\n",
    "                break\n",
    "        \n",
    "        # Reset the file pointer to the beginning of the file\n",
    "        file.seek(0)\n",
    "\n",
    "        helper = list(islice(file, start, end))\n",
    "        helper = [line.strip() for line in helper]\n",
    "\n",
    "    # Convert the helper to a DataFrame, split each line by the first whitespace\n",
    "    helper = pd.DataFrame([line.replace(' (A)', '').split(maxsplit=1) for line in helper]).rename(columns={0:'name', 1: 'range'})\n",
    "\n",
    "    # Remove the rows that ends with digits followed by 'D'\n",
    "    helper = helper[~helper['name'].str.contains(r'\\dD$')].reset_index().drop(columns='index')\n",
    "\n",
    "    # Remove the space in the range column\n",
    "    helper['range'] = helper['range'].str.replace(' ', '')\n",
    "\n",
    "    # Add in 'BLANK' variables for 2009\n",
    "    if year == '2009':\n",
    "        helper.loc[len(helper)] = ['BLANK1', '79-80']\n",
    "        helper.loc[len(helper)] = ['BLANK2', '159']\n",
    "        helper.loc[len(helper)] = ['BLANK3', '300-301']\n",
    "\n",
    "    # Split the range into start and end, fill the end with the start if the range is a single number\n",
    "    helper['start'] = helper['range'].apply(lambda x: eval(x.split('-')[0]))\n",
    "    helper['end'] = helper['range'].apply(lambda x: eval(x.split('-')[1]) if ('-' in x) else eval(x.split('-')[0]))\n",
    "\n",
    "    # Get the width of each variable\n",
    "    helper['width'] = helper['range'].apply(lambda x: abs(eval(x)) + 1 if ('-' in x) else 1)\n",
    "\n",
    "    # Sort the helper by the start column and reset the index\n",
    "    helper = helper.sort_values('start').reset_index().drop(columns='index')\n",
    "\n",
    "    ## Load the raw OPD data file into a pandas DataFrame using the helper\n",
    "    opd_file = os.path.join(input_dir, f'OPD{year}')\n",
    "    print(f'Parsing and converting `{opd_file}`')\n",
    "    print('...')\n",
    "\n",
    "    opd_df = pd.read_fwf(opd_file, widths=helper['width'], names=helper['name'], header=None)\n",
    "\n",
    "    # Save the parsed OPD data to the interim directory\n",
    "    output_file = os.path.join(output_dir, f'opd{year}.parquet')\n",
    "    opd_df.to_parquet(output_file)\n",
    "    print(f'`{output_file}` exported\\n')\n",
    "        "
   ]
  }
 ],
 "metadata": {
  "kernelspec": {
   "display_name": "base",
   "language": "python",
   "name": "python3"
  },
  "language_info": {
   "codemirror_mode": {
    "name": "ipython",
    "version": 3
   },
   "file_extension": ".py",
   "mimetype": "text/x-python",
   "name": "python",
   "nbconvert_exporter": "python",
   "pygments_lexer": "ipython3",
   "version": "3.11.6"
  }
 },
 "nbformat": 4,
 "nbformat_minor": 2
}
