{
 "cells": [
  {
   "cell_type": "code",
   "execution_count": 1,
   "metadata": {},
   "outputs": [],
   "source": [
    "import pandas as pd\n",
    "import os"
   ]
  },
  {
   "cell_type": "markdown",
   "metadata": {},
   "source": [
    "### 1 - Load and concatenate all the CSV files\n",
    "The empty columns will be dropped"
   ]
  },
  {
   "cell_type": "code",
   "execution_count": 2,
   "metadata": {},
   "outputs": [],
   "source": [
    "# Load all CSV files from `../data/interim` into a list of DataFrames\n",
    "# Add a new column to each DataFrame with the name of the file\n",
    "csv_path = os.path.join('..', 'data', 'interim')\n",
    "dfs = []\n",
    "\n",
    "for f in os.listdir(csv_path):\n",
    "    if f.endswith('.csv'):\n",
    "        df = pd.read_csv(os.path.join(csv_path, f))\n",
    "        df['file'] = f\n",
    "        dfs.append(df)"
   ]
  },
  {
   "cell_type": "code",
   "execution_count": 3,
   "metadata": {},
   "outputs": [
    {
     "name": "stdout",
     "output_type": "stream",
     "text": [
      "(33551, 404)\n",
      "(33908, 413)\n",
      "(35105, 408)\n",
      "(34473, 413)\n",
      "(32233, 447)\n",
      "(34718, 429)\n",
      "\n",
      "['PROC42D', 'RACERFL', 'SERVICES', 'PROC5R', 'PROC8R', 'PROC1', 'PROC6R', 'RETINAL', 'PROC8', 'FAMPLAN', 'PROC53D', 'ERADMHOS', 'SPLINT', 'PROC82D', 'PROC4', 'PROC73D', 'TOTSERV', 'PROC3', 'PROC72D', 'PROC92D', 'PROC9R', 'PROC6', 'PROC9', 'PROC1R', 'PROC5', 'PROC93D', 'PROC7R', 'EXAM', 'FOOT', 'PROC4R', 'PROC43D', 'PROC22D', 'PROC12D', 'HIVTEST', 'PROC2', 'PROC23D', 'PROC83D', 'RACERETH', 'PROC62D', 'PROC13D', 'PROC3R', 'PROC7', 'PROC32D', 'PROC33D', 'PROC63D', 'PROC2R', 'PROC52D', 'OTHSERV', 'CAST']\n",
      "['PROC42D', 'RACERFL', 'SERVICES', 'PROC5R', 'PROC8R', 'PROC1', 'PROC6R', 'RETINAL', 'ECHOCARD', 'ETHIM', 'PROC8', 'EPROLSTO', 'FAMPLAN', 'PROC53D', 'ERADMHOS', 'SPLINT', 'PROC82D', 'PROC4', 'PROC73D', 'OTHULTRA', 'TOTSERV', 'PROC3', 'PROC92D', 'PROC72D', 'PROC9R', 'PROC6', 'PROC9', 'PROC1R', 'PROC5', 'PROC93D', 'PROC7R', 'EXAM', 'FOOT', 'PROC4R', 'CATSCAN', 'PROC43D', 'PROC22D', 'PROC12D', 'PREGTEST', 'HIVTEST', 'PROC2', 'PROC23D', 'ETHUN', 'PAYTYPER', 'PROC83D', 'RACERETH', 'PROC62D', 'PROC13D', 'MHP', 'PROC3R', 'PROC7', 'PROC32D', 'RACEUN', 'PROC33D', 'PROC63D', 'PROC2R', 'PROC52D', 'OTHSERV', 'CAST']\n",
      "['PROC42D', 'RACERFL', 'SERVICES', 'PROC5R', 'PROC8R', 'PROC1', 'PROC6R', 'RETINAL', 'PROC8', 'FAMPLAN', 'PROC53D', 'ERADMHOS', 'SPLINT', 'PROC82D', 'PROC4', 'PROC73D', 'TOTSERV', 'PROC3', 'PROC72D', 'PROC92D', 'PROC9R', 'PROC6', 'PROC9', 'PROC1R', 'PROC5', 'PROC93D', 'PROC7R', 'EXAM', 'FOOT', 'PROC4R', 'PROC43D', 'PROC22D', 'PROC12D', 'HIVTEST', 'PROC2', 'PROC23D', 'PAYTYPER', 'PROC83D', 'RACERETH', 'PROC62D', 'PROC13D', 'PROC3R', 'PROC7', 'PROC32D', 'PROC33D', 'PROC63D', 'PROC2R', 'PROC52D', 'OTHSERV', 'CAST']\n",
      "['PAPUNSP', 'VYEAR', 'ERANGEO', 'PAPLIQ', 'HINCOMER', 'CCS', 'EIMAGEO', 'EMRNEWO', 'PCTPOVR', 'URBANRUR', 'PAPCONV', 'EHXFUO', 'EPUBHTHO', 'PBAMORER']\n",
      "['VYEAR', 'EIMAGEO', 'EMRNEWO', 'EPUBHTHO', 'EHXFUO', 'ENOTDISO']\n"
     ]
    }
   ],
   "source": [
    "# Check the dimension of each DataFrame\n",
    "dims = [df.shape for df in dfs]\n",
    "\n",
    "for i in range(len(dims)):\n",
    "    print(dims[i])\n",
    "\n",
    "\n",
    "print()\n",
    "\n",
    "# Check the columns of each DataFrame and check the differences\n",
    "columns = [df.columns for df in dfs]\n",
    "diffs = [list(set(columns[0]) - set(col)) for col in columns[1:]]\n",
    "\n",
    "for i in range(len(diffs)):\n",
    "    print(diffs[i])"
   ]
  },
  {
   "cell_type": "code",
   "execution_count": 4,
   "metadata": {},
   "outputs": [
    {
     "name": "stdout",
     "output_type": "stream",
     "text": [
      "The shape of the concatenated DataFrame is:\n",
      "(203988, 544)\n",
      "\n",
      "The shape of the DataFrame after dropping columns with all NaN values is:\n",
      "(203988, 532)\n"
     ]
    }
   ],
   "source": [
    "# Concatenate all DataFrames into a single DataFrame\n",
    "df = pd.concat(dfs, ignore_index=True)\n",
    "print('The shape of the concatenated DataFrame is:')\n",
    "print(df.shape)\n",
    "print()\n",
    "\n",
    "# Drop the columns with all NaN values\n",
    "print('The shape of the DataFrame after dropping columns with all NaN values is:')\n",
    "df = df.dropna(axis=1, how='all')\n",
    "print(df.shape)"
   ]
  },
  {
   "cell_type": "markdown",
   "metadata": {},
   "source": [
    "### 2 - Check the distribution of NaN values\n",
    "To get an idea of how to clean the columns"
   ]
  },
  {
   "cell_type": "code",
   "execution_count": 5,
   "metadata": {},
   "outputs": [
    {
     "name": "stdout",
     "output_type": "stream",
     "text": [
      "file      opd2006.csv  opd2007.csv  opd2008.csv  opd2009.csv  opd2010.csv  \\\n",
      "COMSTAT8        33241        31864        31054        30433        31182   \n",
      "CONTSUB8        33241        31864        31054        30433        31182   \n",
      "PRESCR8         33241        31864        31054        30433        31182   \n",
      "PRESCR7         32465        30844        30050        29361        30000   \n",
      "CONTSUB7        32465        30844        30050        29361        30000   \n",
      "...               ...          ...          ...          ...          ...   \n",
      "URBANRUR            0            0            0            0            0   \n",
      "PBAMORER            0            0            0            0            0   \n",
      "CCS                 0            0            0            0            0   \n",
      "HINCOMER            0            0            0            0            0   \n",
      "PASTVIS          1664            0            0            0            0   \n",
      "\n",
      "file      opd2011.csv     sum  \n",
      "COMSTAT8        28841  186615  \n",
      "CONTSUB8        28841  186615  \n",
      "PRESCR8         28841  186615  \n",
      "PRESCR7         27777  180497  \n",
      "CONTSUB7        27777  180497  \n",
      "...               ...     ...  \n",
      "URBANRUR        32233   32233  \n",
      "PBAMORER        32233   32233  \n",
      "CCS             32233   32233  \n",
      "HINCOMER        32233   32233  \n",
      "PASTVIS             0    1664  \n",
      "\n",
      "[228 rows x 7 columns]\n"
     ]
    }
   ],
   "source": [
    "# Group by the `file` column and count the number of NaN values in each group\n",
    "# Drop the columns with zero NaN values\n",
    "# Transpose the resulting DataFrame and add a sum column\n",
    "# Sort the DataFrame by the sum column\n",
    "nan_counts = df.groupby('file').apply(lambda x: x.isna().sum(), include_groups=False)\n",
    "nan_counts = nan_counts.loc[:, (nan_counts != 0).any(axis=0)]\n",
    "nan_counts = nan_counts.T\n",
    "nan_counts['sum'] = nan_counts.sum(axis=1)\n",
    "nan_counts = nan_counts.sort_values(by='sum', ascending=False)\n",
    "print(nan_counts)"
   ]
  },
  {
   "cell_type": "code",
   "execution_count": 6,
   "metadata": {},
   "outputs": [
    {
     "name": "stdout",
     "output_type": "stream",
     "text": [
      "file      opd2006.csv  opd2007.csv  opd2008.csv  opd2009.csv  opd2010.csv  \\\n",
      "PRESCR8      0.946902     0.924318     0.915831     0.907067     0.898151   \n",
      "COMSTAT8     0.946902     0.924318     0.915831     0.907067     0.898151   \n",
      "CONTSUB8     0.946902     0.924318     0.915831     0.907067     0.898151   \n",
      "CONTSUB7     0.924797     0.894729     0.886222     0.875115     0.864105   \n",
      "COMSTAT7     0.924797     0.894729     0.886222     0.875115     0.864105   \n",
      "...               ...          ...          ...          ...          ...   \n",
      "PBAMORER     0.000000     0.000000     0.000000     0.000000     0.000000   \n",
      "URBANRUR     0.000000     0.000000     0.000000     0.000000     0.000000   \n",
      "CCS          0.000000     0.000000     0.000000     0.000000     0.000000   \n",
      "OPDWT        0.993306     0.000000     0.000000     0.000000     0.000000   \n",
      "PASTVIS      0.047401     0.000000     0.000000     0.000000     0.000000   \n",
      "\n",
      "file      opd2011.csv       sum  \n",
      "PRESCR8      0.894766  0.914506  \n",
      "COMSTAT8     0.894766  0.914506  \n",
      "CONTSUB8     0.894766  0.914506  \n",
      "CONTSUB7     0.861757  0.884454  \n",
      "COMSTAT7     0.861757  0.884454  \n",
      "...               ...       ...  \n",
      "PBAMORER     1.000000  0.166667  \n",
      "URBANRUR     1.000000  0.166667  \n",
      "CCS          1.000000  0.166667  \n",
      "OPDWT        0.000000  0.165551  \n",
      "PASTVIS      0.000000  0.007900  \n",
      "\n",
      "[228 rows x 7 columns]\n"
     ]
    }
   ],
   "source": [
    "# Check the percentage of NaN values in each column in each group\n",
    "nan_perc = df.groupby('file').apply(lambda x: x.isna().mean(), include_groups=False)\n",
    "nan_perc = nan_perc.loc[:, (nan_perc != 0).any(axis=0)]\n",
    "nan_perc = nan_perc.T\n",
    "nan_perc['sum'] = nan_perc.sum(axis=1) / len(dfs)\n",
    "nan_perc = nan_perc.sort_values(by='sum', ascending=False)\n",
    "print(nan_perc)"
   ]
  },
  {
   "cell_type": "code",
   "execution_count": 7,
   "metadata": {},
   "outputs": [
    {
     "data": {
      "text/html": [
       "<div>\n",
       "<style scoped>\n",
       "    .dataframe tbody tr th:only-of-type {\n",
       "        vertical-align: middle;\n",
       "    }\n",
       "\n",
       "    .dataframe tbody tr th {\n",
       "        vertical-align: top;\n",
       "    }\n",
       "\n",
       "    .dataframe thead th {\n",
       "        text-align: right;\n",
       "    }\n",
       "</style>\n",
       "<table border=\"1\" class=\"dataframe\">\n",
       "  <thead>\n",
       "    <tr style=\"text-align: right;\">\n",
       "      <th>file</th>\n",
       "      <th>opd2006.csv</th>\n",
       "      <th>opd2007.csv</th>\n",
       "      <th>opd2008.csv</th>\n",
       "      <th>opd2009.csv</th>\n",
       "      <th>opd2010.csv</th>\n",
       "      <th>opd2011.csv</th>\n",
       "    </tr>\n",
       "  </thead>\n",
       "  <tbody>\n",
       "    <tr>\n",
       "      <th>EWHOOTHO</th>\n",
       "      <td>1.0</td>\n",
       "      <td>1.0</td>\n",
       "      <td>1.0</td>\n",
       "      <td>1.0</td>\n",
       "      <td>1.0</td>\n",
       "      <td>0.0</td>\n",
       "    </tr>\n",
       "    <tr>\n",
       "      <th>EXCHSUM4O</th>\n",
       "      <td>1.0</td>\n",
       "      <td>1.0</td>\n",
       "      <td>1.0</td>\n",
       "      <td>1.0</td>\n",
       "      <td>1.0</td>\n",
       "      <td>0.0</td>\n",
       "    </tr>\n",
       "    <tr>\n",
       "      <th>EXCHSUM3O</th>\n",
       "      <td>1.0</td>\n",
       "      <td>1.0</td>\n",
       "      <td>1.0</td>\n",
       "      <td>1.0</td>\n",
       "      <td>1.0</td>\n",
       "      <td>0.0</td>\n",
       "    </tr>\n",
       "    <tr>\n",
       "      <th>EXCHSUM2O</th>\n",
       "      <td>1.0</td>\n",
       "      <td>1.0</td>\n",
       "      <td>1.0</td>\n",
       "      <td>1.0</td>\n",
       "      <td>1.0</td>\n",
       "      <td>0.0</td>\n",
       "    </tr>\n",
       "    <tr>\n",
       "      <th>EXCHSUM1O</th>\n",
       "      <td>1.0</td>\n",
       "      <td>1.0</td>\n",
       "      <td>1.0</td>\n",
       "      <td>1.0</td>\n",
       "      <td>1.0</td>\n",
       "      <td>0.0</td>\n",
       "    </tr>\n",
       "    <tr>\n",
       "      <th>...</th>\n",
       "      <td>...</td>\n",
       "      <td>...</td>\n",
       "      <td>...</td>\n",
       "      <td>...</td>\n",
       "      <td>...</td>\n",
       "      <td>...</td>\n",
       "    </tr>\n",
       "    <tr>\n",
       "      <th>PCTPOVR</th>\n",
       "      <td>0.0</td>\n",
       "      <td>0.0</td>\n",
       "      <td>0.0</td>\n",
       "      <td>0.0</td>\n",
       "      <td>0.0</td>\n",
       "      <td>1.0</td>\n",
       "    </tr>\n",
       "    <tr>\n",
       "      <th>HINCOMER</th>\n",
       "      <td>0.0</td>\n",
       "      <td>0.0</td>\n",
       "      <td>0.0</td>\n",
       "      <td>0.0</td>\n",
       "      <td>0.0</td>\n",
       "      <td>1.0</td>\n",
       "    </tr>\n",
       "    <tr>\n",
       "      <th>PBAMORER</th>\n",
       "      <td>0.0</td>\n",
       "      <td>0.0</td>\n",
       "      <td>0.0</td>\n",
       "      <td>0.0</td>\n",
       "      <td>0.0</td>\n",
       "      <td>1.0</td>\n",
       "    </tr>\n",
       "    <tr>\n",
       "      <th>URBANRUR</th>\n",
       "      <td>0.0</td>\n",
       "      <td>0.0</td>\n",
       "      <td>0.0</td>\n",
       "      <td>0.0</td>\n",
       "      <td>0.0</td>\n",
       "      <td>1.0</td>\n",
       "    </tr>\n",
       "    <tr>\n",
       "      <th>CCS</th>\n",
       "      <td>0.0</td>\n",
       "      <td>0.0</td>\n",
       "      <td>0.0</td>\n",
       "      <td>0.0</td>\n",
       "      <td>0.0</td>\n",
       "      <td>1.0</td>\n",
       "    </tr>\n",
       "  </tbody>\n",
       "</table>\n",
       "<p>202 rows × 6 columns</p>\n",
       "</div>"
      ],
      "text/plain": [
       "file       opd2006.csv  opd2007.csv  opd2008.csv  opd2009.csv  opd2010.csv  \\\n",
       "EWHOOTHO           1.0          1.0          1.0          1.0          1.0   \n",
       "EXCHSUM4O          1.0          1.0          1.0          1.0          1.0   \n",
       "EXCHSUM3O          1.0          1.0          1.0          1.0          1.0   \n",
       "EXCHSUM2O          1.0          1.0          1.0          1.0          1.0   \n",
       "EXCHSUM1O          1.0          1.0          1.0          1.0          1.0   \n",
       "...                ...          ...          ...          ...          ...   \n",
       "PCTPOVR            0.0          0.0          0.0          0.0          0.0   \n",
       "HINCOMER           0.0          0.0          0.0          0.0          0.0   \n",
       "PBAMORER           0.0          0.0          0.0          0.0          0.0   \n",
       "URBANRUR           0.0          0.0          0.0          0.0          0.0   \n",
       "CCS                0.0          0.0          0.0          0.0          0.0   \n",
       "\n",
       "file       opd2011.csv  \n",
       "EWHOOTHO           0.0  \n",
       "EXCHSUM4O          0.0  \n",
       "EXCHSUM3O          0.0  \n",
       "EXCHSUM2O          0.0  \n",
       "EXCHSUM1O          0.0  \n",
       "...                ...  \n",
       "PCTPOVR            1.0  \n",
       "HINCOMER           1.0  \n",
       "PBAMORER           1.0  \n",
       "URBANRUR           1.0  \n",
       "CCS                1.0  \n",
       "\n",
       "[202 rows x 6 columns]"
      ]
     },
     "execution_count": 7,
     "metadata": {},
     "output_type": "execute_result"
    }
   ],
   "source": [
    "# Check the columns that have all NaN values in some file \n",
    "# but less than 50% NaN values in the rest of the files\n",
    "nan_perc.drop('sum', axis=1)[(nan_perc == 1).any(axis=1)]"
   ]
  },
  {
   "cell_type": "code",
   "execution_count": null,
   "metadata": {},
   "outputs": [],
   "source": []
  }
 ],
 "metadata": {
  "kernelspec": {
   "display_name": "base",
   "language": "python",
   "name": "python3"
  },
  "language_info": {
   "codemirror_mode": {
    "name": "ipython",
    "version": 3
   },
   "file_extension": ".py",
   "mimetype": "text/x-python",
   "name": "python",
   "nbconvert_exporter": "python",
   "pygments_lexer": "ipython3",
   "version": "3.11.6"
  }
 },
 "nbformat": 4,
 "nbformat_minor": 2
}
