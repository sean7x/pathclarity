{
 "cells": [
  {
   "cell_type": "code",
   "execution_count": 1,
   "metadata": {},
   "outputs": [
    {
     "data": {
      "text/plain": [
       "DataTransformerRegistry.enable('vegafusion')"
      ]
     },
     "execution_count": 1,
     "metadata": {},
     "output_type": "execute_result"
    }
   ],
   "source": [
    "import pandas as pd\n",
    "import numpy as np\n",
    "import os\n",
    "import json\n",
    "import joblib\n",
    "\n",
    "import altair as alt\n",
    "import vegafusion as vf\n",
    "alt.data_transformers.enable(\"vegafusion\")"
   ]
  },
  {
   "cell_type": "code",
   "execution_count": 2,
   "metadata": {},
   "outputs": [],
   "source": [
    "# Pre-define chart function\n",
    "def chart(df, x, y, title, color=alt.value('steelblue'), width=480, height=320):\n",
    "    return alt.Chart(df).encode(\n",
    "        x=x,\n",
    "        y=y,\n",
    "        color=color,\n",
    "    ).properties(\n",
    "    title=title,\n",
    "    width=width,\n",
    "    height=height,\n",
    ").configure(\n",
    "    axis=alt.AxisConfig(\n",
    "        domain=False, # remove axis line\n",
    "        ticks=False, # remove ticks\n",
    "        labelAngle=0, # rotate labels\n",
    "        labelColor='gray', # color of labels\n",
    "        labelFontSize=10,\n",
    "    ),\n",
    "    font='Helvetica Neue',\n",
    "    view=alt.ViewConfig(stroke=None), # remove border\n",
    ")"
   ]
  },
  {
   "cell_type": "markdown",
   "metadata": {},
   "source": [
    "## 1 - Load the training data"
   ]
  },
  {
   "cell_type": "code",
   "execution_count": 3,
   "metadata": {},
   "outputs": [
    {
     "data": {
      "text/html": [
       "<div>\n",
       "<style scoped>\n",
       "    .dataframe tbody tr th:only-of-type {\n",
       "        vertical-align: middle;\n",
       "    }\n",
       "\n",
       "    .dataframe tbody tr th {\n",
       "        vertical-align: top;\n",
       "    }\n",
       "\n",
       "    .dataframe thead th {\n",
       "        text-align: right;\n",
       "    }\n",
       "</style>\n",
       "<table border=\"1\" class=\"dataframe\">\n",
       "  <thead>\n",
       "    <tr style=\"text-align: right;\">\n",
       "      <th></th>\n",
       "      <th>file</th>\n",
       "      <th>VMONTH</th>\n",
       "      <th>VYEAR</th>\n",
       "      <th>VDAYR</th>\n",
       "      <th>AGE</th>\n",
       "      <th>AGER</th>\n",
       "      <th>SEX</th>\n",
       "      <th>ETHNIC</th>\n",
       "      <th>RACE</th>\n",
       "      <th>USETOBAC</th>\n",
       "      <th>...</th>\n",
       "      <th>PHYS</th>\n",
       "      <th>PHYSASST</th>\n",
       "      <th>NPNMW</th>\n",
       "      <th>RNLPN</th>\n",
       "      <th>OTHPROV</th>\n",
       "      <th>MHP</th>\n",
       "      <th>REFOTHMD</th>\n",
       "      <th>RETAPPT</th>\n",
       "      <th>OTHDISP</th>\n",
       "      <th>ERADMHOS</th>\n",
       "    </tr>\n",
       "  </thead>\n",
       "  <tbody>\n",
       "    <tr>\n",
       "      <th>0</th>\n",
       "      <td>opd2006</td>\n",
       "      <td>12</td>\n",
       "      <td>2006</td>\n",
       "      <td>6</td>\n",
       "      <td>55</td>\n",
       "      <td>4</td>\n",
       "      <td>2</td>\n",
       "      <td>2</td>\n",
       "      <td>1</td>\n",
       "      <td>1</td>\n",
       "      <td>...</td>\n",
       "      <td>1</td>\n",
       "      <td>0</td>\n",
       "      <td>0</td>\n",
       "      <td>0</td>\n",
       "      <td>0</td>\n",
       "      <td>&lt;NA&gt;</td>\n",
       "      <td>0</td>\n",
       "      <td>0</td>\n",
       "      <td>0</td>\n",
       "      <td>0</td>\n",
       "    </tr>\n",
       "    <tr>\n",
       "      <th>1</th>\n",
       "      <td>opd2006</td>\n",
       "      <td>11</td>\n",
       "      <td>2006</td>\n",
       "      <td>5</td>\n",
       "      <td>66</td>\n",
       "      <td>5</td>\n",
       "      <td>2</td>\n",
       "      <td>2</td>\n",
       "      <td>1</td>\n",
       "      <td>1</td>\n",
       "      <td>...</td>\n",
       "      <td>1</td>\n",
       "      <td>0</td>\n",
       "      <td>0</td>\n",
       "      <td>0</td>\n",
       "      <td>0</td>\n",
       "      <td>&lt;NA&gt;</td>\n",
       "      <td>0</td>\n",
       "      <td>0</td>\n",
       "      <td>0</td>\n",
       "      <td>0</td>\n",
       "    </tr>\n",
       "    <tr>\n",
       "      <th>2</th>\n",
       "      <td>opd2006</td>\n",
       "      <td>11</td>\n",
       "      <td>2006</td>\n",
       "      <td>4</td>\n",
       "      <td>71</td>\n",
       "      <td>5</td>\n",
       "      <td>1</td>\n",
       "      <td>2</td>\n",
       "      <td>1</td>\n",
       "      <td>1</td>\n",
       "      <td>...</td>\n",
       "      <td>1</td>\n",
       "      <td>0</td>\n",
       "      <td>0</td>\n",
       "      <td>0</td>\n",
       "      <td>0</td>\n",
       "      <td>&lt;NA&gt;</td>\n",
       "      <td>1</td>\n",
       "      <td>0</td>\n",
       "      <td>0</td>\n",
       "      <td>0</td>\n",
       "    </tr>\n",
       "    <tr>\n",
       "      <th>3</th>\n",
       "      <td>opd2006</td>\n",
       "      <td>11</td>\n",
       "      <td>2006</td>\n",
       "      <td>3</td>\n",
       "      <td>1</td>\n",
       "      <td>1</td>\n",
       "      <td>1</td>\n",
       "      <td>2</td>\n",
       "      <td>1</td>\n",
       "      <td>1</td>\n",
       "      <td>...</td>\n",
       "      <td>1</td>\n",
       "      <td>0</td>\n",
       "      <td>0</td>\n",
       "      <td>0</td>\n",
       "      <td>0</td>\n",
       "      <td>&lt;NA&gt;</td>\n",
       "      <td>0</td>\n",
       "      <td>0</td>\n",
       "      <td>0</td>\n",
       "      <td>0</td>\n",
       "    </tr>\n",
       "    <tr>\n",
       "      <th>4</th>\n",
       "      <td>opd2006</td>\n",
       "      <td>11</td>\n",
       "      <td>2006</td>\n",
       "      <td>2</td>\n",
       "      <td>21</td>\n",
       "      <td>2</td>\n",
       "      <td>1</td>\n",
       "      <td>2</td>\n",
       "      <td>1</td>\n",
       "      <td>2</td>\n",
       "      <td>...</td>\n",
       "      <td>1</td>\n",
       "      <td>0</td>\n",
       "      <td>0</td>\n",
       "      <td>0</td>\n",
       "      <td>0</td>\n",
       "      <td>&lt;NA&gt;</td>\n",
       "      <td>0</td>\n",
       "      <td>0</td>\n",
       "      <td>0</td>\n",
       "      <td>0</td>\n",
       "    </tr>\n",
       "  </tbody>\n",
       "</table>\n",
       "<p>5 rows × 150 columns</p>\n",
       "</div>"
      ],
      "text/plain": [
       "      file  VMONTH  VYEAR  VDAYR  AGE  AGER  SEX  ETHNIC  RACE  USETOBAC  ...  \\\n",
       "0  opd2006      12   2006      6   55     4    2       2     1         1  ...   \n",
       "1  opd2006      11   2006      5   66     5    2       2     1         1  ...   \n",
       "2  opd2006      11   2006      4   71     5    1       2     1         1  ...   \n",
       "3  opd2006      11   2006      3    1     1    1       2     1         1  ...   \n",
       "4  opd2006      11   2006      2   21     2    1       2     1         2  ...   \n",
       "\n",
       "   PHYS  PHYSASST  NPNMW  RNLPN  OTHPROV   MHP  REFOTHMD  RETAPPT  OTHDISP  \\\n",
       "0     1         0      0      0        0  <NA>         0        0        0   \n",
       "1     1         0      0      0        0  <NA>         0        0        0   \n",
       "2     1         0      0      0        0  <NA>         1        0        0   \n",
       "3     1         0      0      0        0  <NA>         0        0        0   \n",
       "4     1         0      0      0        0  <NA>         0        0        0   \n",
       "\n",
       "   ERADMHOS  \n",
       "0         0  \n",
       "1         0  \n",
       "2         0  \n",
       "3         0  \n",
       "4         0  \n",
       "\n",
       "[5 rows x 150 columns]"
      ]
     },
     "execution_count": 3,
     "metadata": {},
     "output_type": "execute_result"
    }
   ],
   "source": [
    "input_path = os.path.join('..', 'data', 'cleaned')\n",
    "\n",
    "train_df = pd.read_parquet(os.path.join(input_path, 'train.parquet'))\n",
    "train_df.head()"
   ]
  },
  {
   "cell_type": "markdown",
   "metadata": {},
   "source": [
    "## 2 - Load the vairiables dictionary and define features for clustering"
   ]
  },
  {
   "cell_type": "code",
   "execution_count": 4,
   "metadata": {},
   "outputs": [
    {
     "name": "stdout",
     "output_type": "stream",
     "text": [
      "Variable Categories:\n",
      "\n",
      "dateOfVisit\n",
      "['VMONTH', 'VYEAR', 'VDAYR']\n",
      "demographics\n",
      "['AGE', 'AGER', 'SEX', 'ETHNIC', 'RACE', 'USETOBAC']\n",
      "payment\n",
      "['PAYPRIV', 'PAYMCARE', 'PAYMCAID', 'PAYWKCMP', 'PAYSELF', 'PAYNOCHG', 'PAYOTH', 'PAYDK', 'PAYTYPER']\n",
      "visitReason\n",
      "['INJDET', 'MAJOR', 'RFV1', 'RFV2', 'RFV3']\n",
      "patientClinicHistory\n",
      "['SENBEFOR', 'PASTVIS']\n",
      "vitalSigns\n",
      "['HTIN', 'WTLB', 'BMI', 'TEMPF', 'BPSYS', 'BPDIAS']\n",
      "imputedFields\n",
      "['BDATEFL', 'SEXFL', 'SENBEFL', 'PASTFL']\n",
      "physicianDiagnoses\n",
      "['DIAG1', 'DIAG2', 'DIAG3']\n",
      "differentialDiagnoses\n",
      "['PRDIAG1', 'PRDIAG2', 'PRDIAG3']\n",
      "presentSymptomsStatus\n",
      "['ARTHRTIS', 'ASTHMA', 'CANCER', 'CASTAGE', 'CEBVD', 'CHF', 'CRF', 'COPD', 'DEPRN', 'DIABETES', 'HYPLIPID', 'HTN', 'IHD', 'OBESITY', 'OSTPRSIS']\n",
      "services\n",
      "['BREAST', 'PELVIC', 'RECTAL', 'SKIN', 'DEPRESS', 'BONEDENS', 'MAMMO', 'MRI', 'ULTRASND', 'XRAY', 'OTHIMAGE', 'CBC', 'GLUCOSE', 'HGBA', 'CHOLEST', 'PSA', 'OTHERBLD', 'BIOPSY', 'CHLAMYD', 'PAPCONV', 'PAPLIQ', 'PAPUNSP', 'HPVDNA', 'EKG', 'URINE', 'HTTAKE', 'WTTAKE', 'TEMPTAKE', 'BLODPRES', 'CAM', 'DME', 'HOMEHLTH', 'HOSPICE', 'PT', 'RADTHER', 'SPOCTHER', 'PSYCHOTH', 'OTHMNTL', 'EXCISION', 'WOUND', 'PROC1', 'PROC2', 'PROC3', 'PROC4', 'PROC5', 'PROC6', 'PROC7', 'PROC8', 'PROC9', 'CATSCAN', 'PREGTEST', 'FOOT', 'RETINAL', 'HIVTEST', 'CAST', 'SPLINT']\n",
      "healthEducation\n",
      "['ASTHMAED', 'DIETNUTR', 'EXERCISE', 'GRWTHDEV', 'INJPREV', 'STRESMGT', 'TOBACED', 'WTREDUC', 'OTHLTHED']\n",
      "medicationsAndImmunizations\n",
      "['MED1', 'MED2', 'MED3', 'MED4', 'MED5', 'MED6', 'MED7', 'MED8', 'NCMED1', 'NCMED2', 'NCMED3', 'NCMED4', 'NCMED5', 'NCMED6', 'NCMED7', 'NCMED8', 'NUMNEW', 'NUMCONT']\n",
      "providersSeen\n",
      "['PHYS', 'PHYSASST', 'NPNMW', 'RNLPN', 'OTHPROV', 'MHP']\n",
      "visitDisposition\n",
      "['REFOTHMD', 'RETAPPT', 'OTHDISP', 'ERADMHOS']\n"
     ]
    }
   ],
   "source": [
    "# Load the variables dictionary\n",
    "with open(os.path.join(input_path, 'variables.json'), 'r') as f:\n",
    "    variables = json.load(f)\n",
    "\n",
    "print(f'Variable Categories:\\n')\n",
    "for category, list in variables.items():\n",
    "    print(f'{category}')\n",
    "    print(f'{list}')"
   ]
  },
  {
   "cell_type": "markdown",
   "metadata": {},
   "source": [
    "\n",
    "### 2.1 Defining features for clustering"
   ]
  },
  {
   "cell_type": "markdown",
   "metadata": {},
   "source": [
    "##### !!! The statistical test result of the features should be referred first"
   ]
  },
  {
   "cell_type": "code",
   "execution_count": 5,
   "metadata": {},
   "outputs": [
    {
     "data": {
      "text/plain": [
       "INJDET  MAJOR  RFV1   RFV2   RFV3 \n",
       "5       2      48000  44100  41150    40\n",
       "1       2      23200  48000  44100    25\n",
       "5       1      10100  14400  14000    21\n",
       "               14400  14000  14551    21\n",
       "1       3      46050  47350  11500    20\n",
       "                                      ..\n",
       "5       1      14400  15950  15300     1\n",
       "                             14750     1\n",
       "                             10200     1\n",
       "                      15702  41150     1\n",
       "        5      89980  45650  42050     1\n",
       "Name: count, Length: 7796, dtype: int64"
      ]
     },
     "execution_count": 5,
     "metadata": {},
     "output_type": "execute_result"
    }
   ],
   "source": [
    "train_df[variables['visitReason']].value_counts()"
   ]
  },
  {
   "cell_type": "code",
   "execution_count": 6,
   "metadata": {},
   "outputs": [
    {
     "name": "stdout",
     "output_type": "stream",
     "text": [
      "Features: ['AGE', 'SEX', 'USETOBAC', 'INJDET', 'MAJOR', 'RFV1', 'RFV2', 'RFV3', 'PASTVIS', 'HTIN', 'WTLB', 'BMI', 'TEMPF', 'BPSYS', 'BPDIAS', 'ARTHRTIS', 'ASTHMA', 'CANCER', 'CASTAGE', 'CEBVD', 'CHF', 'CRF', 'COPD', 'DEPRN', 'DIABETES', 'HYPLIPID', 'HTN', 'IHD', 'OBESITY', 'OSTPRSIS']\n",
      "Number of Features: 30\n"
     ]
    }
   ],
   "source": [
    "# Defining the independent variables as features for classification\n",
    "features = \\\n",
    "    ['AGE', 'SEX', 'USETOBAC'] + variables['visitReason'] + ['PASTVIS'] + variables['vitalSigns'] \\\n",
    "    + variables['presentSymptomsStatus']\n",
    "\n",
    "print(f'Features: {features}')\n",
    "print(f'Number of Features: {len(features)}')"
   ]
  },
  {
   "cell_type": "code",
   "execution_count": 7,
   "metadata": {},
   "outputs": [],
   "source": [
    "X_train = train_df.loc[:, features]"
   ]
  },
  {
   "cell_type": "markdown",
   "metadata": {},
   "source": [
    "## 3 - Preprocess and engineer the features"
   ]
  },
  {
   "cell_type": "markdown",
   "metadata": {},
   "source": [
    "### 3.1 - Binning of quantitative variables to categorical features\n",
    "Bin the following quantitative variables:\n",
    "\n",
    "AGE, RFV1, RFV2, RFV3, BMI, TEMPF, BPSYS, BPDIAS"
   ]
  },
  {
   "cell_type": "markdown",
   "metadata": {},
   "source": [
    "#### 3.1.1 - Bin the AGE variable\n",
    "Do we bin as recoded age groups (`AGER`) or as each 20 years?"
   ]
  },
  {
   "cell_type": "code",
   "execution_count": 8,
   "metadata": {},
   "outputs": [
    {
     "data": {
      "text/html": [
       "\n",
       "<style>\n",
       "  #altair-viz-b775e5d094e24060a4120e2dd1b537ce.vega-embed {\n",
       "    width: 100%;\n",
       "    display: flex;\n",
       "  }\n",
       "\n",
       "  #altair-viz-b775e5d094e24060a4120e2dd1b537ce.vega-embed details,\n",
       "  #altair-viz-b775e5d094e24060a4120e2dd1b537ce.vega-embed details summary {\n",
       "    position: relative;\n",
       "  }\n",
       "</style>\n",
       "<div id=\"altair-viz-b775e5d094e24060a4120e2dd1b537ce\"></div>\n",
       "<script type=\"text/javascript\">\n",
       "  var VEGA_DEBUG = (typeof VEGA_DEBUG == \"undefined\") ? {} : VEGA_DEBUG;\n",
       "  (function(spec, embedOpt){\n",
       "    let outputDiv = document.currentScript.previousElementSibling;\n",
       "    if (outputDiv.id !== \"altair-viz-b775e5d094e24060a4120e2dd1b537ce\") {\n",
       "      outputDiv = document.getElementById(\"altair-viz-b775e5d094e24060a4120e2dd1b537ce\");\n",
       "    }\n",
       "    const paths = {\n",
       "      \"vega\": \"https://cdn.jsdelivr.net/npm/vega@5?noext\",\n",
       "      \"vega-lib\": \"https://cdn.jsdelivr.net/npm/vega-lib?noext\",\n",
       "      \"vega-lite\": \"https://cdn.jsdelivr.net/npm/vega-lite@5.16.3?noext\",\n",
       "      \"vega-embed\": \"https://cdn.jsdelivr.net/npm/vega-embed@6?noext\",\n",
       "    };\n",
       "\n",
       "    function maybeLoadScript(lib, version) {\n",
       "      var key = `${lib.replace(\"-\", \"\")}_version`;\n",
       "      return (VEGA_DEBUG[key] == version) ?\n",
       "        Promise.resolve(paths[lib]) :\n",
       "        new Promise(function(resolve, reject) {\n",
       "          var s = document.createElement('script');\n",
       "          document.getElementsByTagName(\"head\")[0].appendChild(s);\n",
       "          s.async = true;\n",
       "          s.onload = () => {\n",
       "            VEGA_DEBUG[key] = version;\n",
       "            return resolve(paths[lib]);\n",
       "          };\n",
       "          s.onerror = () => reject(`Error loading script: ${paths[lib]}`);\n",
       "          s.src = paths[lib];\n",
       "        });\n",
       "    }\n",
       "\n",
       "    function showError(err) {\n",
       "      outputDiv.innerHTML = `<div class=\"error\" style=\"color:red;\">${err}</div>`;\n",
       "      throw err;\n",
       "    }\n",
       "\n",
       "    function displayChart(vegaEmbed) {\n",
       "      vegaEmbed(outputDiv, spec, embedOpt)\n",
       "        .catch(err => showError(`Javascript Error: ${err.message}<br>This usually means there's a typo in your chart specification. See the javascript console for the full traceback.`));\n",
       "    }\n",
       "\n",
       "    if(typeof define === \"function\" && define.amd) {\n",
       "      requirejs.config({paths});\n",
       "      require([\"vega-embed\"], displayChart, err => showError(`Error loading script: ${err.message}`));\n",
       "    } else {\n",
       "      maybeLoadScript(\"vega\", \"5\")\n",
       "        .then(() => maybeLoadScript(\"vega-lite\", \"5.16.3\"))\n",
       "        .then(() => maybeLoadScript(\"vega-embed\", \"6\"))\n",
       "        .catch(showError)\n",
       "        .then(() => displayChart(vegaEmbed));\n",
       "    }\n",
       "  })({\"$schema\": \"https://vega.github.io/schema/vega/v5.json\", \"data\": [{\"name\": \"param_1_store\"}, {\"name\": \"source_0\", \"values\": [{\"AGER\": 4, \"__count\": 28478}, {\"AGER\": 5, \"__count\": 8371}, {\"AGER\": 1, \"__count\": 20474}, {\"AGER\": 2, \"__count\": 12817}, {\"AGER\": 6, \"__count\": 7093}, {\"AGER\": 3, \"__count\": 26253}]}, {\"name\": \"source_0_x_domain_AGER\", \"values\": [{\"AGER\": 4}, {\"AGER\": 5}, {\"AGER\": 1}, {\"AGER\": 2}, {\"AGER\": 6}, {\"AGER\": 3}]}, {\"name\": \"source_0_y_domain___count\", \"values\": [{\"min\": 7093, \"max\": 28478}]}], \"signals\": [{\"name\": \"unit\", \"value\": {}, \"on\": [{\"events\": \"pointermove\", \"update\": \"isTuple(group()) ? group() : unit\"}]}, {\"name\": \"param_1\", \"update\": \"vlSelectionResolve(\\\"param_1_store\\\", \\\"union\\\")\"}, {\"name\": \"param_1_AGER\", \"on\": [{\"events\": [{\"source\": \"view\", \"type\": \"dblclick\"}], \"update\": \"null\"}, {\"events\": {\"signal\": \"param_1_translate_delta\"}, \"update\": \"panLinear(param_1_translate_anchor.extent_x, -param_1_translate_delta.x / width)\"}, {\"events\": {\"signal\": \"param_1_zoom_delta\"}, \"update\": \"zoomLinear(domain(\\\"x\\\"), param_1_zoom_anchor.x, param_1_zoom_delta)\"}]}, {\"name\": \"param_1_tuple\", \"on\": [{\"events\": [{\"signal\": \"param_1_AGER\"}], \"update\": \"param_1_AGER ? {unit: \\\"\\\", fields: param_1_tuple_fields, values: [param_1_AGER]} : null\"}]}, {\"name\": \"param_1_tuple_fields\", \"value\": [{\"field\": \"AGER\", \"channel\": \"x\", \"type\": \"E\"}]}, {\"name\": \"param_1_translate_anchor\", \"value\": {}, \"on\": [{\"events\": [{\"source\": \"scope\", \"type\": \"pointerdown\"}], \"update\": \"{x: x(unit), y: y(unit), extent_x: domain(\\\"x\\\")}\"}]}, {\"name\": \"param_1_translate_delta\", \"value\": {}, \"on\": [{\"events\": [{\"source\": \"window\", \"between\": [{\"source\": \"scope\", \"type\": \"pointerdown\"}, {\"source\": \"window\", \"type\": \"pointerup\"}], \"type\": \"pointermove\", \"consume\": true}], \"update\": \"{x: param_1_translate_anchor.x - x(unit), y: param_1_translate_anchor.y - y(unit)}\"}]}, {\"name\": \"param_1_zoom_anchor\", \"on\": [{\"events\": [{\"source\": \"scope\", \"consume\": true, \"type\": \"wheel\"}], \"update\": \"{x: invert(\\\"x\\\", x(unit)), y: invert(\\\"y\\\", y(unit))}\"}]}, {\"name\": \"param_1_zoom_delta\", \"on\": [{\"events\": [{\"source\": \"scope\", \"consume\": true, \"type\": \"wheel\"}], \"update\": \"pow(1.001, event.deltaY * pow(16, event.deltaMode))\", \"force\": true}]}, {\"name\": \"param_1_modify\", \"on\": [{\"events\": {\"signal\": \"param_1_tuple\"}, \"update\": \"modify(\\\"param_1_store\\\", param_1_tuple, true)\"}]}], \"marks\": [{\"type\": \"rect\", \"name\": \"marks\", \"from\": {\"data\": \"source_0\"}, \"encode\": {\"update\": {\"y\": {\"field\": \"__count\", \"scale\": \"y\"}, \"x\": {\"field\": \"AGER\", \"scale\": \"x\"}, \"description\": {\"signal\": \"\\\"AGER: \\\" + (isValid(datum[\\\"AGER\\\"]) ? datum[\\\"AGER\\\"] : \\\"\\\"+datum[\\\"AGER\\\"]) + \\\"; Count of Records: \\\" + (format(datum[\\\"__count\\\"], \\\"\\\"))\"}, \"y2\": {\"value\": 0, \"scale\": \"y\"}, \"fill\": {\"value\": \"steelblue\"}, \"width\": {\"signal\": \"max(0.25, bandwidth('x'))\"}, \"ariaRoleDescription\": {\"value\": \"bar\"}}}, \"style\": [\"bar\"], \"interactive\": true}], \"scales\": [{\"name\": \"x\", \"type\": \"band\", \"domain\": {\"data\": \"source_0_x_domain_AGER\", \"field\": \"AGER\", \"sort\": true}, \"range\": [0, {\"signal\": \"width\"}], \"paddingOuter\": 0.05, \"paddingInner\": 0.1}, {\"name\": \"y\", \"type\": \"linear\", \"domain\": [{\"signal\": \"(data(\\\"source_0_y_domain___count\\\")[0] || {}).min\"}, {\"signal\": \"(data(\\\"source_0_y_domain___count\\\")[0] || {}).max\"}], \"range\": [{\"signal\": \"height\"}, 0], \"zero\": true, \"nice\": true}], \"axes\": [{\"scale\": \"y\", \"gridScale\": \"x\", \"grid\": true, \"labels\": false, \"maxExtent\": 0, \"minExtent\": 0, \"aria\": false, \"ticks\": false, \"orient\": \"left\", \"domain\": false, \"zindex\": 0, \"tickCount\": {\"signal\": \"ceil(height/40)\"}}, {\"scale\": \"x\", \"orient\": \"bottom\", \"labelBaseline\": \"top\", \"grid\": false, \"zindex\": 0, \"title\": \"AGER\"}, {\"scale\": \"y\", \"title\": \"Count of Records\", \"grid\": false, \"labelAlign\": \"right\", \"tickCount\": {\"signal\": \"ceil(height/40)\"}, \"zindex\": 0, \"orient\": \"left\", \"labelOverlap\": true}], \"title\": {\"text\": \"Distribution of AGER\", \"frame\": \"group\"}, \"height\": 320, \"background\": \"white\", \"width\": 480, \"config\": {\"axis\": {\"domain\": false, \"labelAngle\": 0, \"labelColor\": \"gray\", \"labelFontSize\": 10, \"ticks\": false}, \"style\": {\"guide-label\": {\"font\": \"Helvetica Neue\"}, \"guide-title\": {\"font\": \"Helvetica Neue\"}, \"group-title\": {\"font\": \"Helvetica Neue\"}, \"group-subtitle\": {\"font\": \"Helvetica Neue\"}, \"cell\": {\"stroke\": null}, \"text\": {\"font\": \"Helvetica Neue\"}}}, \"padding\": 5, \"style\": \"cell\"}, {\"mode\": \"vega\"});\n",
       "</script>"
      ],
      "text/plain": [
       "alt.Chart(...)"
      ]
     },
     "execution_count": 8,
     "metadata": {},
     "output_type": "execute_result"
    }
   ],
   "source": [
    "# Check the distribution of `AGER`\n",
    "# 1 = Under 15 years \n",
    "# 2 = 15-24 years \n",
    "# 3 = 25-44 years \n",
    "# 4 = 45-64 years \n",
    "# 5 = 65-74 years \n",
    "# 6 = 75 years and over|\n",
    " \n",
    "chart(\n",
    "    df=train_df,\n",
    "    x='AGER:O',\n",
    "    y='count()',\n",
    "    title='Distribution of AGER',\n",
    ").mark_bar().interactive()"
   ]
  },
  {
   "cell_type": "code",
   "execution_count": 9,
   "metadata": {},
   "outputs": [
    {
     "data": {
      "text/html": [
       "\n",
       "<style>\n",
       "  #altair-viz-de96e0234c0d4a65acf9f9bf2a7b95c1.vega-embed {\n",
       "    width: 100%;\n",
       "    display: flex;\n",
       "  }\n",
       "\n",
       "  #altair-viz-de96e0234c0d4a65acf9f9bf2a7b95c1.vega-embed details,\n",
       "  #altair-viz-de96e0234c0d4a65acf9f9bf2a7b95c1.vega-embed details summary {\n",
       "    position: relative;\n",
       "  }\n",
       "</style>\n",
       "<div id=\"altair-viz-de96e0234c0d4a65acf9f9bf2a7b95c1\"></div>\n",
       "<script type=\"text/javascript\">\n",
       "  var VEGA_DEBUG = (typeof VEGA_DEBUG == \"undefined\") ? {} : VEGA_DEBUG;\n",
       "  (function(spec, embedOpt){\n",
       "    let outputDiv = document.currentScript.previousElementSibling;\n",
       "    if (outputDiv.id !== \"altair-viz-de96e0234c0d4a65acf9f9bf2a7b95c1\") {\n",
       "      outputDiv = document.getElementById(\"altair-viz-de96e0234c0d4a65acf9f9bf2a7b95c1\");\n",
       "    }\n",
       "    const paths = {\n",
       "      \"vega\": \"https://cdn.jsdelivr.net/npm/vega@5?noext\",\n",
       "      \"vega-lib\": \"https://cdn.jsdelivr.net/npm/vega-lib?noext\",\n",
       "      \"vega-lite\": \"https://cdn.jsdelivr.net/npm/vega-lite@5.16.3?noext\",\n",
       "      \"vega-embed\": \"https://cdn.jsdelivr.net/npm/vega-embed@6?noext\",\n",
       "    };\n",
       "\n",
       "    function maybeLoadScript(lib, version) {\n",
       "      var key = `${lib.replace(\"-\", \"\")}_version`;\n",
       "      return (VEGA_DEBUG[key] == version) ?\n",
       "        Promise.resolve(paths[lib]) :\n",
       "        new Promise(function(resolve, reject) {\n",
       "          var s = document.createElement('script');\n",
       "          document.getElementsByTagName(\"head\")[0].appendChild(s);\n",
       "          s.async = true;\n",
       "          s.onload = () => {\n",
       "            VEGA_DEBUG[key] = version;\n",
       "            return resolve(paths[lib]);\n",
       "          };\n",
       "          s.onerror = () => reject(`Error loading script: ${paths[lib]}`);\n",
       "          s.src = paths[lib];\n",
       "        });\n",
       "    }\n",
       "\n",
       "    function showError(err) {\n",
       "      outputDiv.innerHTML = `<div class=\"error\" style=\"color:red;\">${err}</div>`;\n",
       "      throw err;\n",
       "    }\n",
       "\n",
       "    function displayChart(vegaEmbed) {\n",
       "      vegaEmbed(outputDiv, spec, embedOpt)\n",
       "        .catch(err => showError(`Javascript Error: ${err.message}<br>This usually means there's a typo in your chart specification. See the javascript console for the full traceback.`));\n",
       "    }\n",
       "\n",
       "    if(typeof define === \"function\" && define.amd) {\n",
       "      requirejs.config({paths});\n",
       "      require([\"vega-embed\"], displayChart, err => showError(`Error loading script: ${err.message}`));\n",
       "    } else {\n",
       "      maybeLoadScript(\"vega\", \"5\")\n",
       "        .then(() => maybeLoadScript(\"vega-lite\", \"5.16.3\"))\n",
       "        .then(() => maybeLoadScript(\"vega-embed\", \"6\"))\n",
       "        .catch(showError)\n",
       "        .then(() => displayChart(vegaEmbed));\n",
       "    }\n",
       "  })({\"$schema\": \"https://vega.github.io/schema/vega/v5.json\", \"data\": [{\"name\": \"param_2_store\"}, {\"name\": \"source_0\"}, {\"name\": \"data_0\", \"values\": [{\"AGE_GROUP\": \"Middle Aged\", \"__count\": 29505}, {\"AGE_GROUP\": \"Senior\", \"__count\": 21241}, {\"AGE_GROUP\": \"Child or Teenager\", \"__count\": 26749}, {\"AGE_GROUP\": \"Adult\", \"__count\": 25991}]}, {\"name\": \"source_0_x_domain_AGE_GROUP\", \"values\": [{\"AGE_GROUP\": \"Middle Aged\", \"sort_field\": 6.0}, {\"AGE_GROUP\": \"Senior\", \"sort_field\": 7.0}, {\"AGE_GROUP\": \"Child or Teenager\", \"sort_field\": 4.0}, {\"AGE_GROUP\": \"Adult\", \"sort_field\": 5.0}]}, {\"name\": \"data_0_y_domain___count\", \"values\": [{\"min\": 21241, \"max\": 29505}]}], \"signals\": [{\"name\": \"unit\", \"value\": {}, \"on\": [{\"events\": \"pointermove\", \"update\": \"isTuple(group()) ? group() : unit\"}]}, {\"name\": \"param_2\", \"update\": \"vlSelectionResolve(\\\"param_2_store\\\", \\\"union\\\")\"}, {\"name\": \"param_2_AGE_GROUP\", \"on\": [{\"events\": [{\"source\": \"view\", \"type\": \"dblclick\"}], \"update\": \"null\"}, {\"events\": {\"signal\": \"param_2_translate_delta\"}, \"update\": \"panLinear(param_2_translate_anchor.extent_x, -param_2_translate_delta.x / width)\"}, {\"events\": {\"signal\": \"param_2_zoom_delta\"}, \"update\": \"zoomLinear(domain(\\\"x\\\"), param_2_zoom_anchor.x, param_2_zoom_delta)\"}]}, {\"name\": \"param_2_tuple\", \"on\": [{\"events\": [{\"signal\": \"param_2_AGE_GROUP\"}], \"update\": \"param_2_AGE_GROUP ? {unit: \\\"\\\", fields: param_2_tuple_fields, values: [param_2_AGE_GROUP]} : null\"}]}, {\"name\": \"param_2_tuple_fields\", \"value\": [{\"field\": \"AGE_GROUP\", \"channel\": \"x\", \"type\": \"E\"}]}, {\"name\": \"param_2_translate_anchor\", \"value\": {}, \"on\": [{\"events\": [{\"source\": \"scope\", \"type\": \"pointerdown\"}], \"update\": \"{x: x(unit), y: y(unit), extent_x: domain(\\\"x\\\")}\"}]}, {\"name\": \"param_2_translate_delta\", \"value\": {}, \"on\": [{\"events\": [{\"source\": \"window\", \"between\": [{\"source\": \"scope\", \"type\": \"pointerdown\"}, {\"source\": \"window\", \"type\": \"pointerup\"}], \"type\": \"pointermove\", \"consume\": true}], \"update\": \"{x: param_2_translate_anchor.x - x(unit), y: param_2_translate_anchor.y - y(unit)}\"}]}, {\"name\": \"param_2_zoom_anchor\", \"on\": [{\"events\": [{\"source\": \"scope\", \"type\": \"wheel\", \"consume\": true}], \"update\": \"{x: invert(\\\"x\\\", x(unit)), y: invert(\\\"y\\\", y(unit))}\"}]}, {\"name\": \"param_2_zoom_delta\", \"on\": [{\"events\": [{\"source\": \"scope\", \"consume\": true, \"type\": \"wheel\"}], \"update\": \"pow(1.001, event.deltaY * pow(16, event.deltaMode))\", \"force\": true}]}, {\"name\": \"param_2_modify\", \"on\": [{\"events\": {\"signal\": \"param_2_tuple\"}, \"update\": \"modify(\\\"param_2_store\\\", param_2_tuple, true)\"}]}], \"marks\": [{\"type\": \"rect\", \"name\": \"marks\", \"from\": {\"data\": \"data_0\"}, \"encode\": {\"update\": {\"y2\": {\"value\": 0, \"scale\": \"y\"}, \"description\": {\"signal\": \"\\\"AGE_GROUP: \\\" + (isValid(datum[\\\"AGE_GROUP\\\"]) ? datum[\\\"AGE_GROUP\\\"] : \\\"\\\"+datum[\\\"AGE_GROUP\\\"]) + \\\"; Count of Records: \\\" + (format(datum[\\\"__count\\\"], \\\"\\\"))\"}, \"fill\": {\"value\": \"steelblue\"}, \"x\": {\"field\": \"AGE_GROUP\", \"scale\": \"x\"}, \"ariaRoleDescription\": {\"value\": \"bar\"}, \"width\": {\"signal\": \"max(0.25, bandwidth('x'))\"}, \"y\": {\"field\": \"__count\", \"scale\": \"y\"}}}, \"style\": [\"bar\"], \"interactive\": true}], \"scales\": [{\"name\": \"x\", \"type\": \"band\", \"domain\": {\"data\": \"source_0_x_domain_AGE_GROUP\", \"field\": \"AGE_GROUP\", \"sort\": {\"op\": \"max\", \"field\": \"sort_field\"}}, \"range\": [0, {\"signal\": \"width\"}], \"paddingInner\": 0.1, \"paddingOuter\": 0.05}, {\"name\": \"y\", \"type\": \"linear\", \"domain\": [{\"signal\": \"(data(\\\"data_0_y_domain___count\\\")[0] || {}).min\"}, {\"signal\": \"(data(\\\"data_0_y_domain___count\\\")[0] || {}).max\"}], \"range\": [{\"signal\": \"height\"}, 0], \"zero\": true, \"nice\": true}], \"axes\": [{\"scale\": \"y\", \"labels\": false, \"gridScale\": \"x\", \"maxExtent\": 0, \"minExtent\": 0, \"domain\": false, \"grid\": true, \"orient\": \"left\", \"aria\": false, \"ticks\": false, \"tickCount\": {\"signal\": \"ceil(height/40)\"}, \"zindex\": 0}, {\"scale\": \"x\", \"orient\": \"bottom\", \"labelBaseline\": \"top\", \"title\": \"AGE_GROUP\", \"zindex\": 0, \"grid\": false}, {\"scale\": \"y\", \"labelAlign\": \"right\", \"title\": \"Count of Records\", \"tickCount\": {\"signal\": \"ceil(height/40)\"}, \"zindex\": 0, \"orient\": \"left\", \"grid\": false, \"labelOverlap\": true}], \"title\": {\"text\": \"Distribution of AGE GROUPS\", \"frame\": \"group\"}, \"padding\": 5, \"config\": {\"axis\": {\"domain\": false, \"labelAngle\": 0, \"labelColor\": \"gray\", \"labelFontSize\": 10, \"ticks\": false}, \"style\": {\"guide-label\": {\"font\": \"Helvetica Neue\"}, \"guide-title\": {\"font\": \"Helvetica Neue\"}, \"group-title\": {\"font\": \"Helvetica Neue\"}, \"group-subtitle\": {\"font\": \"Helvetica Neue\"}, \"cell\": {\"stroke\": null}, \"text\": {\"font\": \"Helvetica Neue\"}}}, \"background\": \"white\", \"style\": \"cell\", \"height\": 320, \"width\": 480}, {\"mode\": \"vega\"});\n",
       "</script>"
      ],
      "text/plain": [
       "alt.Chart(...)"
      ]
     },
     "execution_count": 9,
     "metadata": {},
     "output_type": "execute_result"
    }
   ],
   "source": [
    "# Bin the AGE variable as age groups\n",
    "# 0-2 = Infant\n",
    "# 2-4 = Toddler\n",
    "# 4-12 = Child\n",
    "# 12-20 = Teenager\n",
    "# 20-40 = Adult\n",
    "# 40-60 = Middle Aged\n",
    "# >= 60 = Senior\n",
    "\n",
    "age_groups = ['Infant', 'Toddler', 'Child', 'Teenager', 'Child or Teenager', 'Adult', 'Middle Aged', 'Senior']\n",
    "\n",
    "def bin_age(age):\n",
    "    #if age < 2: return 'Infant'\n",
    "    #elif age < 4: return 'Toddler'\n",
    "    #elif age < 12: return 'Child'\n",
    "    #elif age < 20: return 'Teenager'\n",
    "    if age < 20: return 'Child or Teenager'\n",
    "    elif age < 40: return 'Adult'\n",
    "    elif age < 60: return 'Middle Aged'\n",
    "    else: return 'Senior'\n",
    "    \n",
    "\n",
    "X_train['AGE_GROUP'] = X_train['AGE'].apply(bin_age)\n",
    "\n",
    "# Check the distribution of age groups\n",
    "chart(\n",
    "    df=X_train,\n",
    "    x=alt.X('AGE_GROUP:O', sort=age_groups),\n",
    "    y='count()',\n",
    "    title='Distribution of AGE GROUPS',\n",
    ").mark_bar().interactive()"
   ]
  },
  {
   "cell_type": "markdown",
   "metadata": {},
   "source": [
    "#### 3.1.2 - Bin the Reason For Visit variables\n",
    "RFV1, RFV2, RFV3"
   ]
  },
  {
   "cell_type": "code",
   "execution_count": 10,
   "metadata": {},
   "outputs": [
    {
     "data": {
      "text/html": [
       "<div>\n",
       "<style scoped>\n",
       "    .dataframe tbody tr th:only-of-type {\n",
       "        vertical-align: middle;\n",
       "    }\n",
       "\n",
       "    .dataframe tbody tr th {\n",
       "        vertical-align: top;\n",
       "    }\n",
       "\n",
       "    .dataframe thead th {\n",
       "        text-align: right;\n",
       "    }\n",
       "</style>\n",
       "<table border=\"1\" class=\"dataframe\">\n",
       "  <thead>\n",
       "    <tr style=\"text-align: right;\">\n",
       "      <th></th>\n",
       "      <th>MODULE_1</th>\n",
       "      <th>MODULE_2</th>\n",
       "      <th>CODE NUMBER</th>\n",
       "      <th>START</th>\n",
       "      <th>END</th>\n",
       "    </tr>\n",
       "  </thead>\n",
       "  <tbody>\n",
       "    <tr>\n",
       "      <th>20</th>\n",
       "      <td>DISEASE MODULE</td>\n",
       "      <td>Diseases of the Digestive System</td>\n",
       "      <td>2650-2699</td>\n",
       "      <td>2650</td>\n",
       "      <td>2699</td>\n",
       "    </tr>\n",
       "    <tr>\n",
       "      <th>31</th>\n",
       "      <td>TREATMENT MODULE</td>\n",
       "      <td>Medications</td>\n",
       "      <td>4100-4199</td>\n",
       "      <td>4100</td>\n",
       "      <td>4199</td>\n",
       "    </tr>\n",
       "    <tr>\n",
       "      <th>19</th>\n",
       "      <td>DISEASE MODULE</td>\n",
       "      <td>Diseases of the Respiratory System</td>\n",
       "      <td>2600-2649</td>\n",
       "      <td>2600</td>\n",
       "      <td>2649</td>\n",
       "    </tr>\n",
       "    <tr>\n",
       "      <th>7</th>\n",
       "      <td>SYMPTOM MODULE</td>\n",
       "      <td>Symptoms Referable to the Genitourinary System</td>\n",
       "      <td>1640-1829</td>\n",
       "      <td>1640</td>\n",
       "      <td>1829</td>\n",
       "    </tr>\n",
       "    <tr>\n",
       "      <th>38</th>\n",
       "      <td>INJURIES AND ADVERSE EFFECTS MODULE</td>\n",
       "      <td>Injury by Type and/or Location</td>\n",
       "      <td>5001-5799</td>\n",
       "      <td>5001</td>\n",
       "      <td>5799</td>\n",
       "    </tr>\n",
       "  </tbody>\n",
       "</table>\n",
       "</div>"
      ],
      "text/plain": [
       "                               MODULE_1  \\\n",
       "20                      DISEASE MODULE    \n",
       "31                    TREATMENT MODULE    \n",
       "19                      DISEASE MODULE    \n",
       "7                       SYMPTOM MODULE    \n",
       "38  INJURIES AND ADVERSE EFFECTS MODULE   \n",
       "\n",
       "                                           MODULE_2 CODE NUMBER  START   END  \n",
       "20                Diseases of the Digestive System   2650-2699    2650  2699  \n",
       "31                                     Medications   4100-4199    4100  4199  \n",
       "19              Diseases of the Respiratory System   2600-2649    2600  2649  \n",
       "7   Symptoms Referable to the Genitourinary System   1640-1829    1640  1829  \n",
       "38                  Injury by Type and/or Location    5001-5799   5001  5799  "
      ]
     },
     "execution_count": 10,
     "metadata": {},
     "output_type": "execute_result"
    }
   ],
   "source": [
    "# Load the REASON FOR VISIT classification summary of codes\n",
    "rvf_summary = pd.read_excel(os.path.join('..', 'data', 'raw', 'RFV_codes_summary.xlsx'))\n",
    "\n",
    "# Split the 'CODE NUMBER' column into 'START' and 'END' columns\n",
    "rvf_summary[['START', 'END']] = rvf_summary['CODE NUMBER'].str.split('-', expand=True).astype(int)\n",
    "\n",
    "rvf_summary.sample(5)"
   ]
  },
  {
   "cell_type": "code",
   "execution_count": 11,
   "metadata": {},
   "outputs": [
    {
     "name": "stdout",
     "output_type": "stream",
     "text": [
      "RFV1_MOD unique values: RFV1_MOD\n",
      "Progress Visit, NEC                                                  9641\n",
      "Symptoms Referable to the Musculoskeletal System                     8232\n",
      "Special Examinations                                                 7416\n",
      "General Examinations                                                 6895\n",
      "Symptoms Referable to the Respiratory System                         5908\n",
      "General Symptoms                                                     4536\n",
      "Injury by Type and/or Location                                       4312\n",
      "Symptoms Referable to Psychological and Mental Disorders             4048\n",
      "Symptoms Referable to the Genitourinary System                       3847\n",
      "Diagnostic Tests                                                     3801\n",
      "Symptoms Referable to the Digestive System                           3301\n",
      "Preoperative and Postoperative Care                                  2971\n",
      "Symptoms Referable to the Skin, Nails, and Hair                      2845\n",
      "Symptoms Referable to the Eyes and Ears                              2769\n",
      "Symptoms Referable to the Nervous System (Excluding Sense Organs)    2738\n",
      "Medical Counseling                                                   2486\n",
      "Medications                                                          2441\n",
      "TEST RESULTS MODULE                                                  2237\n",
      "Endocrine, Nutritional, Metabolic, and Immunity Diseases             2233\n",
      "Specific Therapeutic Procedures                                      2114\n",
      "Specific Types of Therapy                                            1890\n",
      "Diseases of the Circulatory System                                   1668\n",
      "Neoplasms                                                            1564\n",
      "Diseases of the Genitourinary System                                 1529\n",
      "Family Planning                                                       969\n",
      "Mental Disorders                                                      887\n",
      "Other Screening and Preventive Procedures                             884\n",
      "Diseases of the Respiratory System                                    874\n",
      "Infective and Parasitic Diseases                                      731\n",
      "Diseases of the Skin and Subcutaneous Tissue                          713\n",
      "Diseases of the Nervous System                                        686\n",
      "Diseases of the Digestive System                                      666\n",
      "ADMINISTRATIVE MODULE                                                 640\n",
      "Injury, NOS                                                           565\n",
      "Diseases of the Musculoskeletal System and Connective Tissue          512\n",
      "UNCODABLE ENTRIES                                                     509\n",
      "Diseases of the Eye                                                   503\n",
      "Social Problem Counseling                                             502\n",
      "Poisoning and Adverse Effects                                         279\n",
      "Congenital Anomalies                                                  255\n",
      "Diseases of the Blood and Blood-forming Organs                        251\n",
      "Symptoms Referable to the Cardiovascular and Lymphatic Systems        240\n",
      "Diseases of the Ear                                                    78\n",
      "Perinatal Morbidity and Mortality Conditions                           52\n",
      "Name: count, dtype: int64\n",
      "RFV2_MOD unique values: RFV2_MOD\n",
      "Symptoms Referable to the Respiratory System                         3957\n",
      "Symptoms Referable to the Musculoskeletal System                     3651\n",
      "General Symptoms                                                     2848\n",
      "Symptoms Referable to Psychological and Mental Disorders             2411\n",
      "Symptoms Referable to the Digestive System                           2184\n",
      "Preoperative and Postoperative Care                                  1616\n",
      "Symptoms Referable to the Genitourinary System                       1548\n",
      "Symptoms Referable to the Nervous System (Excluding Sense Organs)    1495\n",
      "Symptoms Referable to the Eyes and Ears                              1259\n",
      "Injury, NOS                                                          1182\n",
      "Symptoms Referable to the Skin, Nails, and Hair                      1093\n",
      "Diagnostic Tests                                                     1061\n",
      "Medications                                                           967\n",
      "Specific Types of Therapy                                             902\n",
      "Diseases of the Circulatory System                                    856\n",
      "Special Examinations                                                  838\n",
      "Medical Counseling                                                    834\n",
      "Endocrine, Nutritional, Metabolic, and Immunity Diseases              698\n",
      "Injury by Type and/or Location                                        660\n",
      "TEST RESULTS MODULE                                                   638\n",
      "Specific Therapeutic Procedures                                       533\n",
      "Social Problem Counseling                                             442\n",
      "Mental Disorders                                                      391\n",
      "General Examinations                                                  378\n",
      "Neoplasms                                                             343\n",
      "Diseases of the Genitourinary System                                  325\n",
      "Other Screening and Preventive Procedures                             318\n",
      "Family Planning                                                       276\n",
      "Diseases of the Digestive System                                      265\n",
      "Infective and Parasitic Diseases                                      261\n",
      "Diseases of the Respiratory System                                    247\n",
      "Diseases of the Nervous System                                        245\n",
      "Progress Visit, NEC                                                   233\n",
      "Diseases of the Skin and Subcutaneous Tissue                          198\n",
      "Diseases of the Musculoskeletal System and Connective Tissue          194\n",
      "UNCODABLE ENTRIES                                                     148\n",
      "Diseases of the Eye                                                   147\n",
      "Poisoning and Adverse Effects                                         145\n",
      "Symptoms Referable to the Cardiovascular and Lymphatic Systems        136\n",
      "Diseases of the Blood and Blood-forming Organs                        125\n",
      "ADMINISTRATIVE MODULE                                                  93\n",
      "Congenital Anomalies                                                   75\n",
      "Perinatal Morbidity and Mortality Conditions                           66\n",
      "Diseases of the Ear                                                    25\n",
      "Name: count, dtype: int64\n",
      "RFV3_MOD unique values: RFV3_MOD\n",
      "Symptoms Referable to the Respiratory System                         1588\n",
      "Symptoms Referable to the Musculoskeletal System                     1442\n",
      "General Symptoms                                                     1330\n",
      "Symptoms Referable to Psychological and Mental Disorders             1138\n",
      "Symptoms Referable to the Digestive System                            988\n",
      "Symptoms Referable to the Nervous System (Excluding Sense Organs)     658\n",
      "Symptoms Referable to the Eyes and Ears                               533\n",
      "Symptoms Referable to the Genitourinary System                        501\n",
      "Medications                                                           385\n",
      "Symptoms Referable to the Skin, Nails, and Hair                       346\n",
      "Diseases of the Circulatory System                                    326\n",
      "Preoperative and Postoperative Care                                   318\n",
      "Injury, NOS                                                           279\n",
      "Diagnostic Tests                                                      269\n",
      "Endocrine, Nutritional, Metabolic, and Immunity Diseases              228\n",
      "Medical Counseling                                                    206\n",
      "TEST RESULTS MODULE                                                   184\n",
      "Specific Types of Therapy                                             180\n",
      "Social Problem Counseling                                             162\n",
      "Injury by Type and/or Location                                        152\n",
      "Specific Therapeutic Procedures                                       138\n",
      "Diseases of the Respiratory System                                    113\n",
      "Neoplasms                                                             112\n",
      "General Examinations                                                  103\n",
      "Mental Disorders                                                      100\n",
      "Special Examinations                                                   92\n",
      "Diseases of the Nervous System                                         91\n",
      "Infective and Parasitic Diseases                                       89\n",
      "Diseases of the Digestive System                                       84\n",
      "Diseases of the Genitourinary System                                   83\n",
      "Diseases of the Musculoskeletal System and Connective Tissue           77\n",
      "Symptoms Referable to the Cardiovascular and Lymphatic Systems         59\n",
      "Poisoning and Adverse Effects                                          52\n",
      "Family Planning                                                        51\n",
      "Diseases of the Eye                                                    42\n",
      "Diseases of the Skin and Subcutaneous Tissue                           42\n",
      "UNCODABLE ENTRIES                                                      41\n",
      "Diseases of the Blood and Blood-forming Organs                         41\n",
      "Other Screening and Preventive Procedures                              38\n",
      "ADMINISTRATIVE MODULE                                                  20\n",
      "Progress Visit, NEC                                                    20\n",
      "Congenital Anomalies                                                   18\n",
      "Diseases of the Ear                                                     9\n",
      "Perinatal Morbidity and Mortality Conditions                            4\n",
      "Name: count, dtype: int64\n"
     ]
    }
   ],
   "source": [
    "# Find the `START` and `END` range, \n",
    "# and map the corresponding `MODULE_2` to X_train,\n",
    "# according to the value of `RFV1`\n",
    "\n",
    "def get_module(code):\n",
    "    return rvf_summary[(rvf_summary['START'] <= code) & (rvf_summary['END'] >= code)]['MODULE_2'].values[0]\n",
    "\n",
    "\n",
    "X_train['RFV1_MOD'] = X_train['RFV1'].apply(lambda x: get_module(int(str(x)[:4])).strip() if pd.notna(x) else pd.NA)\n",
    "print(f'RFV1_MOD unique values: {X_train[\"RFV1_MOD\"].value_counts()}')\n",
    "\n",
    "X_train['RFV2_MOD'] = X_train['RFV2'].apply(lambda x: get_module(int(str(x)[:4])).strip() if pd.notna(x) else pd.NA)\n",
    "print(f'RFV2_MOD unique values: {X_train[\"RFV2_MOD\"].value_counts()}')\n",
    "\n",
    "X_train['RFV3_MOD'] = X_train['RFV3'].apply(lambda x: get_module(int(str(x)[:4])).strip() if pd.notna(x) else pd.NA)\n",
    "print(f'RFV3_MOD unique values: {X_train[\"RFV3_MOD\"].value_counts()}')"
   ]
  },
  {
   "cell_type": "markdown",
   "metadata": {},
   "source": [
    "#### 3.1.3 - Bin the vitalSigns variables\n",
    "BMI, TEMPF, BPSYS, BPDIAS"
   ]
  },
  {
   "cell_type": "code",
   "execution_count": 12,
   "metadata": {},
   "outputs": [
    {
     "data": {
      "text/html": [
       "\n",
       "<style>\n",
       "  #altair-viz-d424aa4ba7ac45819128f7b16ecfb197.vega-embed {\n",
       "    width: 100%;\n",
       "    display: flex;\n",
       "  }\n",
       "\n",
       "  #altair-viz-d424aa4ba7ac45819128f7b16ecfb197.vega-embed details,\n",
       "  #altair-viz-d424aa4ba7ac45819128f7b16ecfb197.vega-embed details summary {\n",
       "    position: relative;\n",
       "  }\n",
       "</style>\n",
       "<div id=\"altair-viz-d424aa4ba7ac45819128f7b16ecfb197\"></div>\n",
       "<script type=\"text/javascript\">\n",
       "  var VEGA_DEBUG = (typeof VEGA_DEBUG == \"undefined\") ? {} : VEGA_DEBUG;\n",
       "  (function(spec, embedOpt){\n",
       "    let outputDiv = document.currentScript.previousElementSibling;\n",
       "    if (outputDiv.id !== \"altair-viz-d424aa4ba7ac45819128f7b16ecfb197\") {\n",
       "      outputDiv = document.getElementById(\"altair-viz-d424aa4ba7ac45819128f7b16ecfb197\");\n",
       "    }\n",
       "    const paths = {\n",
       "      \"vega\": \"https://cdn.jsdelivr.net/npm/vega@5?noext\",\n",
       "      \"vega-lib\": \"https://cdn.jsdelivr.net/npm/vega-lib?noext\",\n",
       "      \"vega-lite\": \"https://cdn.jsdelivr.net/npm/vega-lite@5.16.3?noext\",\n",
       "      \"vega-embed\": \"https://cdn.jsdelivr.net/npm/vega-embed@6?noext\",\n",
       "    };\n",
       "\n",
       "    function maybeLoadScript(lib, version) {\n",
       "      var key = `${lib.replace(\"-\", \"\")}_version`;\n",
       "      return (VEGA_DEBUG[key] == version) ?\n",
       "        Promise.resolve(paths[lib]) :\n",
       "        new Promise(function(resolve, reject) {\n",
       "          var s = document.createElement('script');\n",
       "          document.getElementsByTagName(\"head\")[0].appendChild(s);\n",
       "          s.async = true;\n",
       "          s.onload = () => {\n",
       "            VEGA_DEBUG[key] = version;\n",
       "            return resolve(paths[lib]);\n",
       "          };\n",
       "          s.onerror = () => reject(`Error loading script: ${paths[lib]}`);\n",
       "          s.src = paths[lib];\n",
       "        });\n",
       "    }\n",
       "\n",
       "    function showError(err) {\n",
       "      outputDiv.innerHTML = `<div class=\"error\" style=\"color:red;\">${err}</div>`;\n",
       "      throw err;\n",
       "    }\n",
       "\n",
       "    function displayChart(vegaEmbed) {\n",
       "      vegaEmbed(outputDiv, spec, embedOpt)\n",
       "        .catch(err => showError(`Javascript Error: ${err.message}<br>This usually means there's a typo in your chart specification. See the javascript console for the full traceback.`));\n",
       "    }\n",
       "\n",
       "    if(typeof define === \"function\" && define.amd) {\n",
       "      requirejs.config({paths});\n",
       "      require([\"vega-embed\"], displayChart, err => showError(`Error loading script: ${err.message}`));\n",
       "    } else {\n",
       "      maybeLoadScript(\"vega\", \"5\")\n",
       "        .then(() => maybeLoadScript(\"vega-lite\", \"5.16.3\"))\n",
       "        .then(() => maybeLoadScript(\"vega-embed\", \"6\"))\n",
       "        .catch(showError)\n",
       "        .then(() => displayChart(vegaEmbed));\n",
       "    }\n",
       "  })({\"$schema\": \"https://vega.github.io/schema/vega/v5.json\", \"data\": [{\"name\": \"param_3_store\"}, {\"name\": \"source_0\"}, {\"name\": \"data_0\", \"values\": [{\"BMI_GROUP\": \"Obesity\", \"__count\": 78126}, {\"BMI_GROUP\": \"Overweight\", \"__count\": 9547}, {\"BMI_GROUP\": \"Normal weight\", \"__count\": 10672}, {\"BMI_GROUP\": \"Underweight\", \"__count\": 5141}]}, {\"name\": \"source_0_x_domain_BMI_GROUP\", \"values\": [{\"BMI_GROUP\": \"Obesity\", \"sort_field\": 3.0}, {\"BMI_GROUP\": \"Overweight\", \"sort_field\": 2.0}, {\"BMI_GROUP\": \"Normal weight\", \"sort_field\": 1.0}, {\"BMI_GROUP\": \"Underweight\", \"sort_field\": 0.0}]}, {\"name\": \"data_0_y_domain___count\", \"values\": [{\"min\": 5141, \"max\": 78126}]}], \"signals\": [{\"name\": \"unit\", \"value\": {}, \"on\": [{\"events\": \"pointermove\", \"update\": \"isTuple(group()) ? group() : unit\"}]}, {\"name\": \"param_3\", \"update\": \"vlSelectionResolve(\\\"param_3_store\\\", \\\"union\\\")\"}, {\"name\": \"param_3_BMI_GROUP\", \"on\": [{\"events\": [{\"source\": \"view\", \"type\": \"dblclick\"}], \"update\": \"null\"}, {\"events\": {\"signal\": \"param_3_translate_delta\"}, \"update\": \"panLinear(param_3_translate_anchor.extent_x, -param_3_translate_delta.x / width)\"}, {\"events\": {\"signal\": \"param_3_zoom_delta\"}, \"update\": \"zoomLinear(domain(\\\"x\\\"), param_3_zoom_anchor.x, param_3_zoom_delta)\"}]}, {\"name\": \"param_3_tuple\", \"on\": [{\"events\": [{\"signal\": \"param_3_BMI_GROUP\"}], \"update\": \"param_3_BMI_GROUP ? {unit: \\\"\\\", fields: param_3_tuple_fields, values: [param_3_BMI_GROUP]} : null\"}]}, {\"name\": \"param_3_tuple_fields\", \"value\": [{\"field\": \"BMI_GROUP\", \"channel\": \"x\", \"type\": \"E\"}]}, {\"name\": \"param_3_translate_anchor\", \"value\": {}, \"on\": [{\"events\": [{\"source\": \"scope\", \"type\": \"pointerdown\"}], \"update\": \"{x: x(unit), y: y(unit), extent_x: domain(\\\"x\\\")}\"}]}, {\"name\": \"param_3_translate_delta\", \"value\": {}, \"on\": [{\"events\": [{\"source\": \"window\", \"between\": [{\"source\": \"scope\", \"type\": \"pointerdown\"}, {\"source\": \"window\", \"type\": \"pointerup\"}], \"consume\": true, \"type\": \"pointermove\"}], \"update\": \"{x: param_3_translate_anchor.x - x(unit), y: param_3_translate_anchor.y - y(unit)}\"}]}, {\"name\": \"param_3_zoom_anchor\", \"on\": [{\"events\": [{\"source\": \"scope\", \"consume\": true, \"type\": \"wheel\"}], \"update\": \"{x: invert(\\\"x\\\", x(unit)), y: invert(\\\"y\\\", y(unit))}\"}]}, {\"name\": \"param_3_zoom_delta\", \"on\": [{\"events\": [{\"source\": \"scope\", \"type\": \"wheel\", \"consume\": true}], \"update\": \"pow(1.001, event.deltaY * pow(16, event.deltaMode))\", \"force\": true}]}, {\"name\": \"param_3_modify\", \"on\": [{\"events\": {\"signal\": \"param_3_tuple\"}, \"update\": \"modify(\\\"param_3_store\\\", param_3_tuple, true)\"}]}], \"marks\": [{\"type\": \"rect\", \"name\": \"marks\", \"from\": {\"data\": \"data_0\"}, \"encode\": {\"update\": {\"width\": {\"signal\": \"max(0.25, bandwidth('x'))\"}, \"y2\": {\"value\": 0, \"scale\": \"y\"}, \"y\": {\"field\": \"__count\", \"scale\": \"y\"}, \"fill\": {\"value\": \"steelblue\"}, \"description\": {\"signal\": \"\\\"BMI_GROUP: \\\" + (isValid(datum[\\\"BMI_GROUP\\\"]) ? datum[\\\"BMI_GROUP\\\"] : \\\"\\\"+datum[\\\"BMI_GROUP\\\"]) + \\\"; Count of Records: \\\" + (format(datum[\\\"__count\\\"], \\\"\\\"))\"}, \"ariaRoleDescription\": {\"value\": \"bar\"}, \"x\": {\"field\": \"BMI_GROUP\", \"scale\": \"x\"}}}, \"interactive\": true, \"style\": [\"bar\"]}], \"scales\": [{\"name\": \"x\", \"type\": \"band\", \"domain\": {\"data\": \"source_0_x_domain_BMI_GROUP\", \"field\": \"BMI_GROUP\", \"sort\": {\"op\": \"max\", \"field\": \"sort_field\"}}, \"range\": [0, {\"signal\": \"width\"}], \"paddingOuter\": 0.05, \"paddingInner\": 0.1}, {\"name\": \"y\", \"type\": \"linear\", \"domain\": [{\"signal\": \"(data(\\\"data_0_y_domain___count\\\")[0] || {}).min\"}, {\"signal\": \"(data(\\\"data_0_y_domain___count\\\")[0] || {}).max\"}], \"range\": [{\"signal\": \"height\"}, 0], \"nice\": true, \"zero\": true}], \"axes\": [{\"scale\": \"y\", \"tickCount\": {\"signal\": \"ceil(height/40)\"}, \"gridScale\": \"x\", \"orient\": \"left\", \"domain\": false, \"labels\": false, \"maxExtent\": 0, \"ticks\": false, \"grid\": true, \"minExtent\": 0, \"aria\": false, \"zindex\": 0}, {\"scale\": \"x\", \"zindex\": 0, \"grid\": false, \"labelBaseline\": \"top\", \"orient\": \"bottom\", \"title\": \"BMI_GROUP\"}, {\"scale\": \"y\", \"zindex\": 0, \"labelOverlap\": true, \"labelAlign\": \"right\", \"grid\": false, \"tickCount\": {\"signal\": \"ceil(height/40)\"}, \"orient\": \"left\", \"title\": \"Count of Records\"}], \"title\": {\"text\": \"Distribution of BMI GROUPS\", \"frame\": \"group\"}, \"padding\": 5, \"style\": \"cell\", \"width\": 480, \"background\": \"white\", \"height\": 320, \"config\": {\"axis\": {\"domain\": false, \"labelAngle\": 0, \"labelColor\": \"gray\", \"labelFontSize\": 10, \"ticks\": false}, \"style\": {\"guide-label\": {\"font\": \"Helvetica Neue\"}, \"guide-title\": {\"font\": \"Helvetica Neue\"}, \"group-title\": {\"font\": \"Helvetica Neue\"}, \"group-subtitle\": {\"font\": \"Helvetica Neue\"}, \"cell\": {\"stroke\": null}, \"text\": {\"font\": \"Helvetica Neue\"}}}}, {\"mode\": \"vega\"});\n",
       "</script>"
      ],
      "text/plain": [
       "alt.Chart(...)"
      ]
     },
     "execution_count": 12,
     "metadata": {},
     "output_type": "execute_result"
    }
   ],
   "source": [
    "# Bin the BMI as weight status\n",
    "# <18.5 = Underweight\n",
    "# 18.5-25 = Normal weight\n",
    "# 25-30 = Overweight\n",
    "# >=30 = Obesity\n",
    "\n",
    "bmi_groups = ['Underweight', 'Normal weight', 'Overweight', 'Obesity']\n",
    "\n",
    "def bin_bmi(bmi):\n",
    "    if bmi < 18.5: return 'Underweight'\n",
    "    elif bmi < 25: return 'Normal weight'\n",
    "    elif bmi < 30: return 'Overweight'\n",
    "    else: return 'Obesity'\n",
    "\n",
    "X_train['BMI_GROUP'] = X_train['BMI'].apply(bin_bmi)\n",
    "\n",
    "# Check the distribution of BMI groups\n",
    "chart(\n",
    "    df=X_train,\n",
    "    x=alt.X('BMI_GROUP:O', sort=bmi_groups),\n",
    "    y='count()',\n",
    "    title='Distribution of BMI GROUPS',\n",
    ").mark_bar().interactive()"
   ]
  },
  {
   "cell_type": "code",
   "execution_count": 13,
   "metadata": {},
   "outputs": [
    {
     "data": {
      "text/html": [
       "\n",
       "<style>\n",
       "  #altair-viz-558ee3f69e8f420ca6e41657bc698f53.vega-embed {\n",
       "    width: 100%;\n",
       "    display: flex;\n",
       "  }\n",
       "\n",
       "  #altair-viz-558ee3f69e8f420ca6e41657bc698f53.vega-embed details,\n",
       "  #altair-viz-558ee3f69e8f420ca6e41657bc698f53.vega-embed details summary {\n",
       "    position: relative;\n",
       "  }\n",
       "</style>\n",
       "<div id=\"altair-viz-558ee3f69e8f420ca6e41657bc698f53\"></div>\n",
       "<script type=\"text/javascript\">\n",
       "  var VEGA_DEBUG = (typeof VEGA_DEBUG == \"undefined\") ? {} : VEGA_DEBUG;\n",
       "  (function(spec, embedOpt){\n",
       "    let outputDiv = document.currentScript.previousElementSibling;\n",
       "    if (outputDiv.id !== \"altair-viz-558ee3f69e8f420ca6e41657bc698f53\") {\n",
       "      outputDiv = document.getElementById(\"altair-viz-558ee3f69e8f420ca6e41657bc698f53\");\n",
       "    }\n",
       "    const paths = {\n",
       "      \"vega\": \"https://cdn.jsdelivr.net/npm/vega@5?noext\",\n",
       "      \"vega-lib\": \"https://cdn.jsdelivr.net/npm/vega-lib?noext\",\n",
       "      \"vega-lite\": \"https://cdn.jsdelivr.net/npm/vega-lite@5.16.3?noext\",\n",
       "      \"vega-embed\": \"https://cdn.jsdelivr.net/npm/vega-embed@6?noext\",\n",
       "    };\n",
       "\n",
       "    function maybeLoadScript(lib, version) {\n",
       "      var key = `${lib.replace(\"-\", \"\")}_version`;\n",
       "      return (VEGA_DEBUG[key] == version) ?\n",
       "        Promise.resolve(paths[lib]) :\n",
       "        new Promise(function(resolve, reject) {\n",
       "          var s = document.createElement('script');\n",
       "          document.getElementsByTagName(\"head\")[0].appendChild(s);\n",
       "          s.async = true;\n",
       "          s.onload = () => {\n",
       "            VEGA_DEBUG[key] = version;\n",
       "            return resolve(paths[lib]);\n",
       "          };\n",
       "          s.onerror = () => reject(`Error loading script: ${paths[lib]}`);\n",
       "          s.src = paths[lib];\n",
       "        });\n",
       "    }\n",
       "\n",
       "    function showError(err) {\n",
       "      outputDiv.innerHTML = `<div class=\"error\" style=\"color:red;\">${err}</div>`;\n",
       "      throw err;\n",
       "    }\n",
       "\n",
       "    function displayChart(vegaEmbed) {\n",
       "      vegaEmbed(outputDiv, spec, embedOpt)\n",
       "        .catch(err => showError(`Javascript Error: ${err.message}<br>This usually means there's a typo in your chart specification. See the javascript console for the full traceback.`));\n",
       "    }\n",
       "\n",
       "    if(typeof define === \"function\" && define.amd) {\n",
       "      requirejs.config({paths});\n",
       "      require([\"vega-embed\"], displayChart, err => showError(`Error loading script: ${err.message}`));\n",
       "    } else {\n",
       "      maybeLoadScript(\"vega\", \"5\")\n",
       "        .then(() => maybeLoadScript(\"vega-lite\", \"5.16.3\"))\n",
       "        .then(() => maybeLoadScript(\"vega-embed\", \"6\"))\n",
       "        .catch(showError)\n",
       "        .then(() => displayChart(vegaEmbed));\n",
       "    }\n",
       "  })({\"$schema\": \"https://vega.github.io/schema/vega/v5.json\", \"data\": [{\"name\": \"param_4_store\"}, {\"name\": \"source_0\"}, {\"name\": \"data_0\", \"values\": [{\"TEMPF_GROUP\": \"Normal temperature\", \"__count\": 41469}, {\"TEMPF_GROUP\": \"Hyperpyrexia\", \"__count\": 57115}, {\"TEMPF_GROUP\": \"Fever\", \"__count\": 4721}, {\"TEMPF_GROUP\": \"Hypothermia\", \"__count\": 181}]}, {\"name\": \"source_0_x_domain_TEMPF_GROUP\", \"values\": [{\"TEMPF_GROUP\": \"Normal temperature\", \"sort_field\": 1.0}, {\"TEMPF_GROUP\": \"Hyperpyrexia\", \"sort_field\": 4.0}, {\"TEMPF_GROUP\": \"Fever\", \"sort_field\": 3.0}, {\"TEMPF_GROUP\": \"Hypothermia\", \"sort_field\": 0.0}]}, {\"name\": \"data_0_y_domain___count\", \"values\": [{\"min\": 181, \"max\": 57115}]}], \"signals\": [{\"name\": \"unit\", \"value\": {}, \"on\": [{\"events\": \"pointermove\", \"update\": \"isTuple(group()) ? group() : unit\"}]}, {\"name\": \"param_4\", \"update\": \"vlSelectionResolve(\\\"param_4_store\\\", \\\"union\\\")\"}, {\"name\": \"param_4_TEMPF_GROUP\", \"on\": [{\"events\": [{\"source\": \"view\", \"type\": \"dblclick\"}], \"update\": \"null\"}, {\"events\": {\"signal\": \"param_4_translate_delta\"}, \"update\": \"panLinear(param_4_translate_anchor.extent_x, -param_4_translate_delta.x / width)\"}, {\"events\": {\"signal\": \"param_4_zoom_delta\"}, \"update\": \"zoomLinear(domain(\\\"x\\\"), param_4_zoom_anchor.x, param_4_zoom_delta)\"}]}, {\"name\": \"param_4_tuple\", \"on\": [{\"events\": [{\"signal\": \"param_4_TEMPF_GROUP\"}], \"update\": \"param_4_TEMPF_GROUP ? {unit: \\\"\\\", fields: param_4_tuple_fields, values: [param_4_TEMPF_GROUP]} : null\"}]}, {\"name\": \"param_4_tuple_fields\", \"value\": [{\"field\": \"TEMPF_GROUP\", \"channel\": \"x\", \"type\": \"E\"}]}, {\"name\": \"param_4_translate_anchor\", \"value\": {}, \"on\": [{\"events\": [{\"source\": \"scope\", \"type\": \"pointerdown\"}], \"update\": \"{x: x(unit), y: y(unit), extent_x: domain(\\\"x\\\")}\"}]}, {\"name\": \"param_4_translate_delta\", \"value\": {}, \"on\": [{\"events\": [{\"source\": \"window\", \"between\": [{\"source\": \"scope\", \"type\": \"pointerdown\"}, {\"source\": \"window\", \"type\": \"pointerup\"}], \"type\": \"pointermove\", \"consume\": true}], \"update\": \"{x: param_4_translate_anchor.x - x(unit), y: param_4_translate_anchor.y - y(unit)}\"}]}, {\"name\": \"param_4_zoom_anchor\", \"on\": [{\"events\": [{\"source\": \"scope\", \"type\": \"wheel\", \"consume\": true}], \"update\": \"{x: invert(\\\"x\\\", x(unit)), y: invert(\\\"y\\\", y(unit))}\"}]}, {\"name\": \"param_4_zoom_delta\", \"on\": [{\"events\": [{\"source\": \"scope\", \"type\": \"wheel\", \"consume\": true}], \"update\": \"pow(1.001, event.deltaY * pow(16, event.deltaMode))\", \"force\": true}]}, {\"name\": \"param_4_modify\", \"on\": [{\"events\": {\"signal\": \"param_4_tuple\"}, \"update\": \"modify(\\\"param_4_store\\\", param_4_tuple, true)\"}]}], \"marks\": [{\"type\": \"rect\", \"name\": \"marks\", \"from\": {\"data\": \"data_0\"}, \"encode\": {\"update\": {\"fill\": {\"value\": \"steelblue\"}, \"x\": {\"field\": \"TEMPF_GROUP\", \"scale\": \"x\"}, \"width\": {\"signal\": \"max(0.25, bandwidth('x'))\"}, \"y\": {\"field\": \"__count\", \"scale\": \"y\"}, \"y2\": {\"value\": 0, \"scale\": \"y\"}, \"description\": {\"signal\": \"\\\"TEMPF_GROUP: \\\" + (isValid(datum[\\\"TEMPF_GROUP\\\"]) ? datum[\\\"TEMPF_GROUP\\\"] : \\\"\\\"+datum[\\\"TEMPF_GROUP\\\"]) + \\\"; Count of Records: \\\" + (format(datum[\\\"__count\\\"], \\\"\\\"))\"}, \"ariaRoleDescription\": {\"value\": \"bar\"}}}, \"interactive\": true, \"style\": [\"bar\"]}], \"scales\": [{\"name\": \"x\", \"type\": \"band\", \"domain\": {\"data\": \"source_0_x_domain_TEMPF_GROUP\", \"field\": \"TEMPF_GROUP\", \"sort\": {\"op\": \"max\", \"field\": \"sort_field\"}}, \"range\": [0, {\"signal\": \"width\"}], \"paddingOuter\": 0.05, \"paddingInner\": 0.1}, {\"name\": \"y\", \"type\": \"linear\", \"domain\": [{\"signal\": \"(data(\\\"data_0_y_domain___count\\\")[0] || {}).min\"}, {\"signal\": \"(data(\\\"data_0_y_domain___count\\\")[0] || {}).max\"}], \"range\": [{\"signal\": \"height\"}, 0], \"nice\": true, \"zero\": true}], \"axes\": [{\"scale\": \"y\", \"domain\": false, \"maxExtent\": 0, \"aria\": false, \"labels\": false, \"minExtent\": 0, \"gridScale\": \"x\", \"grid\": true, \"ticks\": false, \"orient\": \"left\", \"zindex\": 0, \"tickCount\": {\"signal\": \"ceil(height/40)\"}}, {\"scale\": \"x\", \"orient\": \"bottom\", \"title\": \"TEMPF_GROUP\", \"grid\": false, \"labelBaseline\": \"top\", \"zindex\": 0}, {\"scale\": \"y\", \"zindex\": 0, \"title\": \"Count of Records\", \"labelOverlap\": true, \"grid\": false, \"labelAlign\": \"right\", \"tickCount\": {\"signal\": \"ceil(height/40)\"}, \"orient\": \"left\"}], \"title\": {\"text\": \"Distribution of TEMPF GROUPS\", \"frame\": \"group\"}, \"style\": \"cell\", \"width\": 480, \"padding\": 5, \"config\": {\"axis\": {\"domain\": false, \"labelAngle\": 0, \"labelColor\": \"gray\", \"labelFontSize\": 10, \"ticks\": false}, \"style\": {\"guide-label\": {\"font\": \"Helvetica Neue\"}, \"guide-title\": {\"font\": \"Helvetica Neue\"}, \"group-title\": {\"font\": \"Helvetica Neue\"}, \"group-subtitle\": {\"font\": \"Helvetica Neue\"}, \"cell\": {\"stroke\": null}, \"text\": {\"font\": \"Helvetica Neue\"}}}, \"background\": \"white\", \"height\": 320}, {\"mode\": \"vega\"});\n",
       "</script>"
      ],
      "text/plain": [
       "alt.Chart(...)"
      ]
     },
     "execution_count": 13,
     "metadata": {},
     "output_type": "execute_result"
    }
   ],
   "source": [
    "# Bin the TEMPF as fever status\n",
    "# <95 = Hypothermia\n",
    "# 95-99 = Normal temperature\n",
    "# 99-100 = Low grade fever\n",
    "# 100-103 = Fever\n",
    "# >=103 = Hyperpyrexia\n",
    "\n",
    "tempf_groups = ['Hypothermia', 'Normal temperature', 'Low grade fever', 'Fever', 'Hyperpyrexia']\n",
    "\n",
    "def bin_tempf(tempf):\n",
    "    if tempf < 95: return 'Hypothermia'\n",
    "    elif tempf < 99: return 'Normal temperature'\n",
    "    #elif tempf < 100: return 'Low grade fever'\n",
    "    elif tempf < 103: return 'Fever'\n",
    "    else: return 'Hyperpyrexia'\n",
    "\n",
    "X_train['TEMPF_GROUP'] = X_train['TEMPF'].apply(bin_tempf)\n",
    "\n",
    "# Check the distribution of TEMPF groups\n",
    "chart(\n",
    "    df=X_train,\n",
    "    x=alt.X('TEMPF_GROUP:O', sort=tempf_groups),\n",
    "    y='count()',\n",
    "    title='Distribution of TEMPF GROUPS',\n",
    ").mark_bar().interactive()"
   ]
  },
  {
   "cell_type": "code",
   "execution_count": 14,
   "metadata": {},
   "outputs": [
    {
     "data": {
      "text/html": [
       "\n",
       "<style>\n",
       "  #altair-viz-be5812ff817d4a12800fe86517caa8df.vega-embed {\n",
       "    width: 100%;\n",
       "    display: flex;\n",
       "  }\n",
       "\n",
       "  #altair-viz-be5812ff817d4a12800fe86517caa8df.vega-embed details,\n",
       "  #altair-viz-be5812ff817d4a12800fe86517caa8df.vega-embed details summary {\n",
       "    position: relative;\n",
       "  }\n",
       "</style>\n",
       "<div id=\"altair-viz-be5812ff817d4a12800fe86517caa8df\"></div>\n",
       "<script type=\"text/javascript\">\n",
       "  var VEGA_DEBUG = (typeof VEGA_DEBUG == \"undefined\") ? {} : VEGA_DEBUG;\n",
       "  (function(spec, embedOpt){\n",
       "    let outputDiv = document.currentScript.previousElementSibling;\n",
       "    if (outputDiv.id !== \"altair-viz-be5812ff817d4a12800fe86517caa8df\") {\n",
       "      outputDiv = document.getElementById(\"altair-viz-be5812ff817d4a12800fe86517caa8df\");\n",
       "    }\n",
       "    const paths = {\n",
       "      \"vega\": \"https://cdn.jsdelivr.net/npm/vega@5?noext\",\n",
       "      \"vega-lib\": \"https://cdn.jsdelivr.net/npm/vega-lib?noext\",\n",
       "      \"vega-lite\": \"https://cdn.jsdelivr.net/npm/vega-lite@5.16.3?noext\",\n",
       "      \"vega-embed\": \"https://cdn.jsdelivr.net/npm/vega-embed@6?noext\",\n",
       "    };\n",
       "\n",
       "    function maybeLoadScript(lib, version) {\n",
       "      var key = `${lib.replace(\"-\", \"\")}_version`;\n",
       "      return (VEGA_DEBUG[key] == version) ?\n",
       "        Promise.resolve(paths[lib]) :\n",
       "        new Promise(function(resolve, reject) {\n",
       "          var s = document.createElement('script');\n",
       "          document.getElementsByTagName(\"head\")[0].appendChild(s);\n",
       "          s.async = true;\n",
       "          s.onload = () => {\n",
       "            VEGA_DEBUG[key] = version;\n",
       "            return resolve(paths[lib]);\n",
       "          };\n",
       "          s.onerror = () => reject(`Error loading script: ${paths[lib]}`);\n",
       "          s.src = paths[lib];\n",
       "        });\n",
       "    }\n",
       "\n",
       "    function showError(err) {\n",
       "      outputDiv.innerHTML = `<div class=\"error\" style=\"color:red;\">${err}</div>`;\n",
       "      throw err;\n",
       "    }\n",
       "\n",
       "    function displayChart(vegaEmbed) {\n",
       "      vegaEmbed(outputDiv, spec, embedOpt)\n",
       "        .catch(err => showError(`Javascript Error: ${err.message}<br>This usually means there's a typo in your chart specification. See the javascript console for the full traceback.`));\n",
       "    }\n",
       "\n",
       "    if(typeof define === \"function\" && define.amd) {\n",
       "      requirejs.config({paths});\n",
       "      require([\"vega-embed\"], displayChart, err => showError(`Error loading script: ${err.message}`));\n",
       "    } else {\n",
       "      maybeLoadScript(\"vega\", \"5\")\n",
       "        .then(() => maybeLoadScript(\"vega-lite\", \"5.16.3\"))\n",
       "        .then(() => maybeLoadScript(\"vega-embed\", \"6\"))\n",
       "        .catch(showError)\n",
       "        .then(() => displayChart(vegaEmbed));\n",
       "    }\n",
       "  })({\"$schema\": \"https://vega.github.io/schema/vega/v5.json\", \"data\": [{\"name\": \"param_5_store\"}, {\"name\": \"source_0\"}, {\"name\": \"data_0\", \"values\": [{\"BPSYS_GROUP\": \"Hypertension\", \"__count\": 53707}, {\"BPSYS_GROUP\": \"Normal blood pressure\", \"__count\": 26064}, {\"BPSYS_GROUP\": \"Prehypertension\", \"__count\": 22513}, {\"BPSYS_GROUP\": \"Hypotension\", \"__count\": 1202}]}, {\"name\": \"source_0_x_domain_BPSYS_GROUP\", \"values\": [{\"BPSYS_GROUP\": \"Hypertension\", \"sort_field\": 3.0}, {\"BPSYS_GROUP\": \"Normal blood pressure\", \"sort_field\": 1.0}, {\"BPSYS_GROUP\": \"Prehypertension\", \"sort_field\": 2.0}, {\"BPSYS_GROUP\": \"Hypotension\", \"sort_field\": 0.0}]}, {\"name\": \"data_0_y_domain___count\", \"values\": [{\"min\": 1202, \"max\": 53707}]}], \"signals\": [{\"name\": \"unit\", \"value\": {}, \"on\": [{\"events\": \"pointermove\", \"update\": \"isTuple(group()) ? group() : unit\"}]}, {\"name\": \"param_5\", \"update\": \"vlSelectionResolve(\\\"param_5_store\\\", \\\"union\\\")\"}, {\"name\": \"param_5_BPSYS_GROUP\", \"on\": [{\"events\": [{\"source\": \"view\", \"type\": \"dblclick\"}], \"update\": \"null\"}, {\"events\": {\"signal\": \"param_5_translate_delta\"}, \"update\": \"panLinear(param_5_translate_anchor.extent_x, -param_5_translate_delta.x / width)\"}, {\"events\": {\"signal\": \"param_5_zoom_delta\"}, \"update\": \"zoomLinear(domain(\\\"x\\\"), param_5_zoom_anchor.x, param_5_zoom_delta)\"}]}, {\"name\": \"param_5_tuple\", \"on\": [{\"events\": [{\"signal\": \"param_5_BPSYS_GROUP\"}], \"update\": \"param_5_BPSYS_GROUP ? {unit: \\\"\\\", fields: param_5_tuple_fields, values: [param_5_BPSYS_GROUP]} : null\"}]}, {\"name\": \"param_5_tuple_fields\", \"value\": [{\"field\": \"BPSYS_GROUP\", \"channel\": \"x\", \"type\": \"E\"}]}, {\"name\": \"param_5_translate_anchor\", \"value\": {}, \"on\": [{\"events\": [{\"source\": \"scope\", \"type\": \"pointerdown\"}], \"update\": \"{x: x(unit), y: y(unit), extent_x: domain(\\\"x\\\")}\"}]}, {\"name\": \"param_5_translate_delta\", \"value\": {}, \"on\": [{\"events\": [{\"source\": \"window\", \"between\": [{\"source\": \"scope\", \"type\": \"pointerdown\"}, {\"source\": \"window\", \"type\": \"pointerup\"}], \"consume\": true, \"type\": \"pointermove\"}], \"update\": \"{x: param_5_translate_anchor.x - x(unit), y: param_5_translate_anchor.y - y(unit)}\"}]}, {\"name\": \"param_5_zoom_anchor\", \"on\": [{\"events\": [{\"source\": \"scope\", \"consume\": true, \"type\": \"wheel\"}], \"update\": \"{x: invert(\\\"x\\\", x(unit)), y: invert(\\\"y\\\", y(unit))}\"}]}, {\"name\": \"param_5_zoom_delta\", \"on\": [{\"events\": [{\"source\": \"scope\", \"consume\": true, \"type\": \"wheel\"}], \"update\": \"pow(1.001, event.deltaY * pow(16, event.deltaMode))\", \"force\": true}]}, {\"name\": \"param_5_modify\", \"on\": [{\"events\": {\"signal\": \"param_5_tuple\"}, \"update\": \"modify(\\\"param_5_store\\\", param_5_tuple, true)\"}]}], \"marks\": [{\"type\": \"rect\", \"name\": \"marks\", \"from\": {\"data\": \"data_0\"}, \"encode\": {\"update\": {\"x\": {\"field\": \"BPSYS_GROUP\", \"scale\": \"x\"}, \"width\": {\"signal\": \"max(0.25, bandwidth('x'))\"}, \"y2\": {\"value\": 0, \"scale\": \"y\"}, \"ariaRoleDescription\": {\"value\": \"bar\"}, \"fill\": {\"value\": \"steelblue\"}, \"y\": {\"field\": \"__count\", \"scale\": \"y\"}, \"description\": {\"signal\": \"\\\"BPSYS_GROUP: \\\" + (isValid(datum[\\\"BPSYS_GROUP\\\"]) ? datum[\\\"BPSYS_GROUP\\\"] : \\\"\\\"+datum[\\\"BPSYS_GROUP\\\"]) + \\\"; Count of Records: \\\" + (format(datum[\\\"__count\\\"], \\\"\\\"))\"}}}, \"style\": [\"bar\"], \"interactive\": true}], \"scales\": [{\"name\": \"x\", \"type\": \"band\", \"domain\": {\"data\": \"source_0_x_domain_BPSYS_GROUP\", \"field\": \"BPSYS_GROUP\", \"sort\": {\"op\": \"max\", \"field\": \"sort_field\"}}, \"range\": [0, {\"signal\": \"width\"}], \"paddingInner\": 0.1, \"paddingOuter\": 0.05}, {\"name\": \"y\", \"type\": \"linear\", \"domain\": [{\"signal\": \"(data(\\\"data_0_y_domain___count\\\")[0] || {}).min\"}, {\"signal\": \"(data(\\\"data_0_y_domain___count\\\")[0] || {}).max\"}], \"range\": [{\"signal\": \"height\"}, 0], \"zero\": true, \"nice\": true}], \"axes\": [{\"scale\": \"y\", \"domain\": false, \"labels\": false, \"tickCount\": {\"signal\": \"ceil(height/40)\"}, \"minExtent\": 0, \"aria\": false, \"gridScale\": \"x\", \"grid\": true, \"orient\": \"left\", \"maxExtent\": 0, \"ticks\": false, \"zindex\": 0}, {\"scale\": \"x\", \"title\": \"BPSYS_GROUP\", \"grid\": false, \"zindex\": 0, \"orient\": \"bottom\", \"labelBaseline\": \"top\"}, {\"scale\": \"y\", \"zindex\": 0, \"tickCount\": {\"signal\": \"ceil(height/40)\"}, \"labelAlign\": \"right\", \"grid\": false, \"orient\": \"left\", \"title\": \"Count of Records\", \"labelOverlap\": true}], \"title\": {\"text\": \"Distribution of BPSYS GROUPS\", \"frame\": \"group\"}, \"style\": \"cell\", \"config\": {\"axis\": {\"domain\": false, \"labelAngle\": 0, \"labelColor\": \"gray\", \"labelFontSize\": 10, \"ticks\": false}, \"style\": {\"guide-label\": {\"font\": \"Helvetica Neue\"}, \"guide-title\": {\"font\": \"Helvetica Neue\"}, \"group-title\": {\"font\": \"Helvetica Neue\"}, \"group-subtitle\": {\"font\": \"Helvetica Neue\"}, \"cell\": {\"stroke\": null}, \"text\": {\"font\": \"Helvetica Neue\"}}}, \"width\": 480, \"height\": 320, \"background\": \"white\", \"padding\": 5}, {\"mode\": \"vega\"});\n",
       "</script>"
      ],
      "text/plain": [
       "alt.Chart(...)"
      ]
     },
     "execution_count": 14,
     "metadata": {},
     "output_type": "execute_result"
    }
   ],
   "source": [
    "# Bin the BPSYS as systolic blood pressure status\n",
    "# <90 = Hypotension\n",
    "# 90-120 = Normal blood pressure\n",
    "# 120-140 = Prehypertension\n",
    "# >=140 = Hypertension\n",
    "\n",
    "bpsys_groups = ['Hypotension', 'Normal blood pressure', 'Prehypertension', 'Hypertension']\n",
    "\n",
    "def bin_bpsys(bpsys):\n",
    "    if bpsys < 90: return 'Hypotension'\n",
    "    elif bpsys < 120: return 'Normal blood pressure'\n",
    "    elif bpsys < 140: return 'Prehypertension'\n",
    "    else: return 'Hypertension'\n",
    "\n",
    "X_train['BPSYS_GROUP'] = X_train['BPSYS'].apply(bin_bpsys)\n",
    "\n",
    "# Check the distribution of BPSYS groups\n",
    "chart(\n",
    "    df=X_train,\n",
    "    x=alt.X('BPSYS_GROUP:O', sort=bpsys_groups),\n",
    "    y='count()',\n",
    "    title='Distribution of BPSYS GROUPS',\n",
    ").mark_bar().interactive()"
   ]
  },
  {
   "cell_type": "code",
   "execution_count": 15,
   "metadata": {},
   "outputs": [
    {
     "data": {
      "text/html": [
       "\n",
       "<style>\n",
       "  #altair-viz-945f0d515ea04908bd62b013a5bcda83.vega-embed {\n",
       "    width: 100%;\n",
       "    display: flex;\n",
       "  }\n",
       "\n",
       "  #altair-viz-945f0d515ea04908bd62b013a5bcda83.vega-embed details,\n",
       "  #altair-viz-945f0d515ea04908bd62b013a5bcda83.vega-embed details summary {\n",
       "    position: relative;\n",
       "  }\n",
       "</style>\n",
       "<div id=\"altair-viz-945f0d515ea04908bd62b013a5bcda83\"></div>\n",
       "<script type=\"text/javascript\">\n",
       "  var VEGA_DEBUG = (typeof VEGA_DEBUG == \"undefined\") ? {} : VEGA_DEBUG;\n",
       "  (function(spec, embedOpt){\n",
       "    let outputDiv = document.currentScript.previousElementSibling;\n",
       "    if (outputDiv.id !== \"altair-viz-945f0d515ea04908bd62b013a5bcda83\") {\n",
       "      outputDiv = document.getElementById(\"altair-viz-945f0d515ea04908bd62b013a5bcda83\");\n",
       "    }\n",
       "    const paths = {\n",
       "      \"vega\": \"https://cdn.jsdelivr.net/npm/vega@5?noext\",\n",
       "      \"vega-lib\": \"https://cdn.jsdelivr.net/npm/vega-lib?noext\",\n",
       "      \"vega-lite\": \"https://cdn.jsdelivr.net/npm/vega-lite@5.16.3?noext\",\n",
       "      \"vega-embed\": \"https://cdn.jsdelivr.net/npm/vega-embed@6?noext\",\n",
       "    };\n",
       "\n",
       "    function maybeLoadScript(lib, version) {\n",
       "      var key = `${lib.replace(\"-\", \"\")}_version`;\n",
       "      return (VEGA_DEBUG[key] == version) ?\n",
       "        Promise.resolve(paths[lib]) :\n",
       "        new Promise(function(resolve, reject) {\n",
       "          var s = document.createElement('script');\n",
       "          document.getElementsByTagName(\"head\")[0].appendChild(s);\n",
       "          s.async = true;\n",
       "          s.onload = () => {\n",
       "            VEGA_DEBUG[key] = version;\n",
       "            return resolve(paths[lib]);\n",
       "          };\n",
       "          s.onerror = () => reject(`Error loading script: ${paths[lib]}`);\n",
       "          s.src = paths[lib];\n",
       "        });\n",
       "    }\n",
       "\n",
       "    function showError(err) {\n",
       "      outputDiv.innerHTML = `<div class=\"error\" style=\"color:red;\">${err}</div>`;\n",
       "      throw err;\n",
       "    }\n",
       "\n",
       "    function displayChart(vegaEmbed) {\n",
       "      vegaEmbed(outputDiv, spec, embedOpt)\n",
       "        .catch(err => showError(`Javascript Error: ${err.message}<br>This usually means there's a typo in your chart specification. See the javascript console for the full traceback.`));\n",
       "    }\n",
       "\n",
       "    if(typeof define === \"function\" && define.amd) {\n",
       "      requirejs.config({paths});\n",
       "      require([\"vega-embed\"], displayChart, err => showError(`Error loading script: ${err.message}`));\n",
       "    } else {\n",
       "      maybeLoadScript(\"vega\", \"5\")\n",
       "        .then(() => maybeLoadScript(\"vega-lite\", \"5.16.3\"))\n",
       "        .then(() => maybeLoadScript(\"vega-embed\", \"6\"))\n",
       "        .catch(showError)\n",
       "        .then(() => displayChart(vegaEmbed));\n",
       "    }\n",
       "  })({\"$schema\": \"https://vega.github.io/schema/vega/v5.json\", \"data\": [{\"name\": \"param_6_store\"}, {\"name\": \"source_0\"}, {\"name\": \"data_0\", \"values\": [{\"BPDIAS_GROUP\": \"High diastolic blood pressure\", \"__count\": 5453}, {\"BPDIAS_GROUP\": \"Normal diastolic blood pressure\", \"__count\": 50124}, {\"BPDIAS_GROUP\": \"Hypertension\", \"__count\": 41243}, {\"BPDIAS_GROUP\": \"Low diastolic blood pressure\", \"__count\": 6666}]}, {\"name\": \"source_0_x_domain_BPDIAS_GROUP\", \"values\": [{\"BPDIAS_GROUP\": \"High diastolic blood pressure\", \"sort_field\": 2.0}, {\"BPDIAS_GROUP\": \"Normal diastolic blood pressure\", \"sort_field\": 1.0}, {\"BPDIAS_GROUP\": \"Hypertension\", \"sort_field\": 3.0}, {\"BPDIAS_GROUP\": \"Low diastolic blood pressure\", \"sort_field\": 0.0}]}, {\"name\": \"data_0_y_domain___count\", \"values\": [{\"min\": 5453, \"max\": 50124}]}], \"signals\": [{\"name\": \"unit\", \"value\": {}, \"on\": [{\"events\": \"pointermove\", \"update\": \"isTuple(group()) ? group() : unit\"}]}, {\"name\": \"param_6\", \"update\": \"vlSelectionResolve(\\\"param_6_store\\\", \\\"union\\\")\"}, {\"name\": \"param_6_BPDIAS_GROUP\", \"on\": [{\"events\": [{\"source\": \"view\", \"type\": \"dblclick\"}], \"update\": \"null\"}, {\"events\": {\"signal\": \"param_6_translate_delta\"}, \"update\": \"panLinear(param_6_translate_anchor.extent_x, -param_6_translate_delta.x / width)\"}, {\"events\": {\"signal\": \"param_6_zoom_delta\"}, \"update\": \"zoomLinear(domain(\\\"x\\\"), param_6_zoom_anchor.x, param_6_zoom_delta)\"}]}, {\"name\": \"param_6_tuple\", \"on\": [{\"events\": [{\"signal\": \"param_6_BPDIAS_GROUP\"}], \"update\": \"param_6_BPDIAS_GROUP ? {unit: \\\"\\\", fields: param_6_tuple_fields, values: [param_6_BPDIAS_GROUP]} : null\"}]}, {\"name\": \"param_6_tuple_fields\", \"value\": [{\"field\": \"BPDIAS_GROUP\", \"channel\": \"x\", \"type\": \"E\"}]}, {\"name\": \"param_6_translate_anchor\", \"value\": {}, \"on\": [{\"events\": [{\"source\": \"scope\", \"type\": \"pointerdown\"}], \"update\": \"{x: x(unit), y: y(unit), extent_x: domain(\\\"x\\\")}\"}]}, {\"name\": \"param_6_translate_delta\", \"value\": {}, \"on\": [{\"events\": [{\"source\": \"window\", \"between\": [{\"source\": \"scope\", \"type\": \"pointerdown\"}, {\"source\": \"window\", \"type\": \"pointerup\"}], \"type\": \"pointermove\", \"consume\": true}], \"update\": \"{x: param_6_translate_anchor.x - x(unit), y: param_6_translate_anchor.y - y(unit)}\"}]}, {\"name\": \"param_6_zoom_anchor\", \"on\": [{\"events\": [{\"source\": \"scope\", \"type\": \"wheel\", \"consume\": true}], \"update\": \"{x: invert(\\\"x\\\", x(unit)), y: invert(\\\"y\\\", y(unit))}\"}]}, {\"name\": \"param_6_zoom_delta\", \"on\": [{\"events\": [{\"source\": \"scope\", \"type\": \"wheel\", \"consume\": true}], \"update\": \"pow(1.001, event.deltaY * pow(16, event.deltaMode))\", \"force\": true}]}, {\"name\": \"param_6_modify\", \"on\": [{\"events\": {\"signal\": \"param_6_tuple\"}, \"update\": \"modify(\\\"param_6_store\\\", param_6_tuple, true)\"}]}], \"marks\": [{\"type\": \"rect\", \"name\": \"marks\", \"from\": {\"data\": \"data_0\"}, \"encode\": {\"update\": {\"y\": {\"field\": \"__count\", \"scale\": \"y\"}, \"y2\": {\"value\": 0, \"scale\": \"y\"}, \"description\": {\"signal\": \"\\\"BPDIAS_GROUP: \\\" + (isValid(datum[\\\"BPDIAS_GROUP\\\"]) ? datum[\\\"BPDIAS_GROUP\\\"] : \\\"\\\"+datum[\\\"BPDIAS_GROUP\\\"]) + \\\"; Count of Records: \\\" + (format(datum[\\\"__count\\\"], \\\"\\\"))\"}, \"x\": {\"field\": \"BPDIAS_GROUP\", \"scale\": \"x\"}, \"fill\": {\"value\": \"steelblue\"}, \"ariaRoleDescription\": {\"value\": \"bar\"}, \"width\": {\"signal\": \"max(0.25, bandwidth('x'))\"}}}, \"interactive\": true, \"style\": [\"bar\"]}], \"scales\": [{\"name\": \"x\", \"type\": \"band\", \"domain\": {\"data\": \"source_0_x_domain_BPDIAS_GROUP\", \"field\": \"BPDIAS_GROUP\", \"sort\": {\"op\": \"max\", \"field\": \"sort_field\"}}, \"range\": [0, {\"signal\": \"width\"}], \"paddingInner\": 0.1, \"paddingOuter\": 0.05}, {\"name\": \"y\", \"type\": \"linear\", \"domain\": [{\"signal\": \"(data(\\\"data_0_y_domain___count\\\")[0] || {}).min\"}, {\"signal\": \"(data(\\\"data_0_y_domain___count\\\")[0] || {}).max\"}], \"range\": [{\"signal\": \"height\"}, 0], \"zero\": true, \"nice\": true}], \"axes\": [{\"scale\": \"y\", \"zindex\": 0, \"tickCount\": {\"signal\": \"ceil(height/40)\"}, \"gridScale\": \"x\", \"maxExtent\": 0, \"labels\": false, \"minExtent\": 0, \"domain\": false, \"grid\": true, \"ticks\": false, \"aria\": false, \"orient\": \"left\"}, {\"scale\": \"x\", \"orient\": \"bottom\", \"title\": \"BPDIAS_GROUP\", \"zindex\": 0, \"grid\": false, \"labelBaseline\": \"top\"}, {\"scale\": \"y\", \"orient\": \"left\", \"grid\": false, \"labelOverlap\": true, \"zindex\": 0, \"title\": \"Count of Records\", \"labelAlign\": \"right\", \"tickCount\": {\"signal\": \"ceil(height/40)\"}}], \"title\": {\"text\": \"Distribution of BPDIAS GROUPS\", \"frame\": \"group\"}, \"height\": 320, \"style\": \"cell\", \"config\": {\"axis\": {\"domain\": false, \"labelAngle\": 0, \"labelColor\": \"gray\", \"labelFontSize\": 10, \"ticks\": false}, \"style\": {\"guide-label\": {\"font\": \"Helvetica Neue\"}, \"guide-title\": {\"font\": \"Helvetica Neue\"}, \"group-title\": {\"font\": \"Helvetica Neue\"}, \"group-subtitle\": {\"font\": \"Helvetica Neue\"}, \"cell\": {\"stroke\": null}, \"text\": {\"font\": \"Helvetica Neue\"}}}, \"background\": \"white\", \"width\": 480, \"padding\": 5}, {\"mode\": \"vega\"});\n",
       "</script>"
      ],
      "text/plain": [
       "alt.Chart(...)"
      ]
     },
     "execution_count": 15,
     "metadata": {},
     "output_type": "execute_result"
    }
   ],
   "source": [
    "# Bin the BPDIAS as diastolic blood pressure status\n",
    "# <60 = Low diastolic blood pressure\n",
    "# 60-90 = Normal diastolic blood pressure\n",
    "# 90-110 = High diastolic blood pressure\n",
    "# >=110 = Hypertension\n",
    "\n",
    "bpdias_groups = [\n",
    "    'Low diastolic blood pressure', 'Normal diastolic blood pressure', 'High diastolic blood pressure', 'Hypertension'\n",
    "]\n",
    "\n",
    "def bin_bpdias(bpdias):\n",
    "    if bpdias < 60: return 'Low diastolic blood pressure'\n",
    "    elif bpdias < 90: return 'Normal diastolic blood pressure'\n",
    "    elif bpdias < 110: return 'High diastolic blood pressure'\n",
    "    else: return 'Hypertension'\n",
    "\n",
    "X_train['BPDIAS_GROUP'] = X_train['BPDIAS'].apply(bin_bpdias)\n",
    "\n",
    "# Check the distribution of BPDIAS groups\n",
    "chart(\n",
    "    df=X_train,\n",
    "    x=alt.X('BPDIAS_GROUP:O', sort=bpdias_groups),\n",
    "    y='count()',\n",
    "    title='Distribution of BPDIAS GROUPS',\n",
    ").mark_bar().interactive()"
   ]
  },
  {
   "cell_type": "markdown",
   "metadata": {},
   "source": [
    "#### 3.1.4 - Define the list of bin features for the following quantitative variables:\n",
    "\n",
    "AGE, RFV1, RFV2, RFV3, BMI, TEMPF, BPSYS, BPDIAS"
   ]
  },
  {
   "cell_type": "code",
   "execution_count": 16,
   "metadata": {},
   "outputs": [],
   "source": [
    "bin_features = ['AGE_GROUP', 'RFV1_MOD', 'RFV2_MOD', 'RFV3_MOD', 'BMI_GROUP', 'TEMPF_GROUP', 'BPSYS_GROUP', 'BPDIAS_GROUP']"
   ]
  },
  {
   "cell_type": "markdown",
   "metadata": {},
   "source": [
    "### 3.2 - Normalization of the rest quantitative variables\n",
    "Normalize the following quantitative variables:\n",
    "\n",
    "PASTVIS, HTIN, WTLB"
   ]
  },
  {
   "cell_type": "code",
   "execution_count": 17,
   "metadata": {},
   "outputs": [],
   "source": [
    "from sklearn.preprocessing import StandardScaler"
   ]
  },
  {
   "cell_type": "code",
   "execution_count": 18,
   "metadata": {},
   "outputs": [
    {
     "data": {
      "text/html": [
       "<div>\n",
       "<style scoped>\n",
       "    .dataframe tbody tr th:only-of-type {\n",
       "        vertical-align: middle;\n",
       "    }\n",
       "\n",
       "    .dataframe tbody tr th {\n",
       "        vertical-align: top;\n",
       "    }\n",
       "\n",
       "    .dataframe thead th {\n",
       "        text-align: right;\n",
       "    }\n",
       "</style>\n",
       "<table border=\"1\" class=\"dataframe\">\n",
       "  <thead>\n",
       "    <tr style=\"text-align: right;\">\n",
       "      <th></th>\n",
       "      <th>PASTVIS</th>\n",
       "      <th>HTIN</th>\n",
       "      <th>WTLB</th>\n",
       "    </tr>\n",
       "  </thead>\n",
       "  <tbody>\n",
       "    <tr>\n",
       "      <th>0</th>\n",
       "      <td>-0.133476</td>\n",
       "      <td>0.530558</td>\n",
       "      <td>1.762024</td>\n",
       "    </tr>\n",
       "    <tr>\n",
       "      <th>1</th>\n",
       "      <td>-0.554639</td>\n",
       "      <td>0.609827</td>\n",
       "      <td>0.586196</td>\n",
       "    </tr>\n",
       "    <tr>\n",
       "      <th>2</th>\n",
       "      <td>0.147299</td>\n",
       "      <td>-0.103596</td>\n",
       "      <td>0.329405</td>\n",
       "    </tr>\n",
       "    <tr>\n",
       "      <th>3</th>\n",
       "      <td>-0.554639</td>\n",
       "      <td>-1.926787</td>\n",
       "      <td>-1.670855</td>\n",
       "    </tr>\n",
       "    <tr>\n",
       "      <th>4</th>\n",
       "      <td>0.147299</td>\n",
       "      <td>0.372019</td>\n",
       "      <td>-0.035507</td>\n",
       "    </tr>\n",
       "  </tbody>\n",
       "</table>\n",
       "</div>"
      ],
      "text/plain": [
       "    PASTVIS      HTIN      WTLB\n",
       "0 -0.133476  0.530558  1.762024\n",
       "1 -0.554639  0.609827  0.586196\n",
       "2  0.147299 -0.103596  0.329405\n",
       "3 -0.554639 -1.926787 -1.670855\n",
       "4  0.147299  0.372019 -0.035507"
      ]
     },
     "execution_count": 18,
     "metadata": {},
     "output_type": "execute_result"
    }
   ],
   "source": [
    "quantitative_features = ['PASTVIS', 'HTIN', 'WTLB']\n",
    "\n",
    "# Normalize quantitative features\n",
    "scaler = StandardScaler()\n",
    "X_train[quantitative_features] = scaler.fit_transform(X_train[quantitative_features])\n",
    "\n",
    "# Check the result\n",
    "X_train[quantitative_features].head()"
   ]
  },
  {
   "cell_type": "markdown",
   "metadata": {},
   "source": [
    "### 3.3 - Encode categorical features"
   ]
  },
  {
   "cell_type": "markdown",
   "metadata": {},
   "source": [
    "#### 3.3.1 - Encode binary categorical features"
   ]
  },
  {
   "cell_type": "code",
   "execution_count": 19,
   "metadata": {},
   "outputs": [
    {
     "name": "stdout",
     "output_type": "stream",
     "text": [
      "Binary Features: ['SEX', 'USETOBAC', 'ARTHRTIS', 'ASTHMA', 'CANCER', 'CEBVD', 'CHF', 'CRF', 'COPD', 'DEPRN', 'DIABETES', 'HYPLIPID', 'HTN', 'IHD', 'OBESITY', 'OSTPRSIS']\n",
      "Number of Binary Features: 16\n"
     ]
    },
    {
     "data": {
      "text/html": [
       "<div>\n",
       "<style scoped>\n",
       "    .dataframe tbody tr th:only-of-type {\n",
       "        vertical-align: middle;\n",
       "    }\n",
       "\n",
       "    .dataframe tbody tr th {\n",
       "        vertical-align: top;\n",
       "    }\n",
       "\n",
       "    .dataframe thead th {\n",
       "        text-align: right;\n",
       "    }\n",
       "</style>\n",
       "<table border=\"1\" class=\"dataframe\">\n",
       "  <thead>\n",
       "    <tr style=\"text-align: right;\">\n",
       "      <th></th>\n",
       "      <th>SEX</th>\n",
       "      <th>USETOBAC</th>\n",
       "      <th>ARTHRTIS</th>\n",
       "      <th>ASTHMA</th>\n",
       "      <th>CANCER</th>\n",
       "      <th>CEBVD</th>\n",
       "      <th>CHF</th>\n",
       "      <th>CRF</th>\n",
       "      <th>COPD</th>\n",
       "      <th>DEPRN</th>\n",
       "      <th>DIABETES</th>\n",
       "      <th>HYPLIPID</th>\n",
       "      <th>HTN</th>\n",
       "      <th>IHD</th>\n",
       "      <th>OBESITY</th>\n",
       "      <th>OSTPRSIS</th>\n",
       "    </tr>\n",
       "  </thead>\n",
       "  <tbody>\n",
       "    <tr>\n",
       "      <th>0</th>\n",
       "      <td>False</td>\n",
       "      <td>True</td>\n",
       "      <td>False</td>\n",
       "      <td>False</td>\n",
       "      <td>False</td>\n",
       "      <td>False</td>\n",
       "      <td>False</td>\n",
       "      <td>False</td>\n",
       "      <td>False</td>\n",
       "      <td>False</td>\n",
       "      <td>True</td>\n",
       "      <td>True</td>\n",
       "      <td>False</td>\n",
       "      <td>False</td>\n",
       "      <td>True</td>\n",
       "      <td>False</td>\n",
       "    </tr>\n",
       "    <tr>\n",
       "      <th>1</th>\n",
       "      <td>False</td>\n",
       "      <td>True</td>\n",
       "      <td>False</td>\n",
       "      <td>False</td>\n",
       "      <td>False</td>\n",
       "      <td>False</td>\n",
       "      <td>False</td>\n",
       "      <td>False</td>\n",
       "      <td>True</td>\n",
       "      <td>False</td>\n",
       "      <td>False</td>\n",
       "      <td>True</td>\n",
       "      <td>True</td>\n",
       "      <td>False</td>\n",
       "      <td>False</td>\n",
       "      <td>False</td>\n",
       "    </tr>\n",
       "    <tr>\n",
       "      <th>2</th>\n",
       "      <td>True</td>\n",
       "      <td>True</td>\n",
       "      <td>False</td>\n",
       "      <td>False</td>\n",
       "      <td>True</td>\n",
       "      <td>False</td>\n",
       "      <td>False</td>\n",
       "      <td>False</td>\n",
       "      <td>False</td>\n",
       "      <td>False</td>\n",
       "      <td>True</td>\n",
       "      <td>True</td>\n",
       "      <td>True</td>\n",
       "      <td>False</td>\n",
       "      <td>True</td>\n",
       "      <td>False</td>\n",
       "    </tr>\n",
       "    <tr>\n",
       "      <th>3</th>\n",
       "      <td>True</td>\n",
       "      <td>True</td>\n",
       "      <td>False</td>\n",
       "      <td>False</td>\n",
       "      <td>False</td>\n",
       "      <td>False</td>\n",
       "      <td>False</td>\n",
       "      <td>False</td>\n",
       "      <td>False</td>\n",
       "      <td>False</td>\n",
       "      <td>False</td>\n",
       "      <td>False</td>\n",
       "      <td>False</td>\n",
       "      <td>False</td>\n",
       "      <td>False</td>\n",
       "      <td>False</td>\n",
       "    </tr>\n",
       "    <tr>\n",
       "      <th>4</th>\n",
       "      <td>True</td>\n",
       "      <td>False</td>\n",
       "      <td>False</td>\n",
       "      <td>False</td>\n",
       "      <td>False</td>\n",
       "      <td>False</td>\n",
       "      <td>False</td>\n",
       "      <td>False</td>\n",
       "      <td>False</td>\n",
       "      <td>True</td>\n",
       "      <td>False</td>\n",
       "      <td>False</td>\n",
       "      <td>False</td>\n",
       "      <td>False</td>\n",
       "      <td>False</td>\n",
       "      <td>False</td>\n",
       "    </tr>\n",
       "  </tbody>\n",
       "</table>\n",
       "</div>"
      ],
      "text/plain": [
       "     SEX  USETOBAC  ARTHRTIS  ASTHMA  CANCER  CEBVD    CHF    CRF   COPD  \\\n",
       "0  False      True     False   False   False  False  False  False  False   \n",
       "1  False      True     False   False   False  False  False  False   True   \n",
       "2   True      True     False   False    True  False  False  False  False   \n",
       "3   True      True     False   False   False  False  False  False  False   \n",
       "4   True     False     False   False   False  False  False  False  False   \n",
       "\n",
       "   DEPRN  DIABETES  HYPLIPID    HTN    IHD  OBESITY  OSTPRSIS  \n",
       "0  False      True      True  False  False     True     False  \n",
       "1  False     False      True   True  False    False     False  \n",
       "2  False      True      True   True  False     True     False  \n",
       "3  False     False     False  False  False    False     False  \n",
       "4   True     False     False  False  False    False     False  "
      ]
     },
     "execution_count": 19,
     "metadata": {},
     "output_type": "execute_result"
    }
   ],
   "source": [
    "# Check binary categorical features\n",
    "binary_features = [feature for feature in features if X_train[feature].nunique() == 2]\n",
    "print(f'Binary Features: {binary_features}')\n",
    "print(f'Number of Binary Features: {len(binary_features)}')\n",
    "\n",
    "# Encode binary features as True or False and skip NaN values\n",
    "X_train[binary_features] = X_train[binary_features].map(lambda x: True if x == 1 else False)\n",
    "\n",
    "# Check the result\n",
    "X_train[binary_features].head()"
   ]
  },
  {
   "cell_type": "markdown",
   "metadata": {},
   "source": [
    "#### 3.3.2 - Encode non-binary categorical features"
   ]
  },
  {
   "cell_type": "code",
   "execution_count": 20,
   "metadata": {},
   "outputs": [
    {
     "name": "stdout",
     "output_type": "stream",
     "text": [
      "Non-binary Categorical Features: ['INJDET', 'MAJOR', 'CASTAGE', 'AGE_GROUP', 'RFV1_MOD', 'RFV2_MOD', 'RFV3_MOD', 'BMI_GROUP', 'TEMPF_GROUP', 'BPSYS_GROUP', 'BPDIAS_GROUP']\n",
      "Number of Non-binary Categorical Features: 11\n"
     ]
    }
   ],
   "source": [
    "# Check non-binary categorical features\n",
    "non_binary_features = ['INJDET', 'MAJOR', 'CASTAGE'] + bin_features\n",
    "\n",
    "print(f'Non-binary Categorical Features: {non_binary_features}')\n",
    "print(f'Number of Non-binary Categorical Features: {len(non_binary_features)}')"
   ]
  },
  {
   "cell_type": "code",
   "execution_count": 21,
   "metadata": {},
   "outputs": [
    {
     "name": "stdout",
     "output_type": "stream",
     "text": [
      "Encoded Non-binary Categorical Features: ['INJDET_1', 'INJDET_2', 'INJDET_3', 'INJDET_4', 'INJDET_5', 'MAJOR_1', 'MAJOR_2', 'MAJOR_3', 'MAJOR_4', 'MAJOR_5', 'CASTAGE_0', 'CASTAGE_1', 'CASTAGE_2', 'CASTAGE_3', 'AGE_GROUP_Adult', 'AGE_GROUP_Child or Teenager', 'AGE_GROUP_Middle Aged', 'AGE_GROUP_Senior', 'RFV1_MOD_ADMINISTRATIVE MODULE', 'RFV1_MOD_Congenital Anomalies', 'RFV1_MOD_Diagnostic Tests', 'RFV1_MOD_Diseases of the Blood and Blood-forming Organs', 'RFV1_MOD_Diseases of the Circulatory System', 'RFV1_MOD_Diseases of the Digestive System', 'RFV1_MOD_Diseases of the Ear', 'RFV1_MOD_Diseases of the Eye', 'RFV1_MOD_Diseases of the Genitourinary System', 'RFV1_MOD_Diseases of the Musculoskeletal System and Connective Tissue', 'RFV1_MOD_Diseases of the Nervous System', 'RFV1_MOD_Diseases of the Respiratory System', 'RFV1_MOD_Diseases of the Skin and Subcutaneous Tissue', 'RFV1_MOD_Endocrine, Nutritional, Metabolic, and Immunity Diseases', 'RFV1_MOD_Family Planning', 'RFV1_MOD_General Examinations', 'RFV1_MOD_General Symptoms', 'RFV1_MOD_Infective and Parasitic Diseases', 'RFV1_MOD_Injury by Type and/or Location', 'RFV1_MOD_Injury, NOS', 'RFV1_MOD_Medical Counseling', 'RFV1_MOD_Medications', 'RFV1_MOD_Mental Disorders', 'RFV1_MOD_Neoplasms', 'RFV1_MOD_Other Screening and Preventive Procedures', 'RFV1_MOD_Perinatal Morbidity and Mortality Conditions', 'RFV1_MOD_Poisoning and Adverse Effects', 'RFV1_MOD_Preoperative and Postoperative Care', 'RFV1_MOD_Progress Visit, NEC', 'RFV1_MOD_Social Problem Counseling', 'RFV1_MOD_Special Examinations', 'RFV1_MOD_Specific Therapeutic Procedures', 'RFV1_MOD_Specific Types of Therapy', 'RFV1_MOD_Symptoms Referable to Psychological and Mental Disorders', 'RFV1_MOD_Symptoms Referable to the Cardiovascular and Lymphatic Systems', 'RFV1_MOD_Symptoms Referable to the Digestive System', 'RFV1_MOD_Symptoms Referable to the Eyes and Ears', 'RFV1_MOD_Symptoms Referable to the Genitourinary System', 'RFV1_MOD_Symptoms Referable to the Musculoskeletal System', 'RFV1_MOD_Symptoms Referable to the Nervous System (Excluding Sense Organs)', 'RFV1_MOD_Symptoms Referable to the Respiratory System', 'RFV1_MOD_Symptoms Referable to the Skin, Nails, and Hair', 'RFV1_MOD_TEST RESULTS MODULE', 'RFV1_MOD_UNCODABLE ENTRIES', 'RFV2_MOD_ADMINISTRATIVE MODULE', 'RFV2_MOD_Congenital Anomalies', 'RFV2_MOD_Diagnostic Tests', 'RFV2_MOD_Diseases of the Blood and Blood-forming Organs', 'RFV2_MOD_Diseases of the Circulatory System', 'RFV2_MOD_Diseases of the Digestive System', 'RFV2_MOD_Diseases of the Ear', 'RFV2_MOD_Diseases of the Eye', 'RFV2_MOD_Diseases of the Genitourinary System', 'RFV2_MOD_Diseases of the Musculoskeletal System and Connective Tissue', 'RFV2_MOD_Diseases of the Nervous System', 'RFV2_MOD_Diseases of the Respiratory System', 'RFV2_MOD_Diseases of the Skin and Subcutaneous Tissue', 'RFV2_MOD_Endocrine, Nutritional, Metabolic, and Immunity Diseases', 'RFV2_MOD_Family Planning', 'RFV2_MOD_General Examinations', 'RFV2_MOD_General Symptoms', 'RFV2_MOD_Infective and Parasitic Diseases', 'RFV2_MOD_Injury by Type and/or Location', 'RFV2_MOD_Injury, NOS', 'RFV2_MOD_Medical Counseling', 'RFV2_MOD_Medications', 'RFV2_MOD_Mental Disorders', 'RFV2_MOD_Neoplasms', 'RFV2_MOD_Other Screening and Preventive Procedures', 'RFV2_MOD_Perinatal Morbidity and Mortality Conditions', 'RFV2_MOD_Poisoning and Adverse Effects', 'RFV2_MOD_Preoperative and Postoperative Care', 'RFV2_MOD_Progress Visit, NEC', 'RFV2_MOD_Social Problem Counseling', 'RFV2_MOD_Special Examinations', 'RFV2_MOD_Specific Therapeutic Procedures', 'RFV2_MOD_Specific Types of Therapy', 'RFV2_MOD_Symptoms Referable to Psychological and Mental Disorders', 'RFV2_MOD_Symptoms Referable to the Cardiovascular and Lymphatic Systems', 'RFV2_MOD_Symptoms Referable to the Digestive System', 'RFV2_MOD_Symptoms Referable to the Eyes and Ears', 'RFV2_MOD_Symptoms Referable to the Genitourinary System', 'RFV2_MOD_Symptoms Referable to the Musculoskeletal System', 'RFV2_MOD_Symptoms Referable to the Nervous System (Excluding Sense Organs)', 'RFV2_MOD_Symptoms Referable to the Respiratory System', 'RFV2_MOD_Symptoms Referable to the Skin, Nails, and Hair', 'RFV2_MOD_TEST RESULTS MODULE', 'RFV2_MOD_UNCODABLE ENTRIES', 'RFV3_MOD_ADMINISTRATIVE MODULE', 'RFV3_MOD_Congenital Anomalies', 'RFV3_MOD_Diagnostic Tests', 'RFV3_MOD_Diseases of the Blood and Blood-forming Organs', 'RFV3_MOD_Diseases of the Circulatory System', 'RFV3_MOD_Diseases of the Digestive System', 'RFV3_MOD_Diseases of the Ear', 'RFV3_MOD_Diseases of the Eye', 'RFV3_MOD_Diseases of the Genitourinary System', 'RFV3_MOD_Diseases of the Musculoskeletal System and Connective Tissue', 'RFV3_MOD_Diseases of the Nervous System', 'RFV3_MOD_Diseases of the Respiratory System', 'RFV3_MOD_Diseases of the Skin and Subcutaneous Tissue', 'RFV3_MOD_Endocrine, Nutritional, Metabolic, and Immunity Diseases', 'RFV3_MOD_Family Planning', 'RFV3_MOD_General Examinations', 'RFV3_MOD_General Symptoms', 'RFV3_MOD_Infective and Parasitic Diseases', 'RFV3_MOD_Injury by Type and/or Location', 'RFV3_MOD_Injury, NOS', 'RFV3_MOD_Medical Counseling', 'RFV3_MOD_Medications', 'RFV3_MOD_Mental Disorders', 'RFV3_MOD_Neoplasms', 'RFV3_MOD_Other Screening and Preventive Procedures', 'RFV3_MOD_Perinatal Morbidity and Mortality Conditions', 'RFV3_MOD_Poisoning and Adverse Effects', 'RFV3_MOD_Preoperative and Postoperative Care', 'RFV3_MOD_Progress Visit, NEC', 'RFV3_MOD_Social Problem Counseling', 'RFV3_MOD_Special Examinations', 'RFV3_MOD_Specific Therapeutic Procedures', 'RFV3_MOD_Specific Types of Therapy', 'RFV3_MOD_Symptoms Referable to Psychological and Mental Disorders', 'RFV3_MOD_Symptoms Referable to the Cardiovascular and Lymphatic Systems', 'RFV3_MOD_Symptoms Referable to the Digestive System', 'RFV3_MOD_Symptoms Referable to the Eyes and Ears', 'RFV3_MOD_Symptoms Referable to the Genitourinary System', 'RFV3_MOD_Symptoms Referable to the Musculoskeletal System', 'RFV3_MOD_Symptoms Referable to the Nervous System (Excluding Sense Organs)', 'RFV3_MOD_Symptoms Referable to the Respiratory System', 'RFV3_MOD_Symptoms Referable to the Skin, Nails, and Hair', 'RFV3_MOD_TEST RESULTS MODULE', 'RFV3_MOD_UNCODABLE ENTRIES', 'BMI_GROUP_Normal weight', 'BMI_GROUP_Obesity', 'BMI_GROUP_Overweight', 'BMI_GROUP_Underweight', 'TEMPF_GROUP_Fever', 'TEMPF_GROUP_Hyperpyrexia', 'TEMPF_GROUP_Hypothermia', 'TEMPF_GROUP_Normal temperature', 'BPSYS_GROUP_Hypertension', 'BPSYS_GROUP_Hypotension', 'BPSYS_GROUP_Normal blood pressure', 'BPSYS_GROUP_Prehypertension', 'BPDIAS_GROUP_High diastolic blood pressure', 'BPDIAS_GROUP_Hypertension', 'BPDIAS_GROUP_Low diastolic blood pressure', 'BPDIAS_GROUP_Normal diastolic blood pressure']\n",
      "Number of Encoded Non-binary Categorical Features: 166\n"
     ]
    }
   ],
   "source": [
    "# Encode non-binary categorical features\n",
    "X_train = pd.get_dummies(X_train, columns=non_binary_features)\n",
    "\n",
    "# Get the list of encoded non-binary features\n",
    "encoded_non_binary_features = [feature for feature in X_train.columns if feature not in features + binary_features]\n",
    "\n",
    "print(f'Encoded Non-binary Categorical Features: {encoded_non_binary_features}')\n",
    "print(f'Number of Encoded Non-binary Categorical Features: {len(encoded_non_binary_features)}')"
   ]
  },
  {
   "cell_type": "markdown",
   "metadata": {},
   "source": [
    "### 3.4 - Dimensionality reduction for categorical features"
   ]
  },
  {
   "cell_type": "code",
   "execution_count": null,
   "metadata": {},
   "outputs": [],
   "source": []
  },
  {
   "cell_type": "markdown",
   "metadata": {},
   "source": [
    "### 3.5 - Redefine the classification DataFrame for training"
   ]
  },
  {
   "cell_type": "code",
   "execution_count": 22,
   "metadata": {},
   "outputs": [
    {
     "name": "stdout",
     "output_type": "stream",
     "text": [
      "Classification DataFrame Shape: (103486, 185)\n"
     ]
    }
   ],
   "source": [
    "# Redefine the classification DataFrame\n",
    "X_train = X_train.loc[:, quantitative_features + binary_features + encoded_non_binary_features]\n",
    "\n",
    "# Check the shape of the classification DataFrame\n",
    "print(f'Classification DataFrame Shape: {X_train.shape}')"
   ]
  },
  {
   "cell_type": "markdown",
   "metadata": {},
   "source": [
    "## 4 - Prepare dependent variables"
   ]
  },
  {
   "cell_type": "code",
   "execution_count": 23,
   "metadata": {},
   "outputs": [
    {
     "name": "stdout",
     "output_type": "stream",
     "text": [
      "Missing Values in DIAG1: 1214\n",
      "Missing Values in DIAG2: 53134\n",
      "Missing Values in DIAG3: 79860\n",
      "\n",
      "Number of Ruled Out Diagnoses in DIAG1: 940\n",
      "Number of Ruled Out Diagnoses in DIAG2: 1054\n",
      "Number of Ruled Out Diagnoses in DIAG3: 493\n",
      "\n",
      "Number of Samples with Missing DIAG1 and PRDIAG1 equals to 1: 5\n",
      "\n",
      "Number of Available Dependent Samples: 101337\n"
     ]
    }
   ],
   "source": [
    "# Check the missing values in 'DIAG1', 'DIAG2', and 'DIAG3'\n",
    "print(f'Missing Values in DIAG1: {train_df[\"DIAG1\"].isna().sum()}')\n",
    "print(f'Missing Values in DIAG2: {train_df[\"DIAG2\"].isna().sum()}')\n",
    "print(f'Missing Values in DIAG3: {train_df[\"DIAG3\"].isna().sum()}')\n",
    "print()\n",
    "\n",
    "# Check the numbers of ruled out or questionable diagnoses\n",
    "# (when 'PRDIAG1', 'PRDIAG2', and 'PRDIAG3' equals to 1)\n",
    "print(f'Number of Ruled Out Diagnoses in DIAG1: {train_df[\"PRDIAG1\"].sum()}')\n",
    "print(f'Number of Ruled Out Diagnoses in DIAG2: {train_df[\"PRDIAG2\"].sum()}')\n",
    "print(f'Number of Ruled Out Diagnoses in DIAG3: {train_df[\"PRDIAG3\"].sum()}')\n",
    "print()\n",
    "\n",
    "# Check the number of samples with missing 'DIAG1' and 'PRDIAG1' equals to 1\n",
    "print(f'Number of Samples with Missing DIAG1 and PRDIAG1 equals to 1: {train_df[(train_df[\"DIAG1\"].isna()) & (train_df[\"PRDIAG1\"] == 1)].shape[0]}')\n",
    "print()\n",
    "\n",
    "# Check the number of available dependent samples\n",
    "# (when 'DIAG1' is not missing and 'PRDIAG1' is not 1)\n",
    "print(f'Number of Available Dependent Samples: {train_df[(~train_df[\"DIAG1\"].isna()) & (train_df[\"PRDIAG1\"] != 1)].shape[0]}')"
   ]
  },
  {
   "cell_type": "markdown",
   "metadata": {},
   "source": [
    "### 4.1 - Load and the list of three-digit categories of ICD-9-CM"
   ]
  },
  {
   "cell_type": "code",
   "execution_count": 24,
   "metadata": {},
   "outputs": [
    {
     "data": {
      "text/html": [
       "<div>\n",
       "<style scoped>\n",
       "    .dataframe tbody tr th:only-of-type {\n",
       "        vertical-align: middle;\n",
       "    }\n",
       "\n",
       "    .dataframe tbody tr th {\n",
       "        vertical-align: top;\n",
       "    }\n",
       "\n",
       "    .dataframe thead th {\n",
       "        text-align: right;\n",
       "    }\n",
       "</style>\n",
       "<table border=\"1\" class=\"dataframe\">\n",
       "  <thead>\n",
       "    <tr style=\"text-align: right;\">\n",
       "      <th></th>\n",
       "      <th>3D_CODE</th>\n",
       "      <th>DISEASE</th>\n",
       "      <th>CATEGORY_1</th>\n",
       "      <th>CATEGORY_2</th>\n",
       "    </tr>\n",
       "  </thead>\n",
       "  <tbody>\n",
       "    <tr>\n",
       "      <th>0</th>\n",
       "      <td>001</td>\n",
       "      <td>Cholera</td>\n",
       "      <td>INFECTIOUS AND PARASITIC DISEASES</td>\n",
       "      <td>Intestinal infectious diseases</td>\n",
       "    </tr>\n",
       "    <tr>\n",
       "      <th>1</th>\n",
       "      <td>002</td>\n",
       "      <td>Typhoid and paratyphoid fevers</td>\n",
       "      <td>INFECTIOUS AND PARASITIC DISEASES</td>\n",
       "      <td>Intestinal infectious diseases</td>\n",
       "    </tr>\n",
       "    <tr>\n",
       "      <th>2</th>\n",
       "      <td>003</td>\n",
       "      <td>Other salmonella infections</td>\n",
       "      <td>INFECTIOUS AND PARASITIC DISEASES</td>\n",
       "      <td>Intestinal infectious diseases</td>\n",
       "    </tr>\n",
       "    <tr>\n",
       "      <th>3</th>\n",
       "      <td>004</td>\n",
       "      <td>Shigellosis</td>\n",
       "      <td>INFECTIOUS AND PARASITIC DISEASES</td>\n",
       "      <td>Intestinal infectious diseases</td>\n",
       "    </tr>\n",
       "    <tr>\n",
       "      <th>4</th>\n",
       "      <td>005</td>\n",
       "      <td>Other food poisoning (bacterial)</td>\n",
       "      <td>INFECTIOUS AND PARASITIC DISEASES</td>\n",
       "      <td>Intestinal infectious diseases</td>\n",
       "    </tr>\n",
       "  </tbody>\n",
       "</table>\n",
       "</div>"
      ],
      "text/plain": [
       "  3D_CODE                           DISEASE  \\\n",
       "0     001                           Cholera   \n",
       "1     002    Typhoid and paratyphoid fevers   \n",
       "2     003       Other salmonella infections   \n",
       "3     004                       Shigellosis   \n",
       "4     005  Other food poisoning (bacterial)   \n",
       "\n",
       "                          CATEGORY_1                      CATEGORY_2  \n",
       "0  INFECTIOUS AND PARASITIC DISEASES  Intestinal infectious diseases  \n",
       "1  INFECTIOUS AND PARASITIC DISEASES  Intestinal infectious diseases  \n",
       "2  INFECTIOUS AND PARASITIC DISEASES  Intestinal infectious diseases  \n",
       "3  INFECTIOUS AND PARASITIC DISEASES  Intestinal infectious diseases  \n",
       "4  INFECTIOUS AND PARASITIC DISEASES  Intestinal infectious diseases  "
      ]
     },
     "execution_count": 24,
     "metadata": {},
     "output_type": "execute_result"
    }
   ],
   "source": [
    "# Load the list of three-digit categories of ICD-9-CM\n",
    "icd9cm_3dcat = pd.read_excel(os.path.join('..', 'data', 'raw', 'ICD9CM_3DCat.xlsx'), dtype=str)\n",
    "\n",
    "icd9cm_3dcat.head()"
   ]
  },
  {
   "cell_type": "markdown",
   "metadata": {},
   "source": [
    "### 4.2 - Employing the hierachical classifications of ICD-9-CM codes to prepare the target labels"
   ]
  },
  {
   "cell_type": "code",
   "execution_count": 25,
   "metadata": {},
   "outputs": [
    {
     "data": {
      "text/plain": [
       "'Certain traumatic complications and unspecified injuries'"
      ]
     },
     "execution_count": 25,
     "metadata": {},
     "output_type": "execute_result"
    }
   ],
   "source": [
    "# Map the three-digit categories of ICD-9-CM to 'DIAG1', 'DIAG2', and 'DIAG3',\n",
    "# if 'PRDIAG1', 'PRDIAG2', and 'PRDIAG3' are not 1 respectively\n",
    "\n",
    "def get_icd9cm_3dcat(diag, prdiag):\n",
    "    try:\n",
    "        if pd.notna(diag) and (pd.isna(prdiag) | prdiag != 1):\n",
    "            if diag == 'V997-':\n",
    "                return 'No diagnosis/disease or healthy'\n",
    "            else:\n",
    "                return icd9cm_3dcat[icd9cm_3dcat['3D_CODE'] == diag[:3]]['CATEGORY_2'].values[0]\n",
    "        else:\n",
    "            return pd.NA\n",
    "    except:\n",
    "        print(f'Error: {diag}')\n",
    "        print(f'Error: {prdiag}')\n",
    "\n",
    "    \n",
    "get_icd9cm_3dcat(train_df.iloc[0].DIAG1, train_df.iloc[0].PRDIAG1)"
   ]
  },
  {
   "cell_type": "code",
   "execution_count": 26,
   "metadata": {},
   "outputs": [
    {
     "name": "stdout",
     "output_type": "stream",
     "text": [
      "Dependent DataFrame Shape: (103486,)\n"
     ]
    }
   ],
   "source": [
    "# Map the three-digit categories of ICD-9-CM to 'DIAG1', 'DIAG2', and 'DIAG3',\n",
    "# if 'PRDIAG1', 'PRDIAG2', and 'PRDIAG3' are not 1 respectively\n",
    "\n",
    "y_train = train_df.apply(lambda x: get_icd9cm_3dcat(x.DIAG1, x.PRDIAG1), axis=1)\n",
    "\n",
    "print(f'Dependent DataFrame Shape: {y_train.shape}')"
   ]
  },
  {
   "cell_type": "markdown",
   "metadata": {},
   "source": [
    "### 4.3 - Drop rows from both X_train, y_train with NA in y_train"
   ]
  },
  {
   "cell_type": "code",
   "execution_count": 27,
   "metadata": {},
   "outputs": [
    {
     "name": "stdout",
     "output_type": "stream",
     "text": [
      "Number of available dependent samples: 101337\n",
      "\n",
      "Classification DataFrame Shape: (101337, 185)\n",
      "Dependent DataFrame Shape: (101337,)\n"
     ]
    }
   ],
   "source": [
    "print(f'Number of available dependent samples: {y_train.notna().sum()}')\n",
    "print()\n",
    "\n",
    "X_train = X_train[y_train.notna()]\n",
    "y_train = y_train[y_train.notna()]\n",
    "\n",
    "print(f'Classification DataFrame Shape: {X_train.shape}')\n",
    "print(f'Dependent DataFrame Shape: {y_train.shape}')"
   ]
  },
  {
   "cell_type": "markdown",
   "metadata": {},
   "source": [
    "## 5 - Baseline classification model"
   ]
  },
  {
   "cell_type": "markdown",
   "metadata": {},
   "source": [
    "### 5.1 - Train models"
   ]
  },
  {
   "cell_type": "markdown",
   "metadata": {},
   "source": [
    "#### 5.1.1 - KMeans"
   ]
  },
  {
   "cell_type": "code",
   "execution_count": null,
   "metadata": {},
   "outputs": [],
   "source": [
    "from sklearn.impute import KNNImputer\n",
    "from sklearn.cluster import KMeans\n",
    "from sklearn.metrics import silhouette_score"
   ]
  },
  {
   "cell_type": "code",
   "execution_count": null,
   "metadata": {},
   "outputs": [],
   "source": [
    "random_seed = 42"
   ]
  },
  {
   "cell_type": "code",
   "execution_count": null,
   "metadata": {},
   "outputs": [],
   "source": [
    "# Impute the missing quantitative values using KNN\n",
    "n_neighbors = 5\n",
    "imputer = KNNImputer(n_neighbors=n_neighbors)\n",
    "\n",
    "clustering_df_imputed = imputer.fit_transform(clustering_df[quantitative_features])"
   ]
  },
  {
   "cell_type": "code",
   "execution_count": null,
   "metadata": {},
   "outputs": [],
   "source": [
    "# Concatenate the imputed quantitative features with the encoded categorical features\n",
    "clustering_df_imputed = pd.concat([\n",
    "    pd.DataFrame(clustering_df_imputed, columns=quantitative_features), \n",
    "    clustering_df[encoded_features]\n",
    "], axis=1)"
   ]
  },
  {
   "cell_type": "code",
   "execution_count": null,
   "metadata": {},
   "outputs": [],
   "source": [
    "# Clustering using KMeans\n",
    "n_clusters = 10\n",
    "clustering_model = KMeans(n_clusters=n_clusters, random_state=random_seed)\n",
    "train_df['cluster'] = clustering_model.fit_predict(clustering_df_imputed)\n",
    "\n",
    "# Check the result\n",
    "train_df['cluster'].value_counts()"
   ]
  },
  {
   "cell_type": "code",
   "execution_count": null,
   "metadata": {},
   "outputs": [],
   "source": [
    "# Save the model\n",
    "clustering_model_path = os.path.join('..', 'models')\n",
    "clustering_model_name = type(clustering_model).__name__\n",
    "\n",
    "joblib.dump(clustering_model, os.path.join(clustering_model_path, f'{clustering_model_name}.joblib'))"
   ]
  },
  {
   "cell_type": "markdown",
   "metadata": {},
   "source": [
    "### 5.2 - Evaluation of the model"
   ]
  },
  {
   "cell_type": "code",
   "execution_count": null,
   "metadata": {},
   "outputs": [],
   "source": [
    "import altair as alt\n",
    "import vegafusion as vf\n",
    "alt.data_transformers.enable(\"vegafusion\")"
   ]
  },
  {
   "cell_type": "markdown",
   "metadata": {},
   "source": [
    "#### 5.2.1 - Metrics"
   ]
  },
  {
   "cell_type": "code",
   "execution_count": null,
   "metadata": {},
   "outputs": [],
   "source": [
    "# Calculate the Silhouette Score\n",
    "silhouette = silhouette_score(clustering_df_imputed, train_df['cluster'])\n",
    "print(f'Silhouette Score: {silhouette}')"
   ]
  },
  {
   "cell_type": "code",
   "execution_count": null,
   "metadata": {},
   "outputs": [],
   "source": [
    "# Calculate the sum of squared distances of samples to their closest cluster center\n",
    "print(f'Sum of Squared Distances: {clustering_model.inertia_}')"
   ]
  },
  {
   "cell_type": "markdown",
   "metadata": {},
   "source": [
    "#### 5.2.2 - Examine cluster centroids"
   ]
  },
  {
   "cell_type": "code",
   "execution_count": null,
   "metadata": {},
   "outputs": [],
   "source": [
    "# Check the cluster centers\n",
    "cluster_centers = pd.DataFrame(clustering_model.cluster_centers_, columns=clustering_df_imputed.columns)\n",
    "\n",
    "# Inverse transform the cluster centers\n",
    "cluster_centers[quantitative_features] = scaler.inverse_transform(cluster_centers[quantitative_features])\n",
    "\n",
    "# Check the result\n",
    "cluster_centers"
   ]
  },
  {
   "cell_type": "markdown",
   "metadata": {},
   "source": [
    "#### 5.2.3 - Visualization"
   ]
  },
  {
   "cell_type": "code",
   "execution_count": null,
   "metadata": {},
   "outputs": [],
   "source": []
  },
  {
   "cell_type": "markdown",
   "metadata": {},
   "source": [
    "## 6 - Extract text features from each cluster"
   ]
  },
  {
   "cell_type": "markdown",
   "metadata": {},
   "source": [
    "#### 6.1 - Aggregate text data by group"
   ]
  },
  {
   "cell_type": "code",
   "execution_count": null,
   "metadata": {},
   "outputs": [],
   "source": [
    "for i, (k, v) in zip (range(len(variables)), variables.items()):\n",
    "    if i < 5:\n",
    "        print(k, v)"
   ]
  },
  {
   "cell_type": "code",
   "execution_count": null,
   "metadata": {},
   "outputs": [],
   "source": [
    "for i, (k, v) in zip (range(len(variables)), variables.items()):\n",
    "    if i >= 5 and i < 10:\n",
    "        print(k, v)"
   ]
  },
  {
   "cell_type": "code",
   "execution_count": null,
   "metadata": {},
   "outputs": [],
   "source": [
    "for i, (k, v) in zip (range(len(variables)), variables.items()):\n",
    "    if i >= 10:\n",
    "        print(k, v)"
   ]
  },
  {
   "cell_type": "code",
   "execution_count": null,
   "metadata": {},
   "outputs": [],
   "source": [
    "train_df.USETOBAC.unique()"
   ]
  },
  {
   "cell_type": "code",
   "execution_count": null,
   "metadata": {},
   "outputs": [],
   "source": [
    "train_df[variables['visitReason']].head()"
   ]
  },
  {
   "cell_type": "code",
   "execution_count": null,
   "metadata": {},
   "outputs": [],
   "source": [
    "train_df[variables['vitalSigns']].value_counts()"
   ]
  },
  {
   "cell_type": "code",
   "execution_count": null,
   "metadata": {},
   "outputs": [],
   "source": [
    "train_df[variables['physicianDiagnoses']].head()"
   ]
  },
  {
   "cell_type": "code",
   "execution_count": null,
   "metadata": {},
   "outputs": [],
   "source": [
    "print(train_df.PRDIAG1.unique())\n",
    "print()\n",
    "\n",
    "train_df.DIAG1[train_df.PRDIAG1.str.contains('not probable') | (train_df.PRDIAG1 == 'No')].value_counts()"
   ]
  },
  {
   "cell_type": "code",
   "execution_count": null,
   "metadata": {},
   "outputs": [],
   "source": [
    "train_df[variables['presentSymptomsStatus']].value_counts()"
   ]
  },
  {
   "cell_type": "code",
   "execution_count": null,
   "metadata": {},
   "outputs": [],
   "source": [
    "# Load custom function to combine text features\n",
    "import sys\n",
    "sys.path.append('../src/features/')\n",
    "\n",
    "from combine_textual import combine_features\n",
    "\n",
    "\n",
    "# Define the list of textual features to combine\n",
    "textual_features = [\n",
    "    'AGE', 'SEX', 'USETOBAC', \n",
    "    'MAJOR', 'RFV1', 'RFV2', 'RFV3', \n",
    "    'BMI', 'TEMPF', 'BPSYS', 'BPDIAS',\n",
    "    'ARTHRTIS', 'ASTHMA', 'CANCER', 'CEBVD', 'CHF', 'CRF', 'COPD', 'DEPRN', 'DIABETES', 'HYPLIPID', 'HTN', 'IHD', 'OBESITY', 'OSTPRSIS', 'NOCHRON', 'DMP',\n",
    "    'DIAG1', 'DIAG2', 'DIAG3'\n",
    "]\n",
    "\n",
    "# Export the list of textual features\n",
    "with open(os.path.join(file_path, 'textual_features.json'), 'w') as f:\n",
    "    json.dump(textual_features, f)\n",
    "\n",
    "# Combine the text features\n",
    "train_df['CombinedText'] = train_df.apply(lambda x: combine_features(x, textual_features), axis=1)\n",
    "\n",
    "train_df.CombinedText.head()"
   ]
  },
  {
   "cell_type": "code",
   "execution_count": null,
   "metadata": {},
   "outputs": [],
   "source": [
    "train_df.CombinedText.notna().sum()"
   ]
  },
  {
   "cell_type": "markdown",
   "metadata": {},
   "source": [
    "#### 6.2 - Preprocess text data"
   ]
  },
  {
   "cell_type": "code",
   "execution_count": null,
   "metadata": {},
   "outputs": [],
   "source": [
    "import spacy\n",
    "import re"
   ]
  },
  {
   "cell_type": "code",
   "execution_count": null,
   "metadata": {},
   "outputs": [],
   "source": [
    "nlp = spacy.load('en_core_web_sm')\n",
    "\n",
    "def preprocess_text(row):\n",
    "    row = re.sub(r'(\\d+),(\\d+)', r'\\1\\2', row)\n",
    "    row = re.sub(r'(\\d+)-(\\d+)', r'\\1_\\2', row)\n",
    "    doc = nlp(row)\n",
    "    processed_text = ' '.join(token.lemma_.lower() for token in doc if not token.is_stop and not token.is_punct)\n",
    "    row = re.sub(r'(\\d+)_(\\d+)', r'\\1-\\2', row)\n",
    "    return processed_text"
   ]
  },
  {
   "cell_type": "code",
   "execution_count": null,
   "metadata": {},
   "outputs": [],
   "source": [
    "train_df['ProcessedText'] = train_df['CombinedText'].apply(preprocess_text)"
   ]
  },
  {
   "cell_type": "code",
   "execution_count": null,
   "metadata": {},
   "outputs": [],
   "source": [
    "train_df.ProcessedText.head()"
   ]
  },
  {
   "cell_type": "code",
   "execution_count": null,
   "metadata": {},
   "outputs": [],
   "source": [
    "# Save the preprocessed DataFrame\n",
    "processed_file_path = os.path.join('..', 'data', 'processed')\n",
    "train_df.to_csv(os.path.join(processed_file_path, f'train_{clustering_model_name}.csv'), index=False)"
   ]
  },
  {
   "cell_type": "markdown",
   "metadata": {},
   "source": [
    "#### 6.3 - Calculate term frequencies"
   ]
  },
  {
   "cell_type": "code",
   "execution_count": null,
   "metadata": {},
   "outputs": [],
   "source": [
    "from sklearn.feature_extraction.text import TfidfVectorizer"
   ]
  },
  {
   "cell_type": "code",
   "execution_count": null,
   "metadata": {},
   "outputs": [],
   "source": [
    "# Method 1\n",
    "# Calculate the TF-IDF for each cluster,\n",
    "# taking the ProcessedText of each cluster as the documents,\n",
    "# and the ProcessedText of the entire dataset as the corpus\n",
    "\n",
    "#clustered_text = train_df.groupby('cluster')['ProcessedText'].apply(lambda row: ' '.join(row)).reset_index()\n",
    "\n",
    "#vectorizer = TfidfVectorizer(ngram_range=(1,2), max_features=1000, min_df=5, max_df=0.7)\n",
    "#tfidf_matrix = vectorizer.fit_transform(clustered_text['ProcessedText'])\n",
    "\n",
    "#print(tfidf_matrix)\n",
    "\n",
    "#tfidf_df = pd.DataFrame(tfidf_matrix.toarray(), columns=vectorizer.get_feature_names_out())\n",
    "#tfidf_df"
   ]
  },
  {
   "cell_type": "code",
   "execution_count": null,
   "metadata": {},
   "outputs": [],
   "source": [
    "# Method 2\n",
    "# Calculate the TF-IDF of each row within each cluster\n",
    "# Calculate the average TF-IDF for each cluster\n",
    "\n",
    "vectorizer = TfidfVectorizer(ngram_range=(1,2), max_features=1000, min_df=5, max_df=0.7)\n",
    "tfidf_matrix = vectorizer.fit_transform(train_df['ProcessedText'])\n",
    "\n",
    "# Calculate the average TF-IDF for each cluster\n",
    "tfidf_df = pd.DataFrame(tfidf_matrix.toarray(), columns=vectorizer.get_feature_names_out())\n",
    "cluster_tfidf = pd.concat([train_df['cluster'], tfidf_df], axis=1).groupby('cluster').mean()\n",
    "\n",
    "cluster_tfidf"
   ]
  },
  {
   "cell_type": "code",
   "execution_count": null,
   "metadata": {},
   "outputs": [],
   "source": [
    "# Punish the weight of '\\d+_year_old' by multiplying it by 0.5, using the regex pattern\n",
    "\n",
    "#tfidf_df = tfidf_df.apply(lambda row: row * 0.5 if re.match(r'\\d+_year_old', row.name) else row)\n",
    "#cluster_tfidf = cluster_tfidf.apply(lambda row: row * 0.5 if re.match(r'\\d+_year_old', row.name) else row)\n",
    "\n",
    "#cluster_tfidf"
   ]
  },
  {
   "cell_type": "markdown",
   "metadata": {},
   "source": [
    "#### 6.4 - Generate word clouds for each group"
   ]
  },
  {
   "cell_type": "code",
   "execution_count": null,
   "metadata": {},
   "outputs": [],
   "source": [
    "from wordcloud import WordCloud\n",
    "import matplotlib.pyplot as plt"
   ]
  },
  {
   "cell_type": "code",
   "execution_count": null,
   "metadata": {},
   "outputs": [],
   "source": [
    "# Plot the word cloud for each cluster basd on the average TF-IDF\n",
    "for i in range(n_clusters):\n",
    "    wordcloud = WordCloud(width=800, height=400, background_color='white').generate_from_frequencies(cluster_tfidf.loc[i])\n",
    "    plt.figure(figsize=(10, 5))\n",
    "    plt.imshow(wordcloud, interpolation='bilinear')\n",
    "    plt.axis('off')\n",
    "    plt.title(f'Cluster {i}')\n",
    "    plt.show()"
   ]
  },
  {
   "cell_type": "markdown",
   "metadata": {},
   "source": [
    "## 7 - Topic modeling"
   ]
  },
  {
   "cell_type": "code",
   "execution_count": null,
   "metadata": {},
   "outputs": [],
   "source": [
    "import gensim\n",
    "from gensim import corpora\n",
    "\n",
    "random_seed = 42"
   ]
  },
  {
   "cell_type": "code",
   "execution_count": null,
   "metadata": {},
   "outputs": [],
   "source": [
    "# Generate bigrams\n",
    "def generate_bigrams(row):\n",
    "    tokens = row.split()\n",
    "    bigram_model = gensim.models.Phrases(tokens, min_count=5, threshold=100)\n",
    "    tokens = [token for token in bigram_model[tokens]]\n",
    "    return tokens\n",
    "\n",
    "\n",
    "print(generate_bigrams(train_df['ProcessedText'].iloc[0]))\n",
    "preprocessed_docs = train_df['ProcessedText'].apply(generate_bigrams)"
   ]
  },
  {
   "cell_type": "code",
   "execution_count": null,
   "metadata": {},
   "outputs": [],
   "source": [
    "# Build dictionary and corpus\n",
    "dictionary = corpora.Dictionary(preprocessed_docs)\n",
    "corpus = [dictionary.doc2bow(doc) for doc in preprocessed_docs]"
   ]
  },
  {
   "cell_type": "code",
   "execution_count": null,
   "metadata": {},
   "outputs": [],
   "source": [
    "# Train LDA model\n",
    "n_topics = 10\n",
    "\n",
    "lda_model = gensim.models.LdaMulticore(\n",
    "    corpus=corpus,\n",
    "    id2word=dictionary,\n",
    "    num_topics=n_topics,\n",
    "    random_state=random_seed,\n",
    "    chunksize=100,\n",
    "    passes=10,\n",
    ")\n",
    "\n"
   ]
  },
  {
   "cell_type": "markdown",
   "metadata": {},
   "source": [
    "### 7.1 - Visualize the topics"
   ]
  },
  {
   "cell_type": "code",
   "execution_count": null,
   "metadata": {},
   "outputs": [],
   "source": [
    "import pyLDAvis.gensim_models\n",
    "import pyLDAvis\n",
    "\n",
    "pyLDAvis.enable_notebook()"
   ]
  },
  {
   "cell_type": "code",
   "execution_count": null,
   "metadata": {},
   "outputs": [],
   "source": [
    "vis = pyLDAvis.gensim_models.prepare(lda_model, corpus, dictionary)\n",
    "vis"
   ]
  },
  {
   "cell_type": "markdown",
   "metadata": {},
   "source": [
    "### 7.2 - Get the topic distribution for each cluster"
   ]
  },
  {
   "cell_type": "code",
   "execution_count": null,
   "metadata": {},
   "outputs": [],
   "source": [
    "# Get the topic distribution for each document \n",
    "def get_avg_topic_distribution(cluster_data, topic_distribution, num_topics):\n",
    "    cluster_topics = np.zeros((len(cluster_data.index), num_topics))\n",
    "\n",
    "    # Update the distribution with the actual values\n",
    "    for i, doc_index in enumerate(cluster_data.index.tolist()):\n",
    "        for topic, prob in topic_distribution[doc_index]:\n",
    "            cluster_topics[i, topic] = prob\n",
    "\n",
    "    avg_topic_dist = np.mean(cluster_topics, axis=0)\n",
    "    return avg_topic_dist\n",
    "\n",
    "\n",
    "topic_distribution = lda_model.get_document_topics(corpus, minimum_probability=0.0)\n",
    "clusters = train_df.groupby('cluster').ProcessedText\n",
    "\n",
    "cluster_topics = []\n",
    "for cluster, data in clusters:\n",
    "    avg_topic_dist = get_avg_topic_distribution(data, topic_distribution, lda_model.num_topics)\n",
    "    cluster_topics.append([avg_topic_dist.tolist()])\n",
    "\n",
    "cluster_topics_df = pd.DataFrame(cluster_topics, columns=['avg_topic_distribution'])\n",
    "\n",
    "cluster_topics_df"
   ]
  },
  {
   "cell_type": "markdown",
   "metadata": {},
   "source": [
    "### 7.3 - Visualize the distribution of topics within each cluster"
   ]
  },
  {
   "cell_type": "code",
   "execution_count": null,
   "metadata": {},
   "outputs": [],
   "source": [
    "import altair as alt"
   ]
  },
  {
   "cell_type": "code",
   "execution_count": null,
   "metadata": {},
   "outputs": [],
   "source": [
    "# Reshape the dataframe to have a row for each cluster and topic\n",
    "cluster_topics_heatmap_df = cluster_topics_df.avg_topic_distribution.apply(pd.Series).reset_index().rename(columns={'index': 'cluster'}).melt(id_vars='cluster', var_name='topic', value_name='probability')\n",
    "\n",
    "heatmap = alt.Chart(cluster_topics_heatmap_df).mark_rect().encode(\n",
    "    x='topic:O',\n",
    "    y='cluster:O',\n",
    "    color='probability:Q'\n",
    ").properties(\n",
    "    title='Average Topic Distribution for Each Cluster',\n",
    "    width=400,\n",
    "    height=400\n",
    ")\n",
    "\n",
    "heatmap"
   ]
  }
 ],
 "metadata": {
  "kernelspec": {
   "display_name": "base",
   "language": "python",
   "name": "python3"
  },
  "language_info": {
   "codemirror_mode": {
    "name": "ipython",
    "version": 3
   },
   "file_extension": ".py",
   "mimetype": "text/x-python",
   "name": "python",
   "nbconvert_exporter": "python",
   "pygments_lexer": "ipython3",
   "version": "3.11.6"
  }
 },
 "nbformat": 4,
 "nbformat_minor": 2
}
