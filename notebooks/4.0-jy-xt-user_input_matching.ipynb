{
 "cells": [
  {
   "cell_type": "code",
   "execution_count": 1,
   "metadata": {},
   "outputs": [],
   "source": [
    "import pandas as pd\n",
    "import numpy as np\n",
    "import os\n",
    "import json"
   ]
  },
  {
   "cell_type": "markdown",
   "metadata": {},
   "source": [
    "## 1 - Load data"
   ]
  },
  {
   "cell_type": "markdown",
   "metadata": {},
   "source": [
    "### 1.1 - Load the preprocessed data"
   ]
  },
  {
   "cell_type": "code",
   "execution_count": 2,
   "metadata": {},
   "outputs": [
    {
     "data": {
      "text/html": [
       "<div>\n",
       "<style scoped>\n",
       "    .dataframe tbody tr th:only-of-type {\n",
       "        vertical-align: middle;\n",
       "    }\n",
       "\n",
       "    .dataframe tbody tr th {\n",
       "        vertical-align: top;\n",
       "    }\n",
       "\n",
       "    .dataframe thead th {\n",
       "        text-align: right;\n",
       "    }\n",
       "</style>\n",
       "<table border=\"1\" class=\"dataframe\">\n",
       "  <thead>\n",
       "    <tr style=\"text-align: right;\">\n",
       "      <th></th>\n",
       "      <th>file</th>\n",
       "      <th>VMONTH</th>\n",
       "      <th>VYEAR</th>\n",
       "      <th>VDAYR</th>\n",
       "      <th>YEAR</th>\n",
       "      <th>AGE</th>\n",
       "      <th>SEX</th>\n",
       "      <th>ETHNIC</th>\n",
       "      <th>RACE</th>\n",
       "      <th>USETOBAC</th>\n",
       "      <th>...</th>\n",
       "      <th>OTHPROV</th>\n",
       "      <th>MHP</th>\n",
       "      <th>NODISP</th>\n",
       "      <th>REFOTHMD</th>\n",
       "      <th>RETAPPT</th>\n",
       "      <th>OTHDISP</th>\n",
       "      <th>ERADMHOS</th>\n",
       "      <th>cluster</th>\n",
       "      <th>CombinedText</th>\n",
       "      <th>ProcessedText</th>\n",
       "    </tr>\n",
       "  </thead>\n",
       "  <tbody>\n",
       "    <tr>\n",
       "      <th>0</th>\n",
       "      <td>opd2006.csv</td>\n",
       "      <td>December</td>\n",
       "      <td>2006.0</td>\n",
       "      <td>Friday</td>\n",
       "      <td>2006.0</td>\n",
       "      <td>55.0</td>\n",
       "      <td>Male</td>\n",
       "      <td>Not Hispanic or Latino</td>\n",
       "      <td>White Only</td>\n",
       "      <td>Not current</td>\n",
       "      <td>...</td>\n",
       "      <td>No</td>\n",
       "      <td>NaN</td>\n",
       "      <td>One or more dispositions marked</td>\n",
       "      <td>No</td>\n",
       "      <td>No</td>\n",
       "      <td>No</td>\n",
       "      <td>No</td>\n",
       "      <td>9</td>\n",
       "      <td>55_year_old Middle_Aged Male Acute problem Inj...</td>\n",
       "      <td>55_year_old middle_age male acute problem inju...</td>\n",
       "    </tr>\n",
       "    <tr>\n",
       "      <th>1</th>\n",
       "      <td>opd2006.csv</td>\n",
       "      <td>November</td>\n",
       "      <td>2006.0</td>\n",
       "      <td>Thursday</td>\n",
       "      <td>2006.0</td>\n",
       "      <td>66.0</td>\n",
       "      <td>Male</td>\n",
       "      <td>Not Hispanic or Latino</td>\n",
       "      <td>White Only</td>\n",
       "      <td>Not current</td>\n",
       "      <td>...</td>\n",
       "      <td>No</td>\n",
       "      <td>NaN</td>\n",
       "      <td>One or more dispositions marked</td>\n",
       "      <td>No</td>\n",
       "      <td>No</td>\n",
       "      <td>No</td>\n",
       "      <td>No</td>\n",
       "      <td>0</td>\n",
       "      <td>66_year_old Senior Male Acute problem Cough Ov...</td>\n",
       "      <td>66_year_old senior male acute problem cough ov...</td>\n",
       "    </tr>\n",
       "    <tr>\n",
       "      <th>2</th>\n",
       "      <td>opd2006.csv</td>\n",
       "      <td>November</td>\n",
       "      <td>2006.0</td>\n",
       "      <td>Wednesday</td>\n",
       "      <td>2006.0</td>\n",
       "      <td>71.0</td>\n",
       "      <td>Female</td>\n",
       "      <td>Not Hispanic or Latino</td>\n",
       "      <td>White Only</td>\n",
       "      <td>Not current</td>\n",
       "      <td>...</td>\n",
       "      <td>No</td>\n",
       "      <td>NaN</td>\n",
       "      <td>One or more dispositions marked</td>\n",
       "      <td>Yes</td>\n",
       "      <td>No</td>\n",
       "      <td>No</td>\n",
       "      <td>No</td>\n",
       "      <td>7</td>\n",
       "      <td>71_year_old Senior Female Acute problem Genera...</td>\n",
       "      <td>71_year_old senior female acute problem genera...</td>\n",
       "    </tr>\n",
       "    <tr>\n",
       "      <th>3</th>\n",
       "      <td>opd2006.csv</td>\n",
       "      <td>November</td>\n",
       "      <td>2006.0</td>\n",
       "      <td>Tuesday</td>\n",
       "      <td>2006.0</td>\n",
       "      <td>1.0</td>\n",
       "      <td>Female</td>\n",
       "      <td>Not Hispanic or Latino</td>\n",
       "      <td>White Only</td>\n",
       "      <td>Not current</td>\n",
       "      <td>...</td>\n",
       "      <td>No</td>\n",
       "      <td>NaN</td>\n",
       "      <td>One or more dispositions marked</td>\n",
       "      <td>No</td>\n",
       "      <td>No</td>\n",
       "      <td>No</td>\n",
       "      <td>No</td>\n",
       "      <td>2</td>\n",
       "      <td>1_year_old Infant Female Acute problem Other a...</td>\n",
       "      <td>1_year_old infant female acute problem unspeci...</td>\n",
       "    </tr>\n",
       "    <tr>\n",
       "      <th>4</th>\n",
       "      <td>opd2006.csv</td>\n",
       "      <td>November</td>\n",
       "      <td>2006.0</td>\n",
       "      <td>Monday</td>\n",
       "      <td>2006.0</td>\n",
       "      <td>21.0</td>\n",
       "      <td>Female</td>\n",
       "      <td>Not Hispanic or Latino</td>\n",
       "      <td>White Only</td>\n",
       "      <td>Current</td>\n",
       "      <td>...</td>\n",
       "      <td>No</td>\n",
       "      <td>NaN</td>\n",
       "      <td>One or more dispositions marked</td>\n",
       "      <td>No</td>\n",
       "      <td>No</td>\n",
       "      <td>No</td>\n",
       "      <td>No</td>\n",
       "      <td>6</td>\n",
       "      <td>21_year_old Adult Female TOBACCO user Acute pr...</td>\n",
       "      <td>21_year_old adult female tobacco user acute pr...</td>\n",
       "    </tr>\n",
       "  </tbody>\n",
       "</table>\n",
       "<p>5 rows × 164 columns</p>\n",
       "</div>"
      ],
      "text/plain": [
       "          file    VMONTH   VYEAR      VDAYR    YEAR   AGE     SEX  \\\n",
       "0  opd2006.csv  December  2006.0     Friday  2006.0  55.0    Male   \n",
       "1  opd2006.csv  November  2006.0   Thursday  2006.0  66.0    Male   \n",
       "2  opd2006.csv  November  2006.0  Wednesday  2006.0  71.0  Female   \n",
       "3  opd2006.csv  November  2006.0    Tuesday  2006.0   1.0  Female   \n",
       "4  opd2006.csv  November  2006.0     Monday  2006.0  21.0  Female   \n",
       "\n",
       "                   ETHNIC        RACE     USETOBAC  ... OTHPROV  MHP  \\\n",
       "0  Not Hispanic or Latino  White Only  Not current  ...      No  NaN   \n",
       "1  Not Hispanic or Latino  White Only  Not current  ...      No  NaN   \n",
       "2  Not Hispanic or Latino  White Only  Not current  ...      No  NaN   \n",
       "3  Not Hispanic or Latino  White Only  Not current  ...      No  NaN   \n",
       "4  Not Hispanic or Latino  White Only      Current  ...      No  NaN   \n",
       "\n",
       "                            NODISP REFOTHMD RETAPPT OTHDISP ERADMHOS cluster  \\\n",
       "0  One or more dispositions marked       No      No      No       No       9   \n",
       "1  One or more dispositions marked       No      No      No       No       0   \n",
       "2  One or more dispositions marked      Yes      No      No       No       7   \n",
       "3  One or more dispositions marked       No      No      No       No       2   \n",
       "4  One or more dispositions marked       No      No      No       No       6   \n",
       "\n",
       "                                        CombinedText  \\\n",
       "0  55_year_old Middle_Aged Male Acute problem Inj...   \n",
       "1  66_year_old Senior Male Acute problem Cough Ov...   \n",
       "2  71_year_old Senior Female Acute problem Genera...   \n",
       "3  1_year_old Infant Female Acute problem Other a...   \n",
       "4  21_year_old Adult Female TOBACCO user Acute pr...   \n",
       "\n",
       "                                       ProcessedText  \n",
       "0  55_year_old middle_age male acute problem inju...  \n",
       "1  66_year_old senior male acute problem cough ov...  \n",
       "2  71_year_old senior female acute problem genera...  \n",
       "3  1_year_old infant female acute problem unspeci...  \n",
       "4  21_year_old adult female tobacco user acute pr...  \n",
       "\n",
       "[5 rows x 164 columns]"
      ]
     },
     "execution_count": 2,
     "metadata": {},
     "output_type": "execute_result"
    }
   ],
   "source": [
    "processed_file_path = os.path.join('..', 'data', 'processed')\n",
    "clustering_model_name = 'KMeans'\n",
    "processed_file_name = f'train_{clustering_model_name}.csv'\n",
    "\n",
    "train_df = pd.read_csv(os.path.join(processed_file_path, processed_file_name), low_memory=False)\n",
    "train_df.head()"
   ]
  },
  {
   "cell_type": "markdown",
   "metadata": {},
   "source": [
    "### 1.2 - Load the vairiables dictionary"
   ]
  },
  {
   "cell_type": "code",
   "execution_count": 3,
   "metadata": {},
   "outputs": [
    {
     "name": "stdout",
     "output_type": "stream",
     "text": [
      "Variable Categories:\n",
      "\n",
      "dateOfVisit\n",
      "['VMONTH', 'VYEAR', 'VDAYR', 'YEAR']\n",
      "demographics\n",
      "['AGE', 'SEX', 'ETHNIC', 'RACE', 'USETOBAC']\n",
      "payment\n",
      "['PAYPRIV', 'PAYMCARE', 'PAYMCAID', 'PAYWKCMP', 'PAYSELF', 'PAYNOCHG', 'PAYOTH', 'PAYDK', 'PAYTYPER']\n",
      "visitReason\n",
      "['INJDET', 'INJURY', 'MAJOR', 'RFV1', 'RFV2', 'RFV3']\n",
      "patientClinicHistory\n",
      "['SENBEFOR', 'PASTVIS']\n",
      "vitalSigns\n",
      "['HTIN', 'WTLB', 'BMI', 'TEMPF', 'BPSYS', 'BPDIAS']\n",
      "imputedFields\n",
      "['BDATEFL', 'SEXFL', 'SENBEFL', 'PASTFL']\n",
      "physicianDiagnoses\n",
      "['DIAG1', 'DIAG2', 'DIAG3']\n",
      "differentialDiagnoses\n",
      "['PRDIAG1', 'PRDIAG2', 'PRDIAG3']\n",
      "presentSymptomsStatus\n",
      "['ARTHRTIS', 'ASTHMA', 'CANCER', 'CASTAGE', 'CEBVD', 'CHF', 'CRF', 'COPD', 'DEPRN', 'DIABETES', 'HYPLIPID', 'HTN', 'IHD', 'OBESITY', 'OSTPRSIS', 'NOCHRON', 'TOTCHRON', 'DMP']\n",
      "services\n",
      "['BREAST', 'PELVIC', 'RECTAL', 'SKIN', 'DEPRESS', 'BONEDENS', 'MAMMO', 'MRI', 'ULTRASND', 'XRAY', 'OTHIMAGE', 'CBC', 'ELECTROL', 'GLUCOSE', 'HGBA', 'CHOLEST', 'PSA', 'OTHERBLD', 'BIOPSY', 'CHLAMYD', 'PAPCONV', 'PAPLIQ', 'PAPUNSP', 'HPVDNA', 'EKG', 'SPIRO', 'URINE', 'HTTAKE', 'WTTAKE', 'TEMPTAKE', 'BLODPRES', 'CAM', 'DME', 'HOMEHLTH', 'HOSPICE', 'PT', 'RADTHER', 'SPOCTHER', 'PSYCHOTH', 'OTHMNTL', 'EXCISION', 'ORTHO', 'WOUND', 'ECHOCARD', 'OTHULTRA', 'PROC1', 'PROC2', 'PROC3', 'PROC4', 'PROC5', 'PROC6', 'PROC7', 'PROC8', 'PROC9', 'CATSCAN', 'PREGTEST', 'FOOT', 'RETINAL', 'HIVTEST', 'CAST', 'SPLINT']\n",
      "healthEducation\n",
      "['ASTHMAED', 'DIETNUTR', 'EXERCISE', 'GRWTHDEV', 'INJPREV', 'STRESMGT', 'TOBACED', 'WTREDUC', 'OTHLTHED']\n",
      "medicationsAndImmunizations\n",
      "['MED1', 'MED2', 'MED3', 'MED4', 'MED5', 'MED6', 'MED7', 'MED8', 'NCMED1', 'NCMED2', 'NCMED3', 'NCMED4', 'NCMED5', 'NCMED6', 'NCMED7', 'NCMED8', 'NUMNEW', 'NUMCONT']\n",
      "providersSeen\n",
      "['NOPROVID', 'PHYS', 'PHYSASST', 'NPNMW', 'RNLPN', 'OTHPROV', 'MHP']\n",
      "visitDisposition\n",
      "['NODISP', 'REFOTHMD', 'RETAPPT', 'OTHDISP', 'ERADMHOS']\n"
     ]
    }
   ],
   "source": [
    "# Load the variables dictionary\n",
    "variables_file_path = os.path.join('..', 'data', 'cleaned')\n",
    "\n",
    "with open(os.path.join(variables_file_path, 'variables.json'), 'r') as f:\n",
    "    variables = json.load(f)\n",
    "\n",
    "print(f'Variable Categories:\\n')\n",
    "for category, list in variables.items():\n",
    "    print(f'{category}')\n",
    "    print(f'{list}')"
   ]
  },
  {
   "cell_type": "markdown",
   "metadata": {},
   "source": [
    "## 2 - Preprocess user input"
   ]
  },
  {
   "cell_type": "code",
   "execution_count": 4,
   "metadata": {},
   "outputs": [],
   "source": [
    "# Load custom function to combine text features\n",
    "import sys\n",
    "sys.path.append('../src/features/')\n",
    "\n",
    "from combine_textual import combine_features\n",
    "\n",
    "\n",
    "# Define the list of features to combine\n",
    "feature_list = [\n",
    "    'AGE', 'SEX', 'USETOBAC', \n",
    "    'MAJOR', 'RFV1', 'RFV2', 'RFV3', \n",
    "    'BMI', 'TEMPF', 'BPSYS', 'BPDIAS',\n",
    "    'ARTHRTIS', 'ASTHMA', 'CANCER', 'CEBVD', 'CHF', 'CRF', 'COPD', 'DEPRN', 'DIABETES', 'HYPLIPID', 'HTN', 'IHD', 'OBESITY', 'OSTPRSIS', 'NOCHRON', 'DMP',\n",
    "    'DIAG1', 'DIAG2', 'DIAG3'\n",
    "]"
   ]
  },
  {
   "cell_type": "code",
   "execution_count": 5,
   "metadata": {},
   "outputs": [],
   "source": [
    "user_input = combine_features(train_df.iloc[0].copy(), feature_list[:-3])"
   ]
  },
  {
   "cell_type": "markdown",
   "metadata": {},
   "source": [
    "## 3 - Generate vectors and compute similarities/relevances"
   ]
  },
  {
   "cell_type": "code",
   "execution_count": 6,
   "metadata": {},
   "outputs": [
    {
     "name": "stdout",
     "output_type": "stream",
     "text": [
      "Using device: mps\n"
     ]
    },
    {
     "name": "stderr",
     "output_type": "stream",
     "text": [
      "Some weights of the model checkpoint at microsoft/BiomedNLP-BiomedBERT-base-uncased-abstract-fulltext were not used when initializing BertModel: ['cls.predictions.transform.dense.bias', 'cls.seq_relationship.bias', 'cls.predictions.transform.dense.weight', 'cls.predictions.decoder.bias', 'cls.predictions.transform.LayerNorm.weight', 'cls.seq_relationship.weight', 'cls.predictions.decoder.weight', 'cls.predictions.transform.LayerNorm.bias', 'cls.predictions.bias']\n",
      "- This IS expected if you are initializing BertModel from the checkpoint of a model trained on another task or with another architecture (e.g. initializing a BertForSequenceClassification model from a BertForPreTraining model).\n",
      "- This IS NOT expected if you are initializing BertModel from the checkpoint of a model that you expect to be exactly identical (initializing a BertForSequenceClassification model from a BertForSequenceClassification model).\n"
     ]
    }
   ],
   "source": [
    "# Load model directly\n",
    "from transformers import AutoTokenizer, AutoModel\n",
    "import torch\n",
    "\n",
    "if torch.cuda.is_available():\n",
    "    device = 'cuda'\n",
    "elif torch.backends.mps.is_available():\n",
    "    device= 'mps'\n",
    "else:\n",
    "    device = 'cpu'\n",
    "print(f'Using device: {device}')\n",
    "\n",
    "model_name = \"microsoft/BiomedNLP-BiomedBERT-base-uncased-abstract-fulltext\"\n",
    "tokenizer = AutoTokenizer.from_pretrained(model_name)\n",
    "model = AutoModel.from_pretrained(model_name).to(device)"
   ]
  },
  {
   "cell_type": "code",
   "execution_count": 7,
   "metadata": {},
   "outputs": [],
   "source": [
    "def get_embedding(text):\n",
    "    encoded_input = tokenizer(text, return_tensors='pt', padding=True, truncation=True, max_length=512).to(device)\n",
    "\n",
    "    with torch.no_grad():\n",
    "        output = model(**encoded_input)\n",
    "        #sentence_embedding = output.last_hidden_state[:, 0, :]\n",
    "        sentence_embedding = output.pooler_output\n",
    "    return sentence_embedding\n",
    "\n",
    "\n",
    "def compare_to_groups(user_input, records_by_group, batch_size=32):\n",
    "    # preprocess user input\n",
    "    #user_input = preprocess_text(user_input)\n",
    "\n",
    "    user_embedding = get_embedding(user_input)\n",
    "\n",
    "    group_relevances = {}\n",
    "    for group_id, records in records_by_group.items():\n",
    "        batch_embeddings = []\n",
    "        for i in range(0, len(records), batch_size):\n",
    "            batch_records = records[i:i+batch_size]\n",
    "            batch_embeddings.append(get_embedding([text for text in batch_records]))\n",
    "\n",
    "        group_embeddings = torch.cat(batch_embeddings, dim=0)\n",
    "\n",
    "        group_similarities = torch.nn.functional.cosine_similarity(user_embedding, group_embeddings, dim=1)\n",
    "\n",
    "        # Print the max and min similarity scores within the group\n",
    "        print(f'Group {group_id}:')\n",
    "        print(f'Max Similarity: {group_similarities.max().item()}')\n",
    "        print(f'Min Similarity: {group_similarities.min().item()}')\n",
    "        print()\n",
    "    \n",
    "        group_relevance = group_similarities.mean(dim=0).item()\n",
    "        group_relevances[group_id] = group_relevance\n",
    "\n",
    "    return group_relevances"
   ]
  },
  {
   "cell_type": "code",
   "execution_count": 8,
   "metadata": {},
   "outputs": [
    {
     "data": {
      "text/plain": [
       "dict_keys([0, 1, 2, 3, 4, 5, 6, 7, 8, 9])"
      ]
     },
     "execution_count": 8,
     "metadata": {},
     "output_type": "execute_result"
    }
   ],
   "source": [
    "records_by_group = train_df.groupby('cluster')['ProcessedText'].apply(lambda x: x.tolist()).to_dict()\n",
    "records_by_group.keys()"
   ]
  },
  {
   "cell_type": "code",
   "execution_count": 9,
   "metadata": {},
   "outputs": [
    {
     "name": "stdout",
     "output_type": "stream",
     "text": [
      "Group 0:\n",
      "Max Similarity: 0.9808236956596375\n",
      "Min Similarity: 0.6218248009681702\n",
      "Group 1:\n",
      "Max Similarity: 0.9779689311981201\n",
      "Min Similarity: 0.6466044187545776\n",
      "Group 2:\n",
      "Max Similarity: 0.9760890603065491\n",
      "Min Similarity: 0.6302465200424194\n",
      "Group 3:\n",
      "Max Similarity: 0.9772753119468689\n",
      "Min Similarity: 0.6411662697792053\n",
      "Group 4:\n",
      "Max Similarity: 0.980180025100708\n",
      "Min Similarity: 0.676959753036499\n",
      "Group 5:\n",
      "Max Similarity: 0.9760475754737854\n",
      "Min Similarity: 0.6320551633834839\n",
      "Group 6:\n",
      "Max Similarity: 0.978866696357727\n",
      "Min Similarity: 0.6442828178405762\n",
      "Group 7:\n",
      "Max Similarity: 0.9787057042121887\n",
      "Min Similarity: 0.641491174697876\n",
      "Group 8:\n",
      "Max Similarity: 0.9779014587402344\n",
      "Min Similarity: 0.6317482590675354\n",
      "Group 9:\n",
      "Max Similarity: 0.9788384437561035\n",
      "Min Similarity: 0.6553593277931213\n"
     ]
    },
    {
     "data": {
      "text/plain": [
       "{0: 0.9275656342506409,\n",
       " 1: 0.9284870028495789,\n",
       " 2: 0.9148563146591187,\n",
       " 3: 0.9196761846542358,\n",
       " 4: 0.9316330552101135,\n",
       " 5: 0.9221423268318176,\n",
       " 6: 0.9189413785934448,\n",
       " 7: 0.919468879699707,\n",
       " 8: 0.9163185358047485,\n",
       " 9: 0.9324429035186768}"
      ]
     },
     "execution_count": 9,
     "metadata": {},
     "output_type": "execute_result"
    }
   ],
   "source": [
    "compare_to_groups(user_input, records_by_group)"
   ]
  },
  {
   "cell_type": "code",
   "execution_count": null,
   "metadata": {},
   "outputs": [],
   "source": []
  }
 ],
 "metadata": {
  "kernelspec": {
   "display_name": "base",
   "language": "python",
   "name": "python3"
  },
  "language_info": {
   "codemirror_mode": {
    "name": "ipython",
    "version": 3
   },
   "file_extension": ".py",
   "mimetype": "text/x-python",
   "name": "python",
   "nbconvert_exporter": "python",
   "pygments_lexer": "ipython3",
   "version": "3.11.6"
  }
 },
 "nbformat": 4,
 "nbformat_minor": 2
}
