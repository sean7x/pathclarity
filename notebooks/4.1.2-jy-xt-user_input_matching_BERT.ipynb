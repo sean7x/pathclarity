{
 "cells": [
  {
   "cell_type": "code",
   "execution_count": 1,
   "metadata": {},
   "outputs": [],
   "source": [
    "import pandas as pd\n",
    "import numpy as np\n",
    "import os\n",
    "import json"
   ]
  },
  {
   "cell_type": "markdown",
   "metadata": {},
   "source": [
    "## 1 - Load data"
   ]
  },
  {
   "cell_type": "markdown",
   "metadata": {},
   "source": [
    "### 1.1 - Load the preprocessed data"
   ]
  },
  {
   "cell_type": "code",
   "execution_count": 2,
   "metadata": {},
   "outputs": [
    {
     "data": {
      "text/html": [
       "<div>\n",
       "<style scoped>\n",
       "    .dataframe tbody tr th:only-of-type {\n",
       "        vertical-align: middle;\n",
       "    }\n",
       "\n",
       "    .dataframe tbody tr th {\n",
       "        vertical-align: top;\n",
       "    }\n",
       "\n",
       "    .dataframe thead th {\n",
       "        text-align: right;\n",
       "    }\n",
       "</style>\n",
       "<table border=\"1\" class=\"dataframe\">\n",
       "  <thead>\n",
       "    <tr style=\"text-align: right;\">\n",
       "      <th></th>\n",
       "      <th>file</th>\n",
       "      <th>VMONTH</th>\n",
       "      <th>VYEAR</th>\n",
       "      <th>VDAYR</th>\n",
       "      <th>YEAR</th>\n",
       "      <th>AGE</th>\n",
       "      <th>SEX</th>\n",
       "      <th>ETHNIC</th>\n",
       "      <th>RACE</th>\n",
       "      <th>USETOBAC</th>\n",
       "      <th>...</th>\n",
       "      <th>OTHPROV</th>\n",
       "      <th>MHP</th>\n",
       "      <th>NODISP</th>\n",
       "      <th>REFOTHMD</th>\n",
       "      <th>RETAPPT</th>\n",
       "      <th>OTHDISP</th>\n",
       "      <th>ERADMHOS</th>\n",
       "      <th>cluster</th>\n",
       "      <th>CombinedText</th>\n",
       "      <th>ProcessedText</th>\n",
       "    </tr>\n",
       "  </thead>\n",
       "  <tbody>\n",
       "    <tr>\n",
       "      <th>0</th>\n",
       "      <td>opd2006.csv</td>\n",
       "      <td>December</td>\n",
       "      <td>2006.0</td>\n",
       "      <td>Friday</td>\n",
       "      <td>2006.0</td>\n",
       "      <td>55.0</td>\n",
       "      <td>Male</td>\n",
       "      <td>Not Hispanic or Latino</td>\n",
       "      <td>White Only</td>\n",
       "      <td>Not current</td>\n",
       "      <td>...</td>\n",
       "      <td>No</td>\n",
       "      <td>NaN</td>\n",
       "      <td>One or more dispositions marked</td>\n",
       "      <td>No</td>\n",
       "      <td>No</td>\n",
       "      <td>No</td>\n",
       "      <td>No</td>\n",
       "      <td>9</td>\n",
       "      <td>55_year_old Middle_Aged Male Acute_problem Inj...</td>\n",
       "      <td>55_year_old middle_age male acute_problem inju...</td>\n",
       "    </tr>\n",
       "    <tr>\n",
       "      <th>1</th>\n",
       "      <td>opd2006.csv</td>\n",
       "      <td>November</td>\n",
       "      <td>2006.0</td>\n",
       "      <td>Thursday</td>\n",
       "      <td>2006.0</td>\n",
       "      <td>66.0</td>\n",
       "      <td>Male</td>\n",
       "      <td>Not Hispanic or Latino</td>\n",
       "      <td>White Only</td>\n",
       "      <td>Not current</td>\n",
       "      <td>...</td>\n",
       "      <td>No</td>\n",
       "      <td>NaN</td>\n",
       "      <td>One or more dispositions marked</td>\n",
       "      <td>No</td>\n",
       "      <td>No</td>\n",
       "      <td>No</td>\n",
       "      <td>No</td>\n",
       "      <td>0</td>\n",
       "      <td>66_year_old Senior Male Acute_problem Cough Ov...</td>\n",
       "      <td>66_year_old senior male acute_problem cough ov...</td>\n",
       "    </tr>\n",
       "    <tr>\n",
       "      <th>2</th>\n",
       "      <td>opd2006.csv</td>\n",
       "      <td>November</td>\n",
       "      <td>2006.0</td>\n",
       "      <td>Wednesday</td>\n",
       "      <td>2006.0</td>\n",
       "      <td>71.0</td>\n",
       "      <td>Female</td>\n",
       "      <td>Not Hispanic or Latino</td>\n",
       "      <td>White Only</td>\n",
       "      <td>Not current</td>\n",
       "      <td>...</td>\n",
       "      <td>No</td>\n",
       "      <td>NaN</td>\n",
       "      <td>One or more dispositions marked</td>\n",
       "      <td>Yes</td>\n",
       "      <td>No</td>\n",
       "      <td>No</td>\n",
       "      <td>No</td>\n",
       "      <td>7</td>\n",
       "      <td>71_year_old Senior Female Acute_problem Genera...</td>\n",
       "      <td>71_year_old senior female acute_problem genera...</td>\n",
       "    </tr>\n",
       "    <tr>\n",
       "      <th>3</th>\n",
       "      <td>opd2006.csv</td>\n",
       "      <td>November</td>\n",
       "      <td>2006.0</td>\n",
       "      <td>Tuesday</td>\n",
       "      <td>2006.0</td>\n",
       "      <td>1.0</td>\n",
       "      <td>Female</td>\n",
       "      <td>Not Hispanic or Latino</td>\n",
       "      <td>White Only</td>\n",
       "      <td>Not current</td>\n",
       "      <td>...</td>\n",
       "      <td>No</td>\n",
       "      <td>NaN</td>\n",
       "      <td>One or more dispositions marked</td>\n",
       "      <td>No</td>\n",
       "      <td>No</td>\n",
       "      <td>No</td>\n",
       "      <td>No</td>\n",
       "      <td>2</td>\n",
       "      <td>1_year_old Infant Female Acute_problem Other a...</td>\n",
       "      <td>1_year_old infant female acute_problem unspeci...</td>\n",
       "    </tr>\n",
       "    <tr>\n",
       "      <th>4</th>\n",
       "      <td>opd2006.csv</td>\n",
       "      <td>November</td>\n",
       "      <td>2006.0</td>\n",
       "      <td>Monday</td>\n",
       "      <td>2006.0</td>\n",
       "      <td>21.0</td>\n",
       "      <td>Female</td>\n",
       "      <td>Not Hispanic or Latino</td>\n",
       "      <td>White Only</td>\n",
       "      <td>Current</td>\n",
       "      <td>...</td>\n",
       "      <td>No</td>\n",
       "      <td>NaN</td>\n",
       "      <td>One or more dispositions marked</td>\n",
       "      <td>No</td>\n",
       "      <td>No</td>\n",
       "      <td>No</td>\n",
       "      <td>No</td>\n",
       "      <td>6</td>\n",
       "      <td>21_year_old Adult Female Tobacco_User Acute_pr...</td>\n",
       "      <td>21_year_old adult female tobacco_user acute_pr...</td>\n",
       "    </tr>\n",
       "  </tbody>\n",
       "</table>\n",
       "<p>5 rows × 164 columns</p>\n",
       "</div>"
      ],
      "text/plain": [
       "          file    VMONTH   VYEAR      VDAYR    YEAR   AGE     SEX  \\\n",
       "0  opd2006.csv  December  2006.0     Friday  2006.0  55.0    Male   \n",
       "1  opd2006.csv  November  2006.0   Thursday  2006.0  66.0    Male   \n",
       "2  opd2006.csv  November  2006.0  Wednesday  2006.0  71.0  Female   \n",
       "3  opd2006.csv  November  2006.0    Tuesday  2006.0   1.0  Female   \n",
       "4  opd2006.csv  November  2006.0     Monday  2006.0  21.0  Female   \n",
       "\n",
       "                   ETHNIC        RACE     USETOBAC  ... OTHPROV  MHP  \\\n",
       "0  Not Hispanic or Latino  White Only  Not current  ...      No  NaN   \n",
       "1  Not Hispanic or Latino  White Only  Not current  ...      No  NaN   \n",
       "2  Not Hispanic or Latino  White Only  Not current  ...      No  NaN   \n",
       "3  Not Hispanic or Latino  White Only  Not current  ...      No  NaN   \n",
       "4  Not Hispanic or Latino  White Only      Current  ...      No  NaN   \n",
       "\n",
       "                            NODISP REFOTHMD RETAPPT OTHDISP ERADMHOS cluster  \\\n",
       "0  One or more dispositions marked       No      No      No       No       9   \n",
       "1  One or more dispositions marked       No      No      No       No       0   \n",
       "2  One or more dispositions marked      Yes      No      No       No       7   \n",
       "3  One or more dispositions marked       No      No      No       No       2   \n",
       "4  One or more dispositions marked       No      No      No       No       6   \n",
       "\n",
       "                                        CombinedText  \\\n",
       "0  55_year_old Middle_Aged Male Acute_problem Inj...   \n",
       "1  66_year_old Senior Male Acute_problem Cough Ov...   \n",
       "2  71_year_old Senior Female Acute_problem Genera...   \n",
       "3  1_year_old Infant Female Acute_problem Other a...   \n",
       "4  21_year_old Adult Female Tobacco_User Acute_pr...   \n",
       "\n",
       "                                       ProcessedText  \n",
       "0  55_year_old middle_age male acute_problem inju...  \n",
       "1  66_year_old senior male acute_problem cough ov...  \n",
       "2  71_year_old senior female acute_problem genera...  \n",
       "3  1_year_old infant female acute_problem unspeci...  \n",
       "4  21_year_old adult female tobacco_user acute_pr...  \n",
       "\n",
       "[5 rows x 164 columns]"
      ]
     },
     "execution_count": 2,
     "metadata": {},
     "output_type": "execute_result"
    }
   ],
   "source": [
    "processed_file_path = os.path.join('..', 'data', 'processed')\n",
    "clustering_model_name = 'KMeans'\n",
    "processed_file_name = f'train_{clustering_model_name}.csv'\n",
    "\n",
    "train_df = pd.read_csv(os.path.join(processed_file_path, processed_file_name), low_memory=False)\n",
    "train_df.head()"
   ]
  },
  {
   "cell_type": "markdown",
   "metadata": {},
   "source": [
    "### 1.2 - Load the vairiables dictionary"
   ]
  },
  {
   "cell_type": "code",
   "execution_count": 3,
   "metadata": {},
   "outputs": [
    {
     "name": "stdout",
     "output_type": "stream",
     "text": [
      "Variable Categories:\n",
      "\n",
      "dateOfVisit\n",
      "['VMONTH', 'VYEAR', 'VDAYR', 'YEAR']\n",
      "demographics\n",
      "['AGE', 'SEX', 'ETHNIC', 'RACE', 'USETOBAC']\n",
      "payment\n",
      "['PAYPRIV', 'PAYMCARE', 'PAYMCAID', 'PAYWKCMP', 'PAYSELF', 'PAYNOCHG', 'PAYOTH', 'PAYDK', 'PAYTYPER']\n",
      "visitReason\n",
      "['INJDET', 'INJURY', 'MAJOR', 'RFV1', 'RFV2', 'RFV3']\n",
      "patientClinicHistory\n",
      "['SENBEFOR', 'PASTVIS']\n",
      "vitalSigns\n",
      "['HTIN', 'WTLB', 'BMI', 'TEMPF', 'BPSYS', 'BPDIAS']\n",
      "imputedFields\n",
      "['BDATEFL', 'SEXFL', 'SENBEFL', 'PASTFL']\n",
      "physicianDiagnoses\n",
      "['DIAG1', 'DIAG2', 'DIAG3']\n",
      "differentialDiagnoses\n",
      "['PRDIAG1', 'PRDIAG2', 'PRDIAG3']\n",
      "presentSymptomsStatus\n",
      "['ARTHRTIS', 'ASTHMA', 'CANCER', 'CASTAGE', 'CEBVD', 'CHF', 'CRF', 'COPD', 'DEPRN', 'DIABETES', 'HYPLIPID', 'HTN', 'IHD', 'OBESITY', 'OSTPRSIS', 'NOCHRON', 'TOTCHRON', 'DMP']\n",
      "services\n",
      "['BREAST', 'PELVIC', 'RECTAL', 'SKIN', 'DEPRESS', 'BONEDENS', 'MAMMO', 'MRI', 'ULTRASND', 'XRAY', 'OTHIMAGE', 'CBC', 'ELECTROL', 'GLUCOSE', 'HGBA', 'CHOLEST', 'PSA', 'OTHERBLD', 'BIOPSY', 'CHLAMYD', 'PAPCONV', 'PAPLIQ', 'PAPUNSP', 'HPVDNA', 'EKG', 'SPIRO', 'URINE', 'HTTAKE', 'WTTAKE', 'TEMPTAKE', 'BLODPRES', 'CAM', 'DME', 'HOMEHLTH', 'HOSPICE', 'PT', 'RADTHER', 'SPOCTHER', 'PSYCHOTH', 'OTHMNTL', 'EXCISION', 'ORTHO', 'WOUND', 'ECHOCARD', 'OTHULTRA', 'PROC1', 'PROC2', 'PROC3', 'PROC4', 'PROC5', 'PROC6', 'PROC7', 'PROC8', 'PROC9', 'CATSCAN', 'PREGTEST', 'FOOT', 'RETINAL', 'HIVTEST', 'CAST', 'SPLINT']\n",
      "healthEducation\n",
      "['ASTHMAED', 'DIETNUTR', 'EXERCISE', 'GRWTHDEV', 'INJPREV', 'STRESMGT', 'TOBACED', 'WTREDUC', 'OTHLTHED']\n",
      "medicationsAndImmunizations\n",
      "['MED1', 'MED2', 'MED3', 'MED4', 'MED5', 'MED6', 'MED7', 'MED8', 'NCMED1', 'NCMED2', 'NCMED3', 'NCMED4', 'NCMED5', 'NCMED6', 'NCMED7', 'NCMED8', 'NUMNEW', 'NUMCONT']\n",
      "providersSeen\n",
      "['NOPROVID', 'PHYS', 'PHYSASST', 'NPNMW', 'RNLPN', 'OTHPROV', 'MHP']\n",
      "visitDisposition\n",
      "['NODISP', 'REFOTHMD', 'RETAPPT', 'OTHDISP', 'ERADMHOS']\n"
     ]
    }
   ],
   "source": [
    "# Load the variables dictionary\n",
    "variables_file_path = os.path.join('..', 'data', 'cleaned')\n",
    "\n",
    "with open(os.path.join(variables_file_path, 'variables.json'), 'r') as f:\n",
    "    variables = json.load(f)\n",
    "\n",
    "print(f'Variable Categories:\\n')\n",
    "for category, list in variables.items():\n",
    "    print(f'{category}')\n",
    "    print(f'{list}')"
   ]
  },
  {
   "cell_type": "markdown",
   "metadata": {},
   "source": [
    "## 2 - Preprocess user input"
   ]
  },
  {
   "cell_type": "code",
   "execution_count": 4,
   "metadata": {},
   "outputs": [],
   "source": [
    "# Load custom function to combine text features\n",
    "import sys\n",
    "sys.path.append('../src/features/')\n",
    "\n",
    "from combine_textual import combine_features\n",
    "\n",
    "\n",
    "# Load the list of textual features\n",
    "with open(os.path.join(variables_file_path, 'textual_features.json'), 'r') as f:\n",
    "    textual_features = json.load(f)"
   ]
  },
  {
   "cell_type": "code",
   "execution_count": 5,
   "metadata": {},
   "outputs": [],
   "source": [
    "user_input = combine_features(train_df.iloc[0].copy(), textual_features[:-3])"
   ]
  },
  {
   "cell_type": "markdown",
   "metadata": {},
   "source": [
    "## 3 - Generate vectors and compute similarities/relevances"
   ]
  },
  {
   "cell_type": "code",
   "execution_count": 6,
   "metadata": {},
   "outputs": [
    {
     "name": "stdout",
     "output_type": "stream",
     "text": [
      "Using device: mps\n"
     ]
    },
    {
     "data": {
      "application/vnd.jupyter.widget-view+json": {
       "model_id": "37de0b33a33d490d877f2c0d786b87b8",
       "version_major": 2,
       "version_minor": 0
      },
      "text/plain": [
       "tokenizer_config.json:   0%|          | 0.00/48.0 [00:00<?, ?B/s]"
      ]
     },
     "metadata": {},
     "output_type": "display_data"
    },
    {
     "data": {
      "application/vnd.jupyter.widget-view+json": {
       "model_id": "f929e309cf2f440286b9e09c21c43176",
       "version_major": 2,
       "version_minor": 0
      },
      "text/plain": [
       "config.json:   0%|          | 0.00/570 [00:00<?, ?B/s]"
      ]
     },
     "metadata": {},
     "output_type": "display_data"
    },
    {
     "data": {
      "application/vnd.jupyter.widget-view+json": {
       "model_id": "56994f4f9df5454f9c66bf895aa3b558",
       "version_major": 2,
       "version_minor": 0
      },
      "text/plain": [
       "vocab.txt:   0%|          | 0.00/232k [00:00<?, ?B/s]"
      ]
     },
     "metadata": {},
     "output_type": "display_data"
    },
    {
     "data": {
      "application/vnd.jupyter.widget-view+json": {
       "model_id": "81b4cd92655c4153a6fd49396923ab6d",
       "version_major": 2,
       "version_minor": 0
      },
      "text/plain": [
       "tokenizer.json:   0%|          | 0.00/466k [00:00<?, ?B/s]"
      ]
     },
     "metadata": {},
     "output_type": "display_data"
    },
    {
     "data": {
      "application/vnd.jupyter.widget-view+json": {
       "model_id": "6172f9e6e3134788b8d9d1d2ed52c745",
       "version_major": 2,
       "version_minor": 0
      },
      "text/plain": [
       "pytorch_model.bin:   0%|          | 0.00/440M [00:00<?, ?B/s]"
      ]
     },
     "metadata": {},
     "output_type": "display_data"
    },
    {
     "name": "stderr",
     "output_type": "stream",
     "text": [
      "Some weights of the model checkpoint at google-bert/bert-base-uncased were not used when initializing BertModel: ['cls.seq_relationship.weight', 'cls.predictions.bias', 'cls.predictions.transform.LayerNorm.bias', 'cls.predictions.decoder.weight', 'cls.seq_relationship.bias', 'cls.predictions.transform.dense.weight', 'cls.predictions.transform.dense.bias', 'cls.predictions.transform.LayerNorm.weight']\n",
      "- This IS expected if you are initializing BertModel from the checkpoint of a model trained on another task or with another architecture (e.g. initializing a BertForSequenceClassification model from a BertForPreTraining model).\n",
      "- This IS NOT expected if you are initializing BertModel from the checkpoint of a model that you expect to be exactly identical (initializing a BertForSequenceClassification model from a BertForSequenceClassification model).\n"
     ]
    }
   ],
   "source": [
    "# Load model directly\n",
    "from transformers import AutoTokenizer, BertModel\n",
    "import torch\n",
    "\n",
    "if torch.cuda.is_available():\n",
    "    device = 'cuda'\n",
    "elif torch.backends.mps.is_available():\n",
    "    device= 'mps'\n",
    "else:\n",
    "    device = 'cpu'\n",
    "print(f'Using device: {device}')\n",
    "\n",
    "model_name = \"google-bert/bert-base-uncased\"\n",
    "tokenizer = AutoTokenizer.from_pretrained(model_name)\n",
    "model = BertModel.from_pretrained(model_name).to(device)"
   ]
  },
  {
   "cell_type": "code",
   "execution_count": 7,
   "metadata": {},
   "outputs": [],
   "source": [
    "def get_embedding(text):\n",
    "    encoded_input = tokenizer(text, return_tensors='pt', padding=True, truncation=True, max_length=512).to(device)\n",
    "\n",
    "    with torch.no_grad():\n",
    "        output = model(**encoded_input)\n",
    "        sentence_embedding = output.last_hidden_state[:, 0, :]\n",
    "        #sentence_embedding = output.pooler_output\n",
    "    return sentence_embedding\n",
    "\n",
    "\n",
    "def compare_to_groups(user_input, records_by_group, batch_size=32):\n",
    "    # preprocess user input\n",
    "    #user_input = preprocess_text(user_input)\n",
    "\n",
    "    # Print the user input\n",
    "    print(f'User Input:')\n",
    "    print(f'{user_input}')\n",
    "    print()\n",
    "\n",
    "    user_embedding = get_embedding(user_input)\n",
    "\n",
    "    group_relevances = {}\n",
    "    for group_id, records in records_by_group.items():\n",
    "        batch_embeddings = []\n",
    "        for i in range(0, len(records), batch_size):\n",
    "            batch_records = records[i:i+batch_size]\n",
    "            batch_embeddings.append(get_embedding([text for text in batch_records]))\n",
    "\n",
    "        group_embeddings = torch.cat(batch_embeddings, dim=0)\n",
    "\n",
    "        group_similarities = torch.nn.functional.cosine_similarity(user_embedding, group_embeddings, dim=1)\n",
    "\n",
    "        # Print the max and min similarity scores and the corresponding texts within the group\n",
    "        print(f'Group {group_id}:')\n",
    "        print(f'Max Similarity: {group_similarities.max().item()}')\n",
    "\n",
    "        max_index = group_similarities.argmax().item()\n",
    "        print(f'Most Similar Record:')\n",
    "        print(f'{records[max_index]}')\n",
    "        print()\n",
    "\n",
    "        print(f'Min Similarity: {group_similarities.min().item()}')\n",
    "\n",
    "        min_index = group_similarities.argmin().item()\n",
    "        print(f'Least Similar Record:')\n",
    "        print(f'{records[min_index]}')\n",
    "        print()\n",
    "        print()\n",
    "    \n",
    "        group_relevance = group_similarities.mean(dim=0).item()\n",
    "        group_relevances[group_id] = group_relevance\n",
    "\n",
    "    return group_relevances"
   ]
  },
  {
   "cell_type": "code",
   "execution_count": 8,
   "metadata": {},
   "outputs": [],
   "source": [
    "train_df['ProcessedText'] = train_df.apply(combine_features, args=(textual_features,), axis=1)"
   ]
  },
  {
   "cell_type": "code",
   "execution_count": 9,
   "metadata": {},
   "outputs": [
    {
     "data": {
      "text/plain": [
       "dict_keys([0, 1, 2, 3, 4, 5, 6, 7, 8, 9])"
      ]
     },
     "execution_count": 9,
     "metadata": {},
     "output_type": "execute_result"
    }
   ],
   "source": [
    "records_by_group = train_df.groupby('cluster')['ProcessedText'].apply(lambda x: x.tolist()).to_dict()\n",
    "records_by_group.keys()"
   ]
  },
  {
   "cell_type": "code",
   "execution_count": 10,
   "metadata": {},
   "outputs": [
    {
     "name": "stdout",
     "output_type": "stream",
     "text": [
      "User Input:\n",
      "55_year_old Middle_Aged Male Acute_problem Injury, other and unspecified, of sho... Obesity Normal_temperature Hypertension High_diastolic_blood_pressure Diabetes Hyperlipidemia Obesity Currently_enrolled_in_a_disease_management_program\n",
      "\n",
      "Group 0:\n",
      "Max Similarity: 0.9740341901779175\n",
      "Most Similar Record:\n",
      "59_year_old Middle_Aged Female New_problem (less than 3 months onset) Headache, pain in head Obesity Normal_temperature Normal_blood_pressure Low_diastolic_blood_pressure Congestive_heart_failure Diabetes Hypertension Currently_enrolled_in_a_disease_management_program\n",
      "\n",
      "Min Similarity: 0.6353670954704285\n",
      "Least Similar Record:\n",
      "79_year_old Senior Male Flare_up_chronic_problem Diabetes mellitus Overweight Normal_blood_pressure Low_diastolic_blood_pressure Congestive_heart_failure Diabetes Hyperlipidemia Hypertension Not_enrolled_in_a_disease_management_program Diabetes mellitus w/o complication, t...\n",
      "\n",
      "\n",
      "Group 1:\n",
      "Max Similarity: 0.9657740592956543\n",
      "Most Similar Record:\n",
      "24_year_old Adult Female Preventive_care Diagnosed complications of pregnancy ... Normal_blood_pressure Normal_diastolic_blood_pressure Diabetes Currently_enrolled_in_a_disease_management_program\n",
      "\n",
      "Min Similarity: 0.636833667755127\n",
      "Least Similar Record:\n",
      "42_year_old Middle_Aged Male Preventive_care For other and unspecified test results Normal_temperature Normal_blood_pressure Normal_diastolic_blood_pressure No_chronic_condition Helicobacter pylori (H. pylori) infec...\n",
      "\n",
      "\n",
      "Group 2:\n",
      "Max Similarity: 0.9582420587539673\n",
      "Most Similar Record:\n",
      "4_year_old Child Female New_problem (less than 3 months onset) Discharge from eye Infection, inflammation, swelling of ... Abnormal color of eyes Normal_temperature Normal_blood_pressure Low_diastolic_blood_pressure Asthma Currently_enrolled_in_a_disease_management_program Asthma, unspecified with acute exacerbat Conjunctivitis, unspecified Acute pharyngitis\n",
      "\n",
      "Min Similarity: 0.7776750326156616\n",
      "Least Similar Record:\n",
      "5_year_old Child Female Acute_problem Earache, pain Fever Fever No_chronic_condition Perforation of tympanic membrane, uns... Unspecified disorder of tympanic memb... Acute upper respiratory infections of...\n",
      "\n",
      "\n",
      "Group 3:\n",
      "Max Similarity: 0.9648430943489075\n",
      "Most Similar Record:\n",
      "34_year_old Adult Male Routine_chronic_problem General medical examination Obesity Normal_temperature Normal_blood_pressure Normal_diastolic_blood_pressure Local_Cancer Congestive_heart_failure Currently_enrolled_in_a_disease_management_program Chronic myeloid leukemia w/o mention ... Toxic myopathy Congestive heart failure\n",
      "\n",
      "Min Similarity: 0.7286646366119385\n",
      "Least Similar Record:\n",
      "35_year_old Adult Female Routine_chronic_problem Hypertension Diseases of the thyroid gland Prehypertension High_diastolic_blood_pressure Hypertension Unspecified essential hypertension Unspecified disorder of thyroid Pers hist oth genital syst obstetric di..\n",
      "\n",
      "\n",
      "Group 4:\n",
      "Max Similarity: 0.9745377898216248\n",
      "Most Similar Record:\n",
      "56_year_old Middle_Aged Male Tobacco_User New_problem (less than 3 months onset) For other and unspecified test results Diseases of the esophagus, stomach, a... Overweight Normal_temperature Hypertension High_diastolic_blood_pressure Depression Hyperlipidemia Hypertension Currently_enrolled_in_a_disease_management_program\n",
      "\n",
      "Min Similarity: 0.6842803955078125\n",
      "Least Similar Record:\n",
      "44_year_old Middle_Aged Male Acute_problem Venereal diseases Overweight Normal_temperature Hypertension High_diastolic_blood_pressure Hyperlipidemia Hypertension Currently_enrolled_in_a_disease_management_program Syphilis, unspecified Unspecified viral hepatitis C w/o hepatic coma Human immunodeficiency virus (HIV) di...\n",
      "\n",
      "\n",
      "Group 5:\n",
      "Max Similarity: 0.9756667613983154\n",
      "Most Similar Record:\n",
      "46_year_old Middle_Aged Female Routine_chronic_problem Shoulder pain, ache, soreness, discom... Arthritis Depression Hypertension Currently_enrolled_in_a_disease_management_program\n",
      "\n",
      "Min Similarity: 0.6200190782546997\n",
      "Least Similar Record:\n",
      "43_year_old Middle_Aged Male New_problem (less than 3 months onset) Abdominal pain, cramps, spasms, NOS Overweight Normal_temperature Prehypertension Normal_diastolic_blood_pressure No_chronic_condition Helicobacter pylori (H. pylori) infec...\n",
      "\n",
      "\n",
      "Group 6:\n",
      "Max Similarity: 0.9622213840484619\n",
      "Most Similar Record:\n",
      "11_year_old Child Male Routine_chronic_problem Other diseases of blood and blood-for... Underweight Normal_temperature Normal_blood_pressure Normal_diastolic_blood_pressure Cancer Currently_enrolled_in_a_disease_management_program Congenital factor VIII disorder\n",
      "\n",
      "Min Similarity: 0.6857848167419434\n",
      "Least Similar Record:\n",
      "16_year_old Teenager Male Pre_or_Post_surgery Gunshot wound Diagnostic radiology Cerebrovascular disease Underweight Normal_temperature Normal_blood_pressure Normal_diastolic_blood_pressure Cerebrovascular_disease Depression Anomalies of cerebrovascular system Cerebral thrombosis with cerebral inf...\n",
      "\n",
      "\n",
      "Group 7:\n",
      "Max Similarity: 0.9722737073898315\n",
      "Most Similar Record:\n",
      "59_year_old Middle_Aged Female Acute_problem Hand and finger pain, ache, soreness,... Overweight Normal_temperature Hypertension Normal_diastolic_blood_pressure Arthritis Diabetes Hypertension Currently_enrolled_in_a_disease_management_program Carpal tunnel syndrome\n",
      "\n",
      "Min Similarity: 0.6943210959434509\n",
      "Least Similar Record:\n",
      "43_year_old Middle_Aged Male Routine_chronic_problem Diabetes mellitus Obesity Normal_temperature Prehypertension Normal_diastolic_blood_pressure Diabetes Hyperlipidemia Hypertension Ordered_or_advised_to_enroll_in_a_disease_management_program Diabetes mellitus w/o complication, t...\n",
      "\n",
      "\n",
      "Group 8:\n",
      "Max Similarity: 0.9632669687271118\n",
      "Most Similar Record:\n",
      "7_year_old Child Female Preventive_care Carbuncle, furuncle, boil, cellulitis... Normal_temperature Asthma Currently_enrolled_in_a_disease_management_program Toxic effect of venom\n",
      "\n",
      "Min Similarity: 0.721975564956665\n",
      "Least Similar Record:\n",
      "2_year_old Toddler Male Disorders of motor functions Underweight Normal_temperature Normal_blood_pressure Normal_diastolic_blood_pressure No_chronic_condition Lack of coordination Other specified aftercare Other nonspecific abnormalserum enzym...\n",
      "\n",
      "\n",
      "Group 9:\n",
      "Max Similarity: 0.9746934175491333\n",
      "Most Similar Record:\n",
      "32_year_old Adult Female Routine_chronic_problem Vomiting Other endocrine, nutritional, and met... Obesity Normal_temperature Prehypertension Low_diastolic_blood_pressure Obesity Currently_enrolled_in_a_disease_management_program Examination following other treatment\n",
      "\n",
      "Min Similarity: 0.6556589007377625\n",
      "Least Similar Record:\n",
      "29_year_old Adult Female Pre_or_Post_surgery Unpredictable menstrual interval Obesity Normal_temperature Prehypertension Normal_diastolic_blood_pressure Obesity Routine gynecological examination Excessive or frequent menstruation Pers hist oth genital syst obstetric di..\n",
      "\n",
      "\n"
     ]
    },
    {
     "data": {
      "text/plain": [
       "{0: 0.9003002047538757,\n",
       " 1: 0.9007138609886169,\n",
       " 2: 0.9021046757698059,\n",
       " 3: 0.9003459215164185,\n",
       " 4: 0.8979995250701904,\n",
       " 5: 0.8970857262611389,\n",
       " 6: 0.8948230147361755,\n",
       " 7: 0.8999816179275513,\n",
       " 8: 0.9025943279266357,\n",
       " 9: 0.8974990248680115}"
      ]
     },
     "execution_count": 10,
     "metadata": {},
     "output_type": "execute_result"
    }
   ],
   "source": [
    "compare_to_groups(user_input, records_by_group)"
   ]
  },
  {
   "cell_type": "code",
   "execution_count": null,
   "metadata": {},
   "outputs": [],
   "source": []
  }
 ],
 "metadata": {
  "kernelspec": {
   "display_name": "base",
   "language": "python",
   "name": "python3"
  },
  "language_info": {
   "codemirror_mode": {
    "name": "ipython",
    "version": 3
   },
   "file_extension": ".py",
   "mimetype": "text/x-python",
   "name": "python",
   "nbconvert_exporter": "python",
   "pygments_lexer": "ipython3",
   "version": "3.11.6"
  }
 },
 "nbformat": 4,
 "nbformat_minor": 2
}
