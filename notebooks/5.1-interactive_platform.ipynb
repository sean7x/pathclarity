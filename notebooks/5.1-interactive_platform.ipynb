{
 "cells": [
  {
   "cell_type": "markdown",
   "metadata": {},
   "source": [
    "1. import necessary library"
   ]
  },
  {
   "cell_type": "code",
   "execution_count": 4,
   "metadata": {},
   "outputs": [],
   "source": [
    "import pandas as pd\n",
    "import dash\n",
    "from dash import html, dcc, Input, Output\n",
    "import plotly.graph_objs as go"
   ]
  },
  {
   "cell_type": "markdown",
   "metadata": {},
   "source": [
    "2. creat sample dataframe for testing, will replace by our dataset later"
   ]
  },
  {
   "cell_type": "code",
   "execution_count": 9,
   "metadata": {},
   "outputs": [],
   "source": [
    "# Define data as a DataFrame\n",
    "data = pd.DataFrame({\n",
    "    'symptom': ['Cough', 'Chest Pain', 'Short Breath', 'Headache', 'Fever', 'Abdominal Pain', 'Dizziness'],\n",
    "    'condition': ['Common Cold', 'Heart Attack', 'Asthma', 'Migraine', 'Influenza', 'Appendicitis', 'Low Blood Pressure'],\n",
    "    'department': ['General Medicine', 'Cardiology', 'Pulmonology', 'Neurology', 'General Medicine', 'Surgical', 'Cardiology']\n",
    "})\n"
   ]
  },
  {
   "cell_type": "code",
   "execution_count": 17,
   "metadata": {},
   "outputs": [
    {
     "data": {
      "text/html": [
       "\n",
       "        <iframe\n",
       "            width=\"100%\"\n",
       "            height=\"650\"\n",
       "            src=\"http://127.0.0.1:8050/\"\n",
       "            frameborder=\"0\"\n",
       "            allowfullscreen\n",
       "            \n",
       "        ></iframe>\n",
       "        "
      ],
      "text/plain": [
       "<IPython.lib.display.IFrame at 0x11fb91a50>"
      ]
     },
     "metadata": {},
     "output_type": "display_data"
    }
   ],
   "source": [
    "# Create a Dash app\n",
    "app = dash.Dash(__name__)\n",
    "\n",
    "app.layout = html.Div([\n",
    "    html.H1(\"Health Check Interactive Platform\"),\n",
    "    dcc.Input(id='age', type='number', placeholder='Age', style={'margin-left': '10px'}),\n",
    "    dcc.Dropdown(\n",
    "        id='gender-dropdown',\n",
    "        options=[\n",
    "            {'label': 'Male', 'value': 'Male'},\n",
    "            {'label': 'Female', 'value': 'Female'},\n",
    "            {'label': 'Diversity', 'value': 'Diversity'}\n",
    "        ],\n",
    "        placeholder=\"Select Gender\",\n",
    "        style={'width': '200px', 'margin-right': '10px'}\n",
    "    ),\n",
    "    dcc.Dropdown(\n",
    "        id='symptom-dropdown',\n",
    "        options=[{'label': s, 'value': s} for s in data['symptom'].unique()],\n",
    "        placeholder=\"Select a symptom\",\n",
    "        style={'width': '50%', 'margin-top': '10px', 'margin-bottom': '10px'}\n",
    "    ),\n",
    "    html.Button('Submit', id='submit-button', n_clicks=0, style={'margin-bottom': '10px'}),\n",
    "    html.Div(id='output-container')\n",
    "])\n",
    "\n",
    "\n",
    "@app.callback(\n",
    "    Output('output-container', 'children'),\n",
    "    [Input('submit-button', 'n_clicks')],\n",
    "    [dash.dependencies.State('age', 'value'),\n",
    "     dash.dependencies.State('gender-dropdown', 'value'),\n",
    "     dash.dependencies.State('symptom-dropdown', 'value')]\n",
    ")\n",
    "def update_output(n_clicks, age, gender, symptom):\n",
    "    if n_clicks > 0:\n",
    "        result = data[data['symptom'] == symptom]\n",
    "        if not result.empty:\n",
    "            condition = result['condition'].values[0]\n",
    "            department = result['department'].values[0]\n",
    "            return html.Div([\n",
    "                html.H3(f\"Based on the symptom: {symptom}\"),\n",
    "                html.P(f\"Age: {age}\"),\n",
    "                html.P(f\"Gender: {gender}\"),\n",
    "                html.P(f\"Possible Condition: {condition}\"),\n",
    "                html.P(f\"Recommended Department: {department}\"),\n",
    "            ])\n",
    "        else:\n",
    "            return html.H3(\"No results found for the selected symptom.\")\n",
    "    return html.Div()\n",
    "\n",
    "\n",
    "if __name__ == '__main__':\n",
    "    app.run_server(debug=True)\n"
   ]
  },
  {
   "cell_type": "code",
   "execution_count": null,
   "metadata": {},
   "outputs": [],
   "source": []
  }
 ],
 "metadata": {
  "kernelspec": {
   "display_name": "base",
   "language": "python",
   "name": "python3"
  },
  "language_info": {
   "codemirror_mode": {
    "name": "ipython",
    "version": 3
   },
   "file_extension": ".py",
   "mimetype": "text/x-python",
   "name": "python",
   "nbconvert_exporter": "python",
   "pygments_lexer": "ipython3",
   "version": "3.11.5"
  }
 },
 "nbformat": 4,
 "nbformat_minor": 2
}
