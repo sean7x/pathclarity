{
 "cells": [
  {
   "cell_type": "markdown",
   "metadata": {},
   "source": [
    "1. import necessary library"
   ]
  },
  {
   "cell_type": "code",
   "execution_count": 1,
   "metadata": {},
   "outputs": [],
   "source": [
    "import pandas as pd\n",
    "import dash\n",
    "from dash import html, dcc, Input, Output\n",
    "import plotly.graph_objs as go"
   ]
  },
  {
   "cell_type": "markdown",
   "metadata": {},
   "source": [
    "2. creat sample dataframe for testing, will replace by our dataset later"
   ]
  },
  {
   "cell_type": "code",
   "execution_count": 27,
   "metadata": {},
   "outputs": [],
   "source": [
    "# Define data as a DataFrame\n",
    "data = pd.DataFrame({\n",
    "    'symptom': [\n",
    "        'Cough', 'Chest Pain', 'Short Breath', 'Headache', 'Fever', 'Abdominal Pain', 'Dizziness', \n",
    "        'Abdominal Pain', 'Vomiting', 'Missed Period', 'Swelling', 'Chest Pain'\n",
    "    ],\n",
    "    'condition': [\n",
    "        'Common Cold', 'Heart Attack', 'Asthma', 'Migraine', 'Influenza', 'Appendicitis', 'Low Blood Pressure',\n",
    "        'Gallstones', 'Food Poisoning', 'Pregnancy', 'Heart Failure', 'Anxiety'\n",
    "    ],\n",
    "    'department': [\n",
    "        'General Medicine', 'Cardiology', 'Pulmonology', 'Neurology', 'General Medicine', 'Surgical', 'Cardiology',\n",
    "        'Surgical', 'Gastroenterology', 'Obstetrics', 'Cardiology', 'Psychiatry'\n",
    "    ],\n",
    "    'age_range': [\n",
    "        'Any', 'Adults', 'Any', 'Any', 'Any', 'Adults', 'Adults',\n",
    "        'Adults', 'Any', 'Adults', 'Elderly', 'Adults'\n",
    "    ],\n",
    "    'gender': [\n",
    "        'Any', 'Any', 'Any', 'Any', 'Any', 'Any', 'Any',\n",
    "        'Any', 'Any', 'Female', 'Any', 'Any'\n",
    "    ],\n",
    "    'nature': [\n",
    "        'Acute', 'Acute', 'Chronic', 'Chronic', 'Acute', 'Acute', 'Chronic',\n",
    "        'Chronic', 'Acute', 'Chronic', 'Chronic', 'Acute'\n",
    "    ],\n",
    "     'confidence_interval': [\n",
    "        '95-99%', '90-95%', '85-90%', '80-85%', '75-80%', '95-99%', '90-95%',\n",
    "        '85-90%', '80-85%', '95-99%', '75-80%', '70-75%'\n",
    "    ]\n",
    "})\n"
   ]
  },
  {
   "cell_type": "code",
   "execution_count": 29,
   "metadata": {},
   "outputs": [
    {
     "data": {
      "text/html": [
       "\n",
       "        <iframe\n",
       "            width=\"100%\"\n",
       "            height=\"650\"\n",
       "            src=\"http://127.0.0.1:8050/\"\n",
       "            frameborder=\"0\"\n",
       "            allowfullscreen\n",
       "            \n",
       "        ></iframe>\n",
       "        "
      ],
      "text/plain": [
       "<IPython.lib.display.IFrame at 0x12fecf5d0>"
      ]
     },
     "metadata": {},
     "output_type": "display_data"
    }
   ],
   "source": [
    "# Create a Dash app\n",
    "app = dash.Dash(__name__)\n",
    "\n",
    "app.layout = html.Div([\n",
    "    html.H1(\"Health Self-Check Interactive Platform\", style={'color': '#007BFF'}),\n",
    "    dcc.Dropdown(\n",
    "        id='nature-dropdown',\n",
    "        options=[\n",
    "            {'label': 'Chronic', 'value': 'Chronic'},\n",
    "            {'label': 'Acute', 'value': 'Acute'}\n",
    "        ],\n",
    "        placeholder=\"Select Problem Nature\",\n",
    "        style={'width': '200px'}\n",
    "    ),\n",
    "    dcc.Dropdown(\n",
    "        id='age-group-dropdown',\n",
    "        options=[\n",
    "            {'label': 'Children (0-12)', 'value': 'Children'},\n",
    "            {'label': 'Teenagers (13-19)', 'value': 'Teenagers'},\n",
    "            {'label': 'Adults (20-64)', 'value': 'Adults'},\n",
    "            {'label': 'Seniors (65+)', 'value': 'Seniors'}\n",
    "        ],\n",
    "        placeholder=\"Select Age Group\",\n",
    "        style={'margin-right': '10px', 'width': '200px'}\n",
    "    ),\n",
    "    dcc.Dropdown(\n",
    "        id='gender-dropdown',\n",
    "        options=[\n",
    "            {'label': 'Male', 'value': 'Male'},\n",
    "            {'label': 'Female', 'value': 'Female'},\n",
    "            {'label': 'Diversity', 'value': 'Diversity'}\n",
    "        ],\n",
    "        placeholder=\"Select Gender\",\n",
    "        style={'width': '200px', 'margin-right': '10px'}\n",
    "    ),\n",
    "    dcc.Dropdown(\n",
    "        id='symptom-dropdown',\n",
    "        options=[{'label': s, 'value': s} for s in data['symptom'].unique()],\n",
    "        placeholder=\"Select a symptom\",\n",
    "        style={'width': '50%', 'margin-top': '0px', 'margin-bottom': '10px'}\n",
    "    ),\n",
    "    html.Button('Submit', id='submit-button', n_clicks=0, style={'margin-bottom': '10px',  'background-color': '#28A745', 'color': 'white'}),\n",
    "    html.Div(id='output-container',style={'margin-top': '20px', 'color': '#17A2B8', 'background-color': 'white', 'padding': '10px', 'border-radius': '5px', 'border': '2px solid #dee2e6'})\n",
    "])\n",
    "\n",
    "@app.callback(\n",
    "    Output('output-container', 'children'),\n",
    "    [Input('submit-button', 'n_clicks')],\n",
    "    [dash.dependencies.State('nature-dropdown','value'),\n",
    "     dash.dependencies.State('age-group-dropdown', 'value'),\n",
    "     dash.dependencies.State('gender-dropdown', 'value'),\n",
    "     dash.dependencies.State('symptom-dropdown', 'value')\n",
    "     ]\n",
    ")\n",
    "def update_output(n_clicks, nature, age, gender, symptom):\n",
    "    if n_clicks > 0:\n",
    "        if not all([age, nature, gender, symptom]):\n",
    "            return html.Div([\n",
    "                html.H3(\"Please fill out all fields.\", style={'color': 'red'}),\n",
    "            ])\n",
    "        result = data[data['symptom'].str.lower() == symptom.lower()]\n",
    "        if not result.empty:\n",
    "           condition = result['condition'].values[0]\n",
    "           department = result['department'].values[0]\n",
    "           confidence = result['confidence_interval'].values[0]\n",
    "           return html.Div([\n",
    "                html.H3(f\"Results for the input:\", style={'color': 'green'}),\n",
    "                html.P(f\"It is a {nature} problem.\"),\n",
    "                html.P(f\"Symptom: {symptom}\"),\n",
    "                html.P(f\"Age: {age}\"),\n",
    "                html.P(f\"Gender: {gender}\"),\n",
    "                html.P(f\"Possible Condition: {condition}\", style={'font-weight': 'bold'}),\n",
    "                html.P(f\"Recommended Department: {department}\", style={'background-color': '#FFC107', 'color': 'black'}),\n",
    "                html.P(f\"Confidence Interval: {confidence}\", style={'color': '#28A745'}),\n",
    "            ], style={'width': '50%','border': '2px solid green', 'padding': '10px', 'border-radius': '5px','background-color': 'white'})\n",
    "        else:\n",
    "            return html.Div([\n",
    "                html.H3(\"No results found for the selected symptom.\", style={'color': 'red'})\n",
    "            ])\n",
    "    return html.Div()\n",
    "\n",
    "\n",
    "if __name__ == '__main__':\n",
    "    app.run_server(debug=True)\n"
   ]
  },
  {
   "cell_type": "code",
   "execution_count": null,
   "metadata": {},
   "outputs": [],
   "source": []
  }
 ],
 "metadata": {
  "kernelspec": {
   "display_name": "base",
   "language": "python",
   "name": "python3"
  },
  "language_info": {
   "codemirror_mode": {
    "name": "ipython",
    "version": 3
   },
   "file_extension": ".py",
   "mimetype": "text/x-python",
   "name": "python",
   "nbconvert_exporter": "python",
   "pygments_lexer": "ipython3",
   "version": "3.11.5"
  }
 },
 "nbformat": 4,
 "nbformat_minor": 2
}
