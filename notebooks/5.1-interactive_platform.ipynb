{
 "cells": [
  {
   "cell_type": "markdown",
   "metadata": {},
   "source": [
    "1. import necessary library"
   ]
  },
  {
   "cell_type": "code",
   "execution_count": 1,
   "metadata": {},
   "outputs": [],
   "source": [
    "import pandas as pd\n",
    "import dash\n",
    "from dash import html, dcc, Input, Output\n",
    "import plotly.graph_objs as go"
   ]
  },
  {
   "cell_type": "markdown",
   "metadata": {},
   "source": [
    "2. creat sample dataframe for testing, will replace by our dataset later"
   ]
  },
  {
   "cell_type": "code",
   "execution_count": 4,
   "metadata": {},
   "outputs": [],
   "source": [
    "# Define data as a DataFrame\n",
    "data = pd.DataFrame({\n",
    "    'symptom': [\n",
    "        'Cough', 'Chest Pain', 'Short Breath', 'Headache', 'Fever', 'Abdominal Pain', 'Dizziness', \n",
    "        'Abdominal Pain', 'Vomiting', 'Missed Period', 'Swelling', 'Chest Pain'\n",
    "    ],\n",
    "    'condition': [\n",
    "        'Common Cold', 'Heart Attack', 'Asthma', 'Migraine', 'Influenza', 'Appendicitis', 'Low Blood Pressure',\n",
    "        'Gallstones', 'Food Poisoning', 'Pregnancy', 'Heart Failure', 'Anxiety'\n",
    "    ],\n",
    "    'department': [\n",
    "        'General Medicine', 'Cardiology', 'Pulmonology', 'Neurology', 'General Medicine', 'Surgical', 'Cardiology',\n",
    "        'Surgical', 'Gastroenterology', 'Obstetrics', 'Cardiology', 'Psychiatry'\n",
    "    ],\n",
    "    'age_range': [\n",
    "        'Any', 'Adult', 'Any', 'Any', 'Any', 'Adult', 'Adult',\n",
    "        'Adult', 'Any', 'Adult', 'Elderly', 'Adult'\n",
    "    ],\n",
    "    'gender': [\n",
    "        'Any', 'Any', 'Any', 'Any', 'Any', 'Any', 'Any',\n",
    "        'Any', 'Any', 'Female', 'Any', 'Any'\n",
    "    ]\n",
    "})\n"
   ]
  },
  {
   "cell_type": "code",
   "execution_count": 7,
   "metadata": {},
   "outputs": [
    {
     "data": {
      "text/html": [
       "\n",
       "        <iframe\n",
       "            width=\"100%\"\n",
       "            height=\"650\"\n",
       "            src=\"http://127.0.0.1:8050/\"\n",
       "            frameborder=\"0\"\n",
       "            allowfullscreen\n",
       "            \n",
       "        ></iframe>\n",
       "        "
      ],
      "text/plain": [
       "<IPython.lib.display.IFrame at 0x12ad84e10>"
      ]
     },
     "metadata": {},
     "output_type": "display_data"
    }
   ],
   "source": [
    "# Create a Dash app\n",
    "app = dash.Dash(__name__)\n",
    "\n",
    "app.layout = html.Div([\n",
    "    html.H1(\"Health Check Interactive Platform\", style={'color': '#007BFF'}),\n",
    "    \n",
    "    dcc.Dropdown(\n",
    "        id='age-group-dropdown',\n",
    "        options=[\n",
    "            {'label': 'Children (0-12)', 'value': 'Children'},\n",
    "            {'label': 'Teenagers (13-19)', 'value': 'Teenagers'},\n",
    "            {'label': 'Adults (20-64)', 'value': 'Adults'},\n",
    "            {'label': 'Seniors (65+)', 'value': 'Seniors'}\n",
    "        ],\n",
    "        placeholder=\"Select Age Group\",\n",
    "        style={'margin-right': '10px', 'width': '200px'}\n",
    "    ),\n",
    "    dcc.Dropdown(\n",
    "        id='gender-dropdown',\n",
    "        options=[\n",
    "            {'label': 'Male', 'value': 'Male'},\n",
    "            {'label': 'Female', 'value': 'Female'},\n",
    "            {'label': 'Diversity', 'value': 'Diversity'}\n",
    "        ],\n",
    "        placeholder=\"Select Gender\",\n",
    "        style={'width': '200px', 'margin-right': '10px'}\n",
    "    ),\n",
    "    dcc.Dropdown(\n",
    "        id='symptom-dropdown',\n",
    "        options=[{'label': s, 'value': s} for s in data['symptom'].unique()],\n",
    "        placeholder=\"Select a symptom\",\n",
    "        style={'width': '50%', 'margin-top': '10px', 'margin-bottom': '10px'}\n",
    "    ),\n",
    "    html.Button('Submit', id='submit-button', n_clicks=0, style={'margin-bottom': '10px',  'background-color': '#28A745', 'color': 'white'}),\n",
    "    html.Div(id='output-container',style={'margin-top': '20px', 'color': '#17A2B8', 'background-color': 'white', 'padding': '10px', 'border-radius': '5px', 'border': '2px solid #dee2e6'})\n",
    "])\n",
    "\n",
    "\n",
    "@app.callback(\n",
    "    Output('output-container', 'children'),\n",
    "    [Input('submit-button', 'n_clicks')],\n",
    "    [dash.dependencies.State('age-group-dropdown', 'value'),\n",
    "     dash.dependencies.State('gender-dropdown', 'value'),\n",
    "     dash.dependencies.State('symptom-dropdown', 'value')]\n",
    ")\n",
    "def update_output(n_clicks, age, gender, symptom):\n",
    "    if n_clicks > 0:\n",
    "        if not all([age, gender, symptom]):\n",
    "            return html.Div([\n",
    "                html.H3(\"Please fill out all fields.\", style={'color': 'red'}),\n",
    "            ])\n",
    "        result = data[data['symptom'].str.lower() == symptom.lower()]\n",
    "        if not result.empty:\n",
    "           condition = result['condition'].values[0]\n",
    "           department = result['department'].values[0]\n",
    "           return html.Div([\n",
    "                html.H3(f\"Results for the input:\", style={'color': 'green'}),\n",
    "                html.P(f\"Symptom: {symptom}\"),\n",
    "                html.P(f\"Age: {age}\"),\n",
    "                html.P(f\"Gender: {gender}\"),\n",
    "                html.P(f\"Possible Condition: {condition}\", style={'font-weight': 'bold'}),\n",
    "                html.P(f\"Recommended Department: {department}\", style={'background-color': '#FFC107', 'color': 'black'}),\n",
    "            ], style={'border': '2px solid green', 'padding': '10px', 'border-radius': '5px','background-color': 'white'})\n",
    "        else:\n",
    "            return html.Div([\n",
    "                html.H3(\"No results found for the selected symptom.\", style={'color': 'red'})\n",
    "            ])\n",
    "    return html.Div()\n",
    "\n",
    "\n",
    "if __name__ == '__main__':\n",
    "    app.run_server(debug=True)\n"
   ]
  },
  {
   "cell_type": "code",
   "execution_count": null,
   "metadata": {},
   "outputs": [],
   "source": []
  }
 ],
 "metadata": {
  "kernelspec": {
   "display_name": "base",
   "language": "python",
   "name": "python3"
  },
  "language_info": {
   "codemirror_mode": {
    "name": "ipython",
    "version": 3
   },
   "file_extension": ".py",
   "mimetype": "text/x-python",
   "name": "python",
   "nbconvert_exporter": "python",
   "pygments_lexer": "ipython3",
   "version": "3.11.5"
  }
 },
 "nbformat": 4,
 "nbformat_minor": 2
}
